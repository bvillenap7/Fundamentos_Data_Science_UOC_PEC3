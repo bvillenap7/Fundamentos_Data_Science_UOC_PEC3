{
 "cells": [
  {
   "cell_type": "markdown",
   "source": [
    "Fundamentos de Programación\n",
    "============================\n",
    "\n",
    "\n",
    "En este Notebook se encontraréis el conjunto de actividades evaluables como PEC de la asignatura. Veréis que cada una de ellas tiene asociada una puntuación, que indica el peso que tiene la actividad sobre la nota final de la PEC. Adicionalmente, hay un ejercicio opcional, que no tiene puntuación dentro de la PEC, pero que se valora al final del semestre de cara a conceder las matrículas de honor y redondear las notas finales. Podréis sacar la máxima nota de la PEC sin necesidad de hacer este ejercicio. El objetivo de este ejercicio es que sirva como pequeño reto para los estudiantes que quieran profundizar en el contenido de la asignatura.\n",
    "\n",
    "Veréis que todas las actividades de la PEC tienen una etiqueta, que indica los recursos necesarios para llevarla a cabo. Hay tres posibles etiquetas:\n",
    "\n",
    "* <span style=\"font-family: Courier New; background-color: #82b74b; color: #000000; padding: 3px; \">NM</span> **Sólo materiales**: las herramientas necesarias para realizar la actividad se pueden encontrar en los materiales de la asignatura.\n",
    "\n",
    "* <span style = \"font-family: Courier New; background-color: #ffcc5c; color: #000000; padding: 3px; \">EG</span> **Consulta externa guiada**: la actividad puede requerir hacer uso de herramientas que no se encuentran en los materiales de la asignatura, pero el enunciado contiene indicaciones de dónde o cómo encontrar la información adicional necesaria para resolver la actividad.\n",
    "\n",
    "* <span style = \"font-family: Courier New; background-color: #f2ae72; color: #000000; padding: 3px;\">EI</span> **Consulta externa independiente**: la actividad puede requerir hacer uso de herramientas que no se encuentran en los materiales de la asignatura, y el enunciado puede no incluir la descripción de dónde o cómo encontrar esta información adicional. Será necesario que el estudiante busque esta información utilizando los recursos que se han explicado en la asignatura.\n",
    "\n",
    "Es importante notar que estas etiquetas no indican el nivel de dificultad del ejercicio, sino únicamente la necesidad de consulta de documentación externa para su resolución. Además, recordad que las **etiquetas son informativas**, pero podréis consultar referencias externas en cualquier momento (aunque no se indique explícitamente) o puede ser que podáis hacer una actividad sin consultar ningún tipo de documentación. Por ejemplo, para resolver una actividad que sólo requiera los materiales de la asignatura, puedéis consultar referencias externas si queréis, ya sea tanto para ayudaros en la resolución como para ampliar el conocimiento!\n",
    "\n",
    "En cuanto a la consulta de documentación externa en la resolución de los ejercicios, recordad **citar siempre la bibliografía utilizada** para resolver cada actividad.\n",
    "\n",
    "---"
   ],
   "metadata": {
    "collapsed": false,
    "pycharm": {
     "name": "#%% md\n"
    }
   }
  },
  {
   "cell_type": "markdown",
   "metadata": {},
   "source": [
    "### Ejercicio 1\n",
    "\n",
    "Dada la lista:"
   ]
  },
  {
   "cell_type": "code",
   "execution_count": 1,
   "metadata": {
    "pycharm": {
     "name": "#%%\n"
    }
   },
   "outputs": [],
   "source": [
    "lst = [1, 5, 7, 13, 22, 15, 26, 64, 34, 72, 52, 14]"
   ]
  },
  {
   "cell_type": "markdown",
   "metadata": {
    "pycharm": {
     "name": "#%% md\n"
    }
   },
   "source": [
    "a) Recorre la lista y muestra el índice y el valor de cada posición. <span style=\"font-family: Courier New; background-color: #82b74b; color: #000000; padding: 3px; \">NM</span> **(0.5 puntos)**"
   ]
  },
  {
   "cell_type": "code",
   "execution_count": 2,
   "metadata": {
    "pycharm": {
     "name": "#%%\n"
    }
   },
   "outputs": [],
   "source": [
    "# Respuesta:\n"
   ]
  },
  {
   "cell_type": "markdown",
   "metadata": {},
   "source": [
    "b) Recorre la lista y muestra el índice y valor de cada posición, solo si el valor es múltiplo de 3. <span style=\"font-family: Courier New; background-color: #82b74b; color: #000000; padding: 3px; \">NM</span> **(0.5 puntos)**"
   ]
  },
  {
   "cell_type": "code",
   "execution_count": 3,
   "metadata": {
    "pycharm": {
     "name": "#%%\n"
    }
   },
   "outputs": [],
   "source": [
    "# Respuesta:\n"
   ]
  },
  {
   "cell_type": "markdown",
   "metadata": {},
   "source": [
    "c) Recorre las posiciones pares de la lista, iniciando en el índice 0, y muestra su valor si este es menor a 25. <span style=\"font-family: Courier New; background-color: #82b74b; color: #000000; padding: 3px; \">NM</span> **(0.5 puntos)**"
   ]
  },
  {
   "cell_type": "code",
   "execution_count": 4,
   "outputs": [],
   "source": [
    "# Respuesta:\n"
   ],
   "metadata": {
    "collapsed": false,
    "pycharm": {
     "name": "#%%\n"
    }
   }
  },
  {
   "cell_type": "markdown",
   "source": [
    "\n",
    "d) Podemos ver que la lista no esta ordenada, podríamos crear una función que la ordenara... pero ya existe una función que nos permite hacer esto. Utiliza la función sort() y muestra el resultado tras ordenar la lista de menor a mayor. <span style = \"font-family: Courier New; background-color: #ffcc5c; color: #000000; padding: 3px; \">EG</span> **(0.5 puntos)**\n",
    "\n",
    "**Nota:** Podemos consultar como utilizar sort() en la documentación de Python, o en la siguiente referencia https://stackoverflow.com/questions/19199984/sort-a-list-in-python"
   ],
   "metadata": {
    "collapsed": false
   }
  },
  {
   "cell_type": "code",
   "execution_count": 5,
   "metadata": {
    "pycharm": {
     "name": "#%%\n"
    }
   },
   "outputs": [],
   "source": [
    "# Respuesta:\n"
   ]
  },
  {
   "cell_type": "markdown",
   "metadata": {},
   "source": [
    "e) ¿Podrías mostrar la lista ordenada ahora de mayor a menor? <span style = \"font-family: Courier New; background-color: #ffcc5c; color: #000000; padding: 3px; \">EG</span>\n",
    "**(0.5 puntos)**\n",
    "\n",
    "**Nota:** Podemos consultar como utilizar sort() en la documentación de Python, o en  siguiente referencia https://stackoverflow.com/questions/19199984/sort-a-list-in-python"
   ]
  },
  {
   "cell_type": "code",
   "execution_count": 6,
   "metadata": {
    "pycharm": {
     "name": "#%%\n"
    }
   },
   "outputs": [],
   "source": [
    "# Respuesta:\n"
   ]
  },
  {
   "cell_type": "markdown",
   "source": [
    "### Ejercicio 2\n",
    "\n",
    "Python dispone de un **idiom** muy útil conocido como **list comprehension**. Utilizando este idiom,\n",
    "proporcionad **una** expresión que devuelva las listas siguientes.\n",
    "\n",
    "**Nota:**  Para realizar esta actividad necesitaréis investigar qué son las list comprehension y\n",
    "qué sintaxis utilizan. Para ello, se recomienda en primer lugar que utilicéis un buscador para encontrar\n",
    "información genérica sobre esta construcción. Después, os recomendamos que consultéis\n",
    "stackoverflow para ver algunos ejemplos de problemas que se pueden resolver con esta construcción.\n",
    "stackoverflow es un sitio de preguntas-y-respuestas muy popular entre programadores.\n",
    "\n",
    "Veréis que para la gran mayoría de las dudas que tengáis, habrá alguien que ya les habrá tenido (y consultado)\n",
    "anteriormente! Así pues, más allá de preguntar vosotros mismos las dudas allí (nosotros\n",
    "ya tenemos el foro del aula para ello!), consultar esta web os permitirá ver qué soluciones proponen\n",
    "otros programadores a estas dudas. A menudo habrá más de una solución a un mismo\n",
    "problema, y podréis valorar cuál es la más adecuada para vuestro problema.\n",
    "\n",
    "Para ver ejemplos de problemas que son adecuados para resolver con list comprehensions, os recomendamos las siguientes referencias:\n",
    "\n",
    "* https://stackoverflow.com/questions/12555443/squaring-all-elements-in-a-list\n",
    "* https://stackoverflow.com/questions/57166908/using-list-comprehension-i-want-to-print-odd-even-with-string-indicating-even/57167016\n",
    "\n",
    "\n",
    "a) Obtén con una sola expresion, una lista con el cuadrado más uno ($x^{2}$+1) de cada valor de la lista. <span style = \"font-family: Courier New; background-color: #ffcc5c; color: #000000; padding: 3px; \">EG</span> **(0.5 puntos)**"
   ],
   "metadata": {
    "collapsed": false
   }
  },
  {
   "cell_type": "code",
   "execution_count": 7,
   "outputs": [],
   "source": [
    "lst = [1, 5, 7, 13, 22, 15, 26, 64, 34, 72, 52, 14]\n",
    "\n",
    "# Respuesta:\n"
   ],
   "metadata": {
    "collapsed": false,
    "pycharm": {
     "name": "#%%\n"
    }
   }
  },
  {
   "cell_type": "markdown",
   "source": [
    "\n",
    "b) Obtén ahora, también con una expresión, una lista con los strings \"Odd\" y \"Even\" en función de si el número de la lista proporcionada es par o impar. <span style = \"font-family: Courier New; background-color: #ffcc5c; color: #000000; padding: 3px; \">EG</span> **(0.5 puntos)**"
   ],
   "metadata": {
    "collapsed": false
   }
  },
  {
   "cell_type": "code",
   "execution_count": 8,
   "outputs": [],
   "source": [
    "lst = [1, 5, 7, 13, 22, 15, 26, 64, 34, 72, 52, 14]\n",
    "\n",
    "# Respuesta:\n"
   ],
   "metadata": {
    "collapsed": false,
    "pycharm": {
     "name": "#%%\n"
    }
   }
  },
  {
   "cell_type": "markdown",
   "source": [
    "\n",
    "\n",
    "\n",
    "### Ejercicio 3\n",
    "\n",
    "Hace poco más de 10 años, la guipuzcoana Edurne Pasaban se convertía en la primera alpinista en coronar los catorce picos con una altura superior a 8000 metros del planeta. Elizabeth Hawley, conocida como la notaria del Himalaya, así lo reconoció tras no considerar clara una ascensión de la coreana Miss Oh que afirmaba haberlo logrado con anterioridad.\n",
    "\n",
    "**Nota:** Podemos ver los picos de los que hablamos en la siguiente referencia https://en.wikipedia.org/wiki/Eight-thousander\n",
    "\n",
    "a) Genera un diccionario, usando el nombre del pico como clave y la altitud (en metros) como valor. <span style = \"font-family: Courier New; background-color: #ffcc5c; color: #000000; padding: 3px; \">EG</span> **(0.5 puntos)**"
   ],
   "metadata": {
    "collapsed": false
   }
  },
  {
   "cell_type": "code",
   "execution_count": 9,
   "metadata": {
    "pycharm": {
     "name": "#%%\n"
    }
   },
   "outputs": [],
   "source": [
    "# Respuesta:\n"
   ]
  },
  {
   "cell_type": "markdown",
   "metadata": {},
   "source": [
    "b) Recorre el diccionario y muestra el nombre de los picos con una altura superior a los 8200 metros. <span style=\"font-family: Courier New; background-color: #82b74b; color: #000000; padding: 3px; \">NM</span> **(0.5 puntos)**"
   ]
  },
  {
   "cell_type": "code",
   "execution_count": 10,
   "metadata": {
    "pycharm": {
     "name": "#%%\n"
    }
   },
   "outputs": [],
   "source": [
    "# Respuesta:\n"
   ]
  },
  {
   "cell_type": "markdown",
   "metadata": {},
   "source": [
    "Superar los 8000 metros parece un reto muy importante, pero muchos países anglófonos como Estados Unidos, Canadá o el Reino Unido, utilizan el pie como unidad de medida.\n",
    "\n",
    "Si sabemos que un pie equivale a 0.3048 metros\n",
    "\n",
    "c) Crea una función que tenga como entrada un valor numérico en metros y retorne la misma distancia en pies. Muestra como ejemplo la equivalencia en pies a 8848 metros. <span style=\"font-family: Courier New; background-color: #82b74b; color: #000000; padding: 3px; \">NM</span> **(1 punto)**"
   ]
  },
  {
   "cell_type": "code",
   "execution_count": 11,
   "metadata": {
    "pycharm": {
     "name": "#%%\n"
    }
   },
   "outputs": [],
   "source": [
    "# Respuesta:\n"
   ]
  },
  {
   "cell_type": "markdown",
   "metadata": {},
   "source": [
    "d) Utilizando la función definida anteriormente muestra el valor de altitud de todos los picos en pies (recorriendo el diccionario, pero sin modificar el valor en metros). <span style=\"font-family: Courier New; background-color: #82b74b; color: #000000; padding: 3px; \">NM</span> **(0.5 puntos)**"
   ]
  },
  {
   "cell_type": "code",
   "execution_count": 12,
   "metadata": {
    "pycharm": {
     "name": "#%%\n"
    }
   },
   "outputs": [],
   "source": [
    "# Respuesta:\n"
   ]
  },
  {
   "cell_type": "markdown",
   "metadata": {},
   "source": [
    "e) Es posible que tras la conversion, se haya mostrado la altura con muchos decimales. Modifica la función implementada anteriormente para redondear el valor con un decimal, y vuelve a mostrar el resultado. <span style = \"font-family: Courier New; background-color: #ffcc5c; color: #000000; padding: 3px; \">EG</span> **(1 punto)**\n",
    "\n",
    "**Nota:** Podemos consultar como utilizar round() en la documentación de Python, o en la siguiente referencia: https://stackoverflow.com/questions/13479163/round-float-to-x-decimals/22155830"
   ]
  },
  {
   "cell_type": "code",
   "execution_count": 13,
   "metadata": {
    "pycharm": {
     "name": "#%%\n"
    }
   },
   "outputs": [],
   "source": [
    "# Respuesta:\n"
   ]
  },
  {
   "cell_type": "markdown",
   "metadata": {},
   "source": [
    "### Ejercicio 4\n",
    "Alguna noche habremos mirado atentamente al cielo, observando las estrellas. Quizás también hayamos visto, sin saberlo, alguno de los satélites que orbitan alrededor de la Tierra.\n",
    "En Enero del 2020 existían más de 2500. En el fichero 'UCS-Satellite-Database.csv', podemos encontrar alguna información básica sobre ellos.\n",
    "Esta información ha sido obtenida de la siguiente web https://www.ucsusa.org/resources/satellite-database .\n",
    "\n",
    "El fichero con el formato Comma Separated File (CSV) tiene tres columnas de información, separadas entre ellas con un punto y coma, como podéis ver si visualizáis el fichero en un editor de texto.\n",
    "La primera fila contiene la cabecera, que define cada una de las columnas.\n",
    "La primera columna define el tipo de uso del satélite, la segunda su nombre, y la última, el país del propietario.\n",
    "\n",
    "a) Abre el fichero, recórrelo fila a fila, y obtén el numero total de satélites, y cuántos de ellos son de uso exclusivamente Civil. <span style=\"font-family: Courier New; background-color: #82b74b; color: #000000; padding: 3px; \">NM</span> **(1.5 puntos)**\n"
   ]
  },
  {
   "cell_type": "code",
   "execution_count": 14,
   "metadata": {
    "pycharm": {
     "name": "#%%\n"
    }
   },
   "outputs": [],
   "source": [
    "# Respuesta:\n"
   ]
  },
  {
   "cell_type": "markdown",
   "metadata": {},
   "source": [
    "b) Escribe esta vez en un segundo fichero, que se llame 'Civil-Satellite-Database.csv', la segunda y tercera columna (Nombre y País) de los satélites de uso exclusivamente Civil.\n",
    "Visualiza el fichero creado tras ejecutar el código, para asegurarte que contiene la información y formato esperado. <span style=\"font-family: Courier New; background-color: #82b74b; color: #000000; padding: 3px; \">NM</span> **(1.5 puntos)**"
   ]
  },
  {
   "cell_type": "code",
   "execution_count": 15,
   "metadata": {
    "pycharm": {
     "name": "#%%\n"
    }
   },
   "outputs": [],
   "source": [
    "# Respuesta:\n"
   ]
  },
  {
   "cell_type": "markdown",
   "metadata": {
    "pycharm": {
     "name": "#%% md\n"
    }
   },
   "source": [
    "c) Realiza de nuevo el apartado a) pero esta vez utilizando alguna librería de python que automatice la lectura del fichero csv. <span style = \"font-family: Courier New; background-color: #f2ae72; color: #000000; padding: 3px;\">EI</span> **(OPCIONAL)**\n",
    "\n",
    "**NOTA**: Puedes consultar en  https://docs.python.org/3.7/library/csv.html"
   ]
  },
  {
   "cell_type": "code",
   "execution_count": 16,
   "outputs": [],
   "source": [
    "# Respuesta:\n"
   ],
   "metadata": {
    "collapsed": false,
    "pycharm": {
     "name": "#%%\n"
    }
   }
  },
  {
   "cell_type": "markdown",
   "source": [
    "\n"
   ],
   "metadata": {
    "collapsed": false
   }
  }
 ],
 "metadata": {
  "kernelspec": {
   "display_name": "Python 3",
   "language": "python",
   "name": "python3"
  },
  "language_info": {
   "codemirror_mode": {
    "name": "ipython",
    "version": 3
   },
   "file_extension": ".py",
   "mimetype": "text/x-python",
   "name": "python",
   "nbconvert_exporter": "python",
   "pygments_lexer": "ipython3",
   "version": "3.8.5"
  }
 },
 "nbformat": 4,
 "nbformat_minor": 1
}