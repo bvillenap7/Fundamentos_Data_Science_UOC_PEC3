{
 "cells": [
  {
   "cell_type": "markdown",
   "metadata": {},
   "source": [
    "<div style=\"width: 100%; clear: both;\">\n",
    "    <div style=\"float: left; width: 50%;\">\n",
    "       <img src=\"http://www.uoc.edu/portal/_resources/common/imatges/marca_UOC/UOC_Masterbrand.jpg\", align=\"left\">\n",
    "    </div>\n",
    "</div>\n",
    "\n",
    "<div style=\"float: right; width: 50%;\">\n",
    "    <p style=\"margin: 0; padding-top: 22px; text-align:right;\">22.501 · Fundamentos de Programación</p>\n",
    "    <p style=\"margin: 0; text-align:right;\">Grado en Ciencia de Datos Aplicada</p>\n",
    "    <p style=\"margin: 0; text-align:right; padding-button: 100px;\">Estudios de Informática, Multimedia y Telecomunicación</p>\n",
    "</div>\n",
    "\n",
    "</div>\n",
    "<div style=\"width: 100%; clear: both;\">\n",
    "<div style=\"width:100%;\">&nbsp;</div>"
   ]
  },
  {
   "cell_type": "markdown",
   "metadata": {},
   "source": [
    "Fundamentos de Programación\n",
    "============================\n",
    "\n",
    "PAC 3 - Enunciado\n",
    "-----------------------------------------------------\n",
    "\n",
    "En este Notebook se encontraréis el conjunto de actividades evaluables como PEC de la asignatura. Veréis que cada una de ellas tiene asociada una puntuación, que indica el peso que tiene la actividad sobre la nota final de la PEC. Adicionalmente, hay un ejercicio opcional, que no tiene puntuación dentro de la PEC, pero que se valora al final del semestre de cara a conceder las matrículas de honor y redondear las notas finales. Podréis sacar la máxima nota de la PAC sin necesidad de hacer este ejercicio. El objetivo de este ejercicio es que sirva como pequeño reto para los estudiantes que quieran profundizar en el contenido de la asignatura.\n",
    "\n",
    "Veréis que todas las actividades de la PEC tienen una etiqueta, que indica los recursos necesarios para llevarla a cabo. Hay tres posibles etiquetas:\n",
    "\n",
    "* <span style=\"font-family: Courier New; background-color: #82b74b; color: #000000; padding: 3px; \">NM</span> **Sólo materiales**: las herramientas necesarias para realizar la actividad se pueden encontrar en los materiales de la asignatura.\n",
    "\n",
    "* <span style = \"font-family: Courier New; background-color: #ffcc5c; color: #000000; padding: 3px; \">EG</span> **Consulta externa guiada**: la actividad puede requerir hacer uso de herramientas que no se encuentran en los materiales de la asignatura, pero el enunciado contiene indicaciones de dónde o cómo encontrar la información adicional necesaria para resolver la actividad.\n",
    "\n",
    "* <span style = \"font-family: Courier New; background-color: #f2ae72; color: #000000; padding: 3px;\">EI</span> **Consulta externa independiente**: la actividad puede requerir hacer uso de herramientas que no se encuentran en los materiales de la asignatura, y el enunciado puede no incluir la descripción de dónde o cómo encontrar esta información adicional. Será necesario que el estudiante busque esta información utilizando los recursos que se han explicado en la asignatura.\n",
    "\n",
    "Es importante notar que estas etiquetas no indican el nivel de dificultad del ejercicio, sino únicamente la necesidad de consulta de documentación externa para su resolución. Además, recordad que las **etiquetas son informativas**, pero podréis consultar referencias externas en cualquier momento (aunque no se indique explícitamente) o puede ser que podáis hacer una actividad sin consultar ningún tipo de documentación. Por ejemplo, para resolver una actividad que sólo requiera los materiales de la asignatura, puedéis consultar referencias externas si queréis, ya sea tanto para ayudaros en la resolución como para ampliar el conocimiento!\n",
    "\n",
    "En cuanto a la consulta de documentación externa en la resolución de los ejercicios, recordad **citar siempre la bibliografía utilizada** para resolver cada actividad.\n",
    "\n",
    "---"
   ]
  },
  {
   "cell_type": "markdown",
   "metadata": {},
   "source": [
    "## Ejercicios para la PEC\n",
    "\n",
    "A continuación encontraréis los ejercicios que se deben completar en esta PEC y que forman parte de la evaluación de esta unidad."
   ]
  },
  {
   "cell_type": "markdown",
   "metadata": {},
   "source": [
    "### Ejercicio 1\n",
    " "
   ]
  },
  {
   "cell_type": "markdown",
   "metadata": {},
   "source": [
    "Dada la lista:"
   ]
  },
  {
   "cell_type": "code",
   "execution_count": null,
   "metadata": {},
   "outputs": [],
   "source": [
    "lista=[10, \"python\", 3 , \"UOC\", True]"
   ]
  },
  {
   "cell_type": "markdown",
   "metadata": {},
   "source": [
    "a) Comenta los dos códigos siguientes: a1) y a2). ¿Qué diferencia hay entre utilizar `break` o `continúe`? Razona la respuesta. <span style = \"font-family: Courier New; background-color: #82b74b; color: #000000; padding: 3px; \">NM</span> **(0.5 puntos)**"
   ]
  },
  {
   "cell_type": "code",
   "execution_count": null,
   "metadata": {},
   "outputs": [],
   "source": [
    "#a1) \n",
    "\n",
    "for e in lista: \n",
    "    if e == \"UOC\":\n",
    "        break\n",
    "    print(e)"
   ]
  },
  {
   "cell_type": "code",
   "execution_count": null,
   "metadata": {},
   "outputs": [],
   "source": [
    "#a2) \n",
    "\n",
    "for e in lista: \n",
    "    if e == \"UOC\":\n",
    "        continue\n",
    "    print(e)"
   ]
  },
  {
   "cell_type": "code",
   "execution_count": null,
   "metadata": {},
   "outputs": [],
   "source": [
    "# Respuesta"
   ]
  },
  {
   "cell_type": "markdown",
   "metadata": {},
   "source": [
    "b) Escribe un código que, dada la lista que estamos trabajando, 1) detecte los elementos string de la lista, y 2) los muestre por pantalla. <span style = \"font-family: Courier New; background-color: #82b74b; color: #000000; padding: 3px; \">NM</span> **(0.5 puntos)**"
   ]
  },
  {
   "cell_type": "code",
   "execution_count": null,
   "metadata": {},
   "outputs": [],
   "source": [
    "# Respuesta"
   ]
  },
  {
   "cell_type": "markdown",
   "metadata": {},
   "source": [
    "c) Escribe un código que, dada la lista que estamos trabajando, 1) detecte los elementos de la lista que són un número, 2) identifique si son un numero primo o no, y 3) muestre por pantalla un mensaje informando de los resultados. Por ejemplo, para la lista que hemos definido al inicio del ejercicio, el código podría mostrar el siguiente resultado:"
   ]
  },
  {
   "cell_type": "markdown",
   "metadata": {},
   "source": [
    "10 is not a prime number\n",
    "\n",
    "3 is a prime number"
   ]
  },
  {
   "cell_type": "markdown",
   "metadata": {},
   "source": [
    "**Nota:** Podéis consultar como detectar si un número es primo en este post de [stack overflow](https://stackoverflow.com/questions/56558234/checking-prime-number-in-python/56558320)."
   ]
  },
  {
   "cell_type": "markdown",
   "metadata": {},
   "source": [
    "<span style = \"font-family: Courier New; background-color: #ffcc5c; color: #000000; padding: 3px; \">EG</span>  **(1 punto)**"
   ]
  },
  {
   "cell_type": "code",
   "execution_count": null,
   "metadata": {},
   "outputs": [],
   "source": [
    "# Respuesta"
   ]
  },
  {
   "cell_type": "markdown",
   "metadata": {},
   "source": [
    "### Ejercicio 2"
   ]
  },
  {
   "cell_type": "markdown",
   "metadata": {},
   "source": [
    "Python dispone de un idiom muy útil conocido como **list comprehension** y esto es lo que vamos\n",
    "a trabajar en este ejercicio a partir de la lista del ejercicio anterior:"
   ]
  },
  {
   "cell_type": "code",
   "execution_count": null,
   "metadata": {},
   "outputs": [],
   "source": [
    "lista=[10, \"python\", 3 , \"UOC\", True]"
   ]
  },
  {
   "cell_type": "markdown",
   "metadata": {},
   "source": [
    "**Nota**: Para realizar esta actividad necesitaréis investigar qué son las *list comprehension* y qué sintaxis utilizan. Para ello, se recomienda en primer lugar que utilicéis un\n",
    "buscador para encontrar información genérica sobre esta construcción. Después, os recomendamos que consultéis stackoverflow (un sitio de preguntas-y-respuestas muy popular entre programadores) para ver algunos ejemplos de problemas que se pueden resolver\n",
    "con esta construcción: \n",
    "\n",
    "https://stackoverflow.com/questions/12555443/squaring-all-elements-ina-list \n",
    "\n",
    "https://stackoverflow.com/questions/57166908/using-list-comprehension-i-want-to-printodd-even-with-string-indicating-even/57167016"
   ]
  },
  {
   "cell_type": "markdown",
   "metadata": {},
   "source": [
    "a) Recorre los elementos de la lista mediante *list comprehension* y luego imprímelos por pantalla. **(0.25 puntos)** <span style = \"font-family: Courier New; background-color: #ffcc5c; color: #000000; padding: 3px; \">EG</span> "
   ]
  },
  {
   "cell_type": "markdown",
   "metadata": {},
   "source": [
    "b) Utiliza una *list comprehension* para detectar los strings de la lista y luego muestra el resultado por pantalla. **(0.25 puntos)** <span style = \"font-family: Courier New; background-color: #ffcc5c; color: #000000; padding: 3px; \">EG</span> "
   ]
  },
  {
   "cell_type": "markdown",
   "metadata": {},
   "source": [
    "c) De la misma manera, utiliza una *list comprehension* para detectar solamente el número primo de la lista y después muestra el resultado por pantalla. **(0.5 puntos)** <span style = \"font-family: Courier New; background-color: #ffcc5c; color: #000000; padding: 3px; \">EG</span> "
   ]
  },
  {
   "cell_type": "code",
   "execution_count": null,
   "metadata": {},
   "outputs": [],
   "source": [
    "# Respuesta"
   ]
  },
  {
   "cell_type": "markdown",
   "metadata": {},
   "source": [
    "d) Usa los casos de prueba detallados en la tabla siguiente para comprobar que tu código funciona correctamente. <span style = \"font-family: Courier New; background-color: #82b74b; color: #000000; padding: 3px; \">NM</span> **(0.25 puntos)**"
   ]
  },
  {
   "cell_type": "markdown",
   "metadata": {},
   "source": [
    "| lista | a) | b) | c) | \n",
    "| --- | --- | --- | --- |\n",
    "| ['hola', False, 25, 41, True] | ['hola', False, 25, 41, True] | ['hola'] | [41] | \n",
    "| [\"oso\", \"perro\", \"gato\" , \"conejo\", True] | [\"oso\", \"perro\", \"gato\" , \"conejo\", True] | ['oso', 'perro', 'gato', 'conejo'] | [] | \n",
    "| [44, 7, 26, 14, 100] | [44, 7, 26, 14, 100] | [] | [7] | \n"
   ]
  },
  {
   "cell_type": "code",
   "execution_count": null,
   "metadata": {},
   "outputs": [],
   "source": [
    "# Respuesta"
   ]
  },
  {
   "cell_type": "markdown",
   "metadata": {},
   "source": [
    "### Ejercicio 3"
   ]
  },
  {
   "cell_type": "markdown",
   "metadata": {},
   "source": [
    "En Junio de 2021 se introdujo el cambio de tarifas de la luz. En algunas tarifas el consumo de electricidad puede tener diferentes precios a lo largo del día. \n",
    "\n",
    "Las tres franjas horarias que se han establecido son las siguientes: horas valle, horas llanas y horas punta. "
   ]
  },
  {
   "cell_type": "markdown",
   "metadata": {},
   "source": [
    "![franjas_luz](img/franjas_luz.png)"
   ]
  },
  {
   "cell_type": "markdown",
   "metadata": {},
   "source": [
    "Estos horarios de la luz pueden afectar a lo que acabas pagando en la factura. Por este motivo, queremos crear un código que, dada una hora y día de la semana, nos indique a que franja corresponde. **(2.5 puntos)**"
   ]
  },
  {
   "cell_type": "markdown",
   "metadata": {},
   "source": [
    "El código tiene que tener los siguientes elementos:\n",
    "- Se debe crea dos variables iniciales: una para contener el dia de la semana (por ejemplo, \"Lunes\") y la otra la hora (de 0-23h). <span style = \"font-family: Courier New; background-color: #82b74b; color: #000000; padding: 3px; \">NM</span> **(0.5 puntos)**\n",
    "- Se debe crear un diccionario con los 3 tramos y sus respectivas horas (por ejemplo, valle : 0-7) para los días entre semana (no hace falta crear un diccionario para el fin de semana ya que siempre estamos en el tramo valle). **Pista**: Para crear el diccionario tenemos los nombres del tramo y sus respectivas horas. Recordad que la key del diccionario debe ser un valor único, no se puede repetir. <span style = \"font-family: Courier New; background-color: #ffcc5c; color: #000000; padding: 3px; \">EG</span> **(1 punto)**\n",
    "- Se debe crear un código que, dado el día y la hora especificados en el apartado a), muestre por pantalla un mensaje explicando a que tramo pertenece (por ejemplo, \"Estás en el tramo punta, vigila tu consumo de electricidad!\"). <span style = \"font-family: Courier New; background-color: #82b74b; color: #000000; padding: 3px; \">NM</span> **(1 punto)** "
   ]
  },
  {
   "cell_type": "code",
   "execution_count": null,
   "metadata": {},
   "outputs": [],
   "source": [
    "# Respuesta"
   ]
  },
  {
   "cell_type": "markdown",
   "metadata": {},
   "source": [
    "### Ejercicio 4"
   ]
  },
  {
   "cell_type": "markdown",
   "metadata": {},
   "source": [
    "Basándonos en el código anterior, queremos mejorarlo para que pueda ser utilizado fácilmente por otros usuarios. \n",
    "\n",
    "a) Para lograrlo, vamos a crear una función (por ejemplo, `calculadora_tramos_luz`) con los siguientes elementos:\n",
    "- La función debe tener dos inputs: el día y la hora que queremos evaluar. <span style = \"font-family: Courier New; background-color: #82b74b; color: #000000; padding: 3px; \">NM</span> **(0.5 puntos)** \n",
    "- Tendremos que vigilar que los elementos introducidos (dia y hora) sean correctos. En el caso de haber algún error, se debe mostrar un mensaje de error por pantalla (por ejemplo, \"[ERROR] El rango de horas es de 0 a 23h\"). <span style = \"font-family: Courier New; background-color: #82b74b; color: #000000; padding: 3px; \">NM</span> **(1 punto)**\n",
    "- La función tiene que mostrar por pantalla el mensaje del tramo. En el caso de haber algún error, se tiene que mostrar por pantalla un mensaje explicando donde está el error. <span style = \"font-family: Courier New; background-color: #82b74b; color: #000000; padding: 3px; \">NM</span> **(1 punto)**\n",
    "\n",
    "**(2.5 puntos)**"
   ]
  },
  {
   "cell_type": "code",
   "execution_count": null,
   "metadata": {},
   "outputs": [],
   "source": [
    "# Respuesta"
   ]
  },
  {
   "cell_type": "markdown",
   "metadata": {},
   "source": [
    "b) Usa los casos de prueba detallados en la tabla siguiente para comprobar que la función que has creado funciona correctamente. \n",
    "Para mejorar la usabilidad, el día y la hora se pedirán al usuario por pantalla, que introducirá los datos de la tabla manualmente y comprobará que el resultado obtenido es el esperado. <span style = \"font-family: Courier New; background-color: #ffcc5c; color: #000000; padding: 3px; \">EG</span> **(0.5 puntos)**\n",
    "\n",
    "**Nota**: En este [enlace](https://pynative.com/python-input-function-get-user-input/) encontraréis información sobre la función *input*, que permite al usuario introducir datos mediante el teclado. "
   ]
  },
  {
   "cell_type": "markdown",
   "metadata": {},
   "source": [
    "| día | hora | Mensaje | \n",
    "| --- | --- | --- | \n",
    "| Lunes | 17 | Estás en el tramo llano, ten un consumo de luz moderado | \n",
    "| Domingo | 13 | Estás en el tramo valle, aprovecha para hacer lavadoras! | \n",
    "| Mircoles | 5 | [ERROR] El formato del dia de la semana introducido no es válido | \n",
    "| Viernes | 25 | [ERROR] El rango de horas es de 0 a 23h |"
   ]
  },
  {
   "cell_type": "code",
   "execution_count": null,
   "metadata": {},
   "outputs": [],
   "source": [
    "# Respuesta"
   ]
  },
  {
   "cell_type": "markdown",
   "metadata": {},
   "source": [
    "### Ejercicio 5"
   ]
  },
  {
   "cell_type": "markdown",
   "metadata": {},
   "source": [
    "a) Como ya somos unos expertos de los tramos de la luz, queremos crear un fichero en formato texto (.txt) con la información de las horas (de 0 a 23h) y su correspondiente tramo (para los días laborables). <span style = \"font-family: Courier New; background-color: #82b74b; color: #000000; padding: 3px; \">NM</span> **(0.5 puntos)**\n",
    "\n",
    "Este fichero debe tener una línea para cada hora, y, en cada línea, se tiene que especificar la **hora** y su **tramo**. Un ejemplo de las primeras filas del fichero es el siguiente:"
   ]
  },
  {
   "cell_type": "markdown",
   "metadata": {},
   "source": [
    "La hora 0 es el tramo: valle\n",
    "\n",
    "La hora 1 es el tramo: valle\n",
    "\n",
    "La hora 2 es el tramo: valle\n",
    "\n",
    "La hora 3 es el tramo: valle"
   ]
  },
  {
   "cell_type": "markdown",
   "metadata": {},
   "source": [
    "**Nota**: Para hacer este ejercicio podéis utilizar el diccionario de tramos y horas creado en el ejercicio 3."
   ]
  },
  {
   "cell_type": "code",
   "execution_count": null,
   "metadata": {},
   "outputs": [],
   "source": [
    "# Respuesta"
   ]
  },
  {
   "cell_type": "markdown",
   "metadata": {},
   "source": [
    "b) Una vez creado, lee el contenido del fichero y muéstralo por pantalla. <span style = \"font-family: Courier New; background-color: #82b74b; color: #000000; padding: 3px; \">NM</span> **(0.25 puntos)**"
   ]
  },
  {
   "cell_type": "code",
   "execution_count": null,
   "metadata": {},
   "outputs": [],
   "source": [
    "# Respuesta"
   ]
  },
  {
   "cell_type": "markdown",
   "metadata": {},
   "source": [
    "c) Abre el fichero, recórrelo fila a fila, y obtén el numero total de horas, y cuántas de ellas\n",
    "son del tramo punta. <span style = \"font-family: Courier New; background-color: #82b74b; color: #000000; padding: 3px; \">NM</span> **(0.5 puntos)**"
   ]
  },
  {
   "cell_type": "code",
   "execution_count": null,
   "metadata": {},
   "outputs": [],
   "source": [
    "# Respuesta"
   ]
  },
  {
   "cell_type": "markdown",
   "metadata": {},
   "source": [
    "### Ejercicio Opcional"
   ]
  },
  {
   "cell_type": "markdown",
   "metadata": {},
   "source": [
    "Con los ejercicios que hemos ido trabajando hemos visto que, cuando ocurre algún error en el código, Python detiene la ejecución y devuelve una excepción, que nos indica que ha occurrido un error en el programa.\n",
    "\n",
    "Supongamos que tenemos una función que calcula la raiz del número que se le introduce como input. En este caso, si intentamos calcular la raiz de un número negativo, salta un error: \n",
    "\n",
    "`ValueError: math domain error`\n",
    "\n",
    "Con este mensaje, Python nos avisa que hay un error del tipo *ValueError* en la tercera línea, y termina la ejecución. Este error nos indica que no se puede obtener la raiz real de un número negativo. "
   ]
  },
  {
   "cell_type": "code",
   "execution_count": null,
   "metadata": {},
   "outputs": [],
   "source": [
    "def raiz(n):\n",
    "    # Importamos la libreria para poder utilizar la función raíz (sqrt)\n",
    "    import math\n",
    "    # Calculamos la raíz cuadrada de n\n",
    "    m = math.sqrt(n)\n",
    "    # Mostramos el resultado\n",
    "    print(m)"
   ]
  },
  {
   "cell_type": "code",
   "execution_count": null,
   "metadata": {},
   "outputs": [],
   "source": [
    "raiz(-5)"
   ]
  },
  {
   "cell_type": "markdown",
   "metadata": {},
   "source": [
    "Saber que ha ocurrido una excepción o problema en el código es útil, pero normalmente no queremos que el programa se pare, sinó que queremos capturar la excepción y seguir adelante. Para hacer esto podemos usar la sentencia `try-except`. \n",
    "\n",
    "Dado un codigo, vamos a probar (try) de ejecutarlo y, en caso de encontrar un error, lo vamos a capturar y hacer algo al respecto (except) en vez de detener el programa. \n",
    "\n",
    "En el ejemplo anterior podríamos hacer lo siguiente:"
   ]
  },
  {
   "cell_type": "code",
   "execution_count": null,
   "metadata": {},
   "outputs": [],
   "source": [
    "def raiz_advanced(n):\n",
    "    # Importamos la libreria para poder utilizar la función raíz (sqrt)\n",
    "    import math\n",
    "    # Probamos (try) de hacer este trozo de código\n",
    "    try:\n",
    "        # Calculamos la raíz cuadrada de n\n",
    "        m = math.sqrt(n)\n",
    "        # Mostramos el resultado\n",
    "        print(m)\n",
    "    # Si nos encontramos un error ValueError, lo capturamos y mostramos un mensaje de error\n",
    "    except ValueError:\n",
    "        print(\"El número introducido no es válido\")"
   ]
  },
  {
   "cell_type": "code",
   "execution_count": null,
   "metadata": {},
   "outputs": [],
   "source": [
    "# Comprobamos que el try-except funciona correctamente\n",
    "raiz_advanced(-5)"
   ]
  },
  {
   "cell_type": "markdown",
   "metadata": {},
   "source": [
    "Como podéis ver, en este caso, el error `ValueError` es capturado y, en vez de interrumpirse el programa, se lanza un mensaje de error hecho por nosotros describiendo el problema. "
   ]
  },
  {
   "cell_type": "markdown",
   "metadata": {},
   "source": [
    "Dada una función que divide los dos números que se especifican como input:"
   ]
  },
  {
   "cell_type": "code",
   "execution_count": null,
   "metadata": {},
   "outputs": [],
   "source": [
    "def test_fails(a,b):\n",
    "    c = a / b\n",
    "    print(c)"
   ]
  },
  {
   "cell_type": "markdown",
   "metadata": {},
   "source": [
    "Utiliza la sentencia try-except para evitar que se interrumpa el código siguiente: \n",
    "<span style = \"font-family: Courier New; background-color: #f2ae72; color: #000000; padding: 3px;\">EI</span>"
   ]
  },
  {
   "cell_type": "code",
   "execution_count": null,
   "metadata": {},
   "outputs": [],
   "source": [
    "test_fails(5,0)"
   ]
  },
  {
   "cell_type": "code",
   "execution_count": null,
   "metadata": {},
   "outputs": [],
   "source": [
    "# Respuesta"
   ]
  }
 ],
 "metadata": {
  "kernelspec": {
   "display_name": "Python 3",
   "language": "python",
   "name": "python3"
  },
  "language_info": {
   "codemirror_mode": {
    "name": "ipython",
    "version": 3
   },
   "file_extension": ".py",
   "mimetype": "text/x-python",
   "name": "python",
   "nbconvert_exporter": "python",
   "pygments_lexer": "ipython3",
   "version": "3.8.5"
  }
 },
 "nbformat": 4,
 "nbformat_minor": 1
}
