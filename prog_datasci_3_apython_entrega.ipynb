{
 "cells": [
  {
   "cell_type": "markdown",
   "metadata": {},
   "source": [
    "<div style=\"width: 100%; clear: both;\">\n",
    "    <div style=\"float: left; width: 50%;\">\n",
    "       <img src=\"http://www.uoc.edu/portal/_resources/common/imatges/marca_UOC/UOC_Masterbrand.jpg\", align=\"left\">\n",
    "    </div>\n",
    "</div>\n",
    "\n",
    "<div style=\"float: right; width: 50%;\">\n",
    "    <p style=\"margin: 0; padding-top: 22px; text-align:right;\">22.501 · Fundamentos de Programación</p>\n",
    "    <p style=\"margin: 0; text-align:right;\">Grado en Ciencia de Datos Aplicada</p>\n",
    "    <p style=\"margin: 0; text-align:right; padding-button: 100px;\">Estudios de Informática, Multimedia y Telecomunicación</p>\n",
    "</div>\n",
    "\n",
    "</div>\n",
    "<div style=\"width: 100%; clear: both;\">\n",
    "<div style=\"width:100%;\">&nbsp;</div>"
   ]
  },
  {
   "cell_type": "markdown",
   "metadata": {},
   "source": [
    "Fundamentos de Programación\n",
    "============================\n",
    "\n",
    "PAC 3 - Enunciado\n",
    "-----------------------------------------------------\n",
    "\n",
    "En este Notebook se encontraréis el conjunto de actividades evaluables como PEC de la asignatura. Veréis que cada una de ellas tiene asociada una puntuación, que indica el peso que tiene la actividad sobre la nota final de la PEC. Adicionalmente, hay un ejercicio opcional, que no tiene puntuación dentro de la PEC, pero que se valora al final del semestre de cara a conceder las matrículas de honor y redondear las notas finales. Podréis sacar la máxima nota de la PAC sin necesidad de hacer este ejercicio. El objetivo de este ejercicio es que sirva como pequeño reto para los estudiantes que quieran profundizar en el contenido de la asignatura.\n",
    "\n",
    "Veréis que todas las actividades de la PEC tienen una etiqueta, que indica los recursos necesarios para llevarla a cabo. Hay tres posibles etiquetas:\n",
    "\n",
    "* <span style=\"font-family: Courier New; background-color: #82b74b; color: #000000; padding: 3px; \">NM</span> **Sólo materiales**: las herramientas necesarias para realizar la actividad se pueden encontrar en los materiales de la asignatura.\n",
    "\n",
    "* <span style = \"font-family: Courier New; background-color: #ffcc5c; color: #000000; padding: 3px; \">EG</span> **Consulta externa guiada**: la actividad puede requerir hacer uso de herramientas que no se encuentran en los materiales de la asignatura, pero el enunciado contiene indicaciones de dónde o cómo encontrar la información adicional necesaria para resolver la actividad.\n",
    "\n",
    "* <span style = \"font-family: Courier New; background-color: #f2ae72; color: #000000; padding: 3px;\">EI</span> **Consulta externa independiente**: la actividad puede requerir hacer uso de herramientas que no se encuentran en los materiales de la asignatura, y el enunciado puede no incluir la descripción de dónde o cómo encontrar esta información adicional. Será necesario que el estudiante busque esta información utilizando los recursos que se han explicado en la asignatura.\n",
    "\n",
    "Es importante notar que estas etiquetas no indican el nivel de dificultad del ejercicio, sino únicamente la necesidad de consulta de documentación externa para su resolución. Además, recordad que las **etiquetas son informativas**, pero podréis consultar referencias externas en cualquier momento (aunque no se indique explícitamente) o puede ser que podáis hacer una actividad sin consultar ningún tipo de documentación. Por ejemplo, para resolver una actividad que sólo requiera los materiales de la asignatura, puedéis consultar referencias externas si queréis, ya sea tanto para ayudaros en la resolución como para ampliar el conocimiento!\n",
    "\n",
    "En cuanto a la consulta de documentación externa en la resolución de los ejercicios, recordad **citar siempre la bibliografía utilizada** para resolver cada actividad.\n",
    "\n",
    "---"
   ]
  },
  {
   "cell_type": "markdown",
   "metadata": {},
   "source": [
    "## Ejercicios para la PEC\n",
    "\n",
    "A continuación encontraréis los ejercicios que se deben completar en esta PEC y que forman parte de la evaluación de esta unidad."
   ]
  },
  {
   "cell_type": "markdown",
   "metadata": {},
   "source": [
    "### Ejercicio 1\n",
    " "
   ]
  },
  {
   "cell_type": "markdown",
   "metadata": {},
   "source": [
    "Considera la lista siguiente **(2 puntos)**: "
   ]
  },
  {
   "cell_type": "code",
   "execution_count": null,
   "metadata": {},
   "outputs": [],
   "source": [
    "lista=[20, 'Hola', True, 'Python', -3]"
   ]
  },
  {
   "cell_type": "markdown",
   "metadata": {},
   "source": [
    "a) Tienes un fragmento de código. Modifícalo para que muestre los elementos que se indican a continuación. Razona tu respuesta <span style = \"font-family: Courier New; background-color: #82b74b; color: #000000; padding: 3px; \">NM</span> **(0.5 puntos)**\n",
    "\n",
    "**Nota**: Tienes que realizar los mínimos cambios posibles."
   ]
  },
  {
   "cell_type": "markdown",
   "metadata": {},
   "source": [
    "a1) Debe mostrar los siguientes elementos: Hola, True, Python, -3. \n",
    "\n",
    "a2) Debe mostrar los siguientes elementos: 20, Hola, True. "
   ]
  },
  {
   "cell_type": "code",
   "execution_count": null,
   "metadata": {},
   "outputs": [],
   "source": [
    "# Código a modificar\n",
    "for n in lista: \n",
    "    if n == 'Hola':\n",
    "        continue\n",
    "    print(n)"
   ]
  },
  {
   "cell_type": "code",
   "execution_count": null,
   "metadata": {},
   "outputs": [],
   "source": [
    "## Respuesta"
   ]
  },
  {
   "cell_type": "markdown",
   "metadata": {},
   "source": [
    "b) Escribe un código que, dada la lista que estamos trabajando, 1) detecte los elementos de tipo string de la lista, 2) los ordene al revés (es decir, Hola sería aloH y Python, nohtyP) y 3) los muestre por pantalla. <span style = \"font-family: Courier New; background-color: #82b74b; color: #000000; padding: 3px; \">NM</span> **(0.5 puntos)**"
   ]
  },
  {
   "cell_type": "code",
   "execution_count": null,
   "metadata": {},
   "outputs": [],
   "source": [
    "## Respuesta"
   ]
  },
  {
   "cell_type": "markdown",
   "metadata": {},
   "source": [
    "c) Escribe un código que, dado un rango de números de 1 a 25, guarde los números primos en una lista. Muestra después por pantalla los elementos de la lista.<span style = \"font-family: Courier New; background-color: #ffcc5c; color: #000000; padding: 3px; \">EG</span>  **(1 punto)**"
   ]
  },
  {
   "cell_type": "markdown",
   "metadata": {},
   "source": [
    "**Nota:** Puedes consultar cómo detectar si un número es primero en este post de [stack overflow](https://stackoverflow.com/questions/56558234/checking-prime-number-in-python/56558320)."
   ]
  },
  {
   "cell_type": "code",
   "execution_count": null,
   "metadata": {},
   "outputs": [],
   "source": [
    "## Respuesta"
   ]
  },
  {
   "cell_type": "markdown",
   "metadata": {},
   "source": [
    "### Ejercicio 2\n",
    "\n",
    "En este ejercicio vamos a crear una calculadora de números primos (**2.75 puntos**): \n",
    "\n",
    "a) Pon el código del ejercicio 1c) en forma de función. Debe cumplir los siguientes puntos:\n",
    "- Como entrada (*input*), especifica el número máximo que se desea recorrer (por ejemplo, en el ejercicio anterior, el número máximo era 25).\n",
    "- Como salida (*output*), debe devolver la lista de números primos.\n",
    "\n",
    "<span style = \"font-family: Courier New; background-color: #82b74b; color: #000000; padding: 3px; \">NM</span> **(1 punto)** "
   ]
  },
  {
   "cell_type": "code",
   "execution_count": null,
   "metadata": {},
   "outputs": [],
   "source": [
    "## Respuesta"
   ]
  },
  {
   "cell_type": "markdown",
   "metadata": {},
   "source": [
    "b) Utiliza los casos de prueba detallados en la tabla siguiente para comprobar que tu código funciona correctamente. <span style = \"font-family: Courier New; background-color: #82b74b; color: #000000; padding: 3px; \">NM</span> **(0.25 puntos)**"
   ]
  },
  {
   "cell_type": "markdown",
   "metadata": {},
   "source": [
    "| máximo | lista resultado  | \n",
    "| --- | --- |\n",
    "| 9 | [2, 3, 5, 7] | \n",
    "| 15 | [2, 3, 5, 7, 11, 13] | \n",
    "| 50 | [2, 3, 5, 7, 11, 13, 17, 19, 23, 29, 31, 37, 41, 43, 47] |"
   ]
  },
  {
   "cell_type": "code",
   "execution_count": null,
   "metadata": {},
   "outputs": [],
   "source": [
    "## Respuesta"
   ]
  },
  {
   "cell_type": "markdown",
   "metadata": {},
   "source": [
    "c) La calculadora funciona bien, pero nos hemos dado cuenta de que si el usuario introduce por error un valor que no sea un número, todo el programa falla. Para evitar esta situación, utiliza tu conocimiento sobre gestión de errores y excepciones para obtener el siguiente resultado:\n",
    "\n",
    "- El usuario tiene que introducir el valor por pantalla. <span style = \"font-family: Courier New; background-color: #82b74b; color: #000000; padding: 3px; \">NM</span> (**0.5 puntos**)\n",
    "- Cuando el usuario introduzca un valor erróneo, el programa le avisará, en lugar de fallar directamente. <span style = \"font-family: Courier New; background-color: #82b74b; color: #000000; padding: 3px; \">NM</span> (**0.5 puntos**)\n",
    "- Una vez que el usuario ha sido avisado, el programa permite introducir el valor de nuevo una vez más. <span style = \"font-family: Courier New; background-color: #82b74b; color: #000000; padding: 3px; \">NM</span> (**0.5 puntos**)\n",
    "\n",
    "(**1.5 puntos**)"
   ]
  },
  {
   "cell_type": "code",
   "execution_count": null,
   "metadata": {},
   "outputs": [],
   "source": [
    "## Respuesta"
   ]
  },
  {
   "cell_type": "markdown",
   "metadata": {},
   "source": [
    "### Ejercicio 3"
   ]
  },
  {
   "cell_type": "markdown",
   "metadata": {},
   "source": [
    "Tal y como hemos visto en la teoría, las *list comprehensions* son muy útiles para crear listas en una sola línea de código. (**1.75 puntos**)\n",
    "\n",
    "\n",
    "a) A continuación, te proponemos que transformes los códigos siguientes a *list comprehensions*: <span style = \"font-family: Courier New; background-color: #82b74b; color: #000000; padding: 3px; \">NM</span> (**1 punto**)"
   ]
  },
  {
   "cell_type": "code",
   "execution_count": null,
   "metadata": {},
   "outputs": [],
   "source": [
    "#a1) \n",
    "\n",
    "result = []\n",
    "\n",
    "for i in range(7):\n",
    "        result.append(i**3+2*i)\n",
    "    \n",
    "print(result)"
   ]
  },
  {
   "cell_type": "code",
   "execution_count": null,
   "metadata": {},
   "outputs": [],
   "source": [
    "## Respuesta"
   ]
  },
  {
   "cell_type": "code",
   "execution_count": null,
   "metadata": {},
   "outputs": [],
   "source": [
    "#a2)\n",
    "\n",
    "list_elem2 = [16, 17, 7, 24, 5, 13, 100, 87]\n",
    "new_list = []\n",
    "\n",
    "for x in list_elem2:\n",
    "    \n",
    "    if x%2 == 0: \n",
    "        new_list.append(x*2)\n",
    "    else: \n",
    "        new_list.append(x+2)\n",
    "\n",
    "print(new_list)"
   ]
  },
  {
   "cell_type": "code",
   "execution_count": null,
   "metadata": {},
   "outputs": [],
   "source": [
    "## Respuesta"
   ]
  },
  {
   "cell_type": "markdown",
   "metadata": {},
   "source": [
    "b) Dada la lista siguiente: \n",
    "**(0.75 puntos)**"
   ]
  },
  {
   "cell_type": "code",
   "execution_count": null,
   "metadata": {},
   "outputs": [],
   "source": [
    "lista=[10, \"python\", 3 , \"UOC\", True]"
   ]
  },
  {
   "cell_type": "markdown",
   "metadata": {},
   "source": [
    "b1) Utiliza una *list comprehension* para detectar los strings de la lista y luego muestra el resultado por pantalla. <span style = \"font-family: Courier New; background-color: #82b74b; color: #000000; padding: 3px; \">NM</span> **(0.5 puntos)**"
   ]
  },
  {
   "cell_type": "code",
   "execution_count": null,
   "metadata": {},
   "outputs": [],
   "source": [
    "## Respuesta"
   ]
  },
  {
   "cell_type": "markdown",
   "metadata": {},
   "source": [
    "b2) Usa los casos de prueba detallados en la tabla siguiente para comprobar que tu código funciona correctamente. <span style = \"font-family: Courier New; background-color: #82b74b; color: #000000; padding: 3px; \">NM</span> **(0.25 puntos)**"
   ]
  },
  {
   "cell_type": "markdown",
   "metadata": {},
   "source": [
    "| lista | resultado |\n",
    "| --- | --- | \n",
    "| ['hola', False, 25, 41, True]| ['hola'] | \n",
    "| [\"oso\", \"perro\", \"gato\" , \"conejo\", True] | ['oso', 'perro', 'gato', 'conejo'] | \n",
    "| [44, 7, 26, 14, 100] | [] | \n"
   ]
  },
  {
   "cell_type": "code",
   "execution_count": null,
   "metadata": {},
   "outputs": [],
   "source": [
    "## Respuesta"
   ]
  },
  {
   "cell_type": "markdown",
   "metadata": {},
   "source": [
    "c) Hemos creado la siguiente list comprehension y nos hemos fijado en que como resultado tenemos una lista de `None`. Piensa y explica por qué obtenemos este resultado.(**Opcional**)"
   ]
  },
  {
   "cell_type": "code",
   "execution_count": null,
   "metadata": {},
   "outputs": [],
   "source": [
    "#c) \n",
    "\n",
    "# Creamos las listas\n",
    "animales = ['gato', 'perro', 'raton','panda']\n",
    "felino = ['gato']\n",
    "\n",
    "# Mostramos el resultado por pantalla\n",
    "[print(f\"El {animal} es un felino\") if animal in felino else print(f\"El {animal} no es un felino\") for animal in animales]"
   ]
  },
  {
   "cell_type": "markdown",
   "metadata": {},
   "source": [
    "### Ejercicio 4"
   ]
  },
  {
   "cell_type": "markdown",
   "metadata": {},
   "source": [
    "Mientras que las *list comprehensions* se utilizan para crear listas, la lambda es una función que se puede procesar como otras funciones y, por tanto, devolver valores o listas. En este ejercicio pondremos en práctica distintas funcionalidades de este tipo de funciones.\n",
    "\n",
    "En los siguientes apartados, completa el código escribiendo la función lambda que realice la función indicada. Los guiones --- indican dónde deberías poner la función lambda.\n",
    "\n",
    "(**1.25 puntos**)\n",
    "\n",
    "\n",
    "a) Dada la siguiente lista (list_str), escribe una función lambda que devuelva los elementos de la lista que acaban en \"o\". Muestra los elementos por pantalla. <span style = \"font-family: Courier New; background-color: #ffcc5c; color: #000000; padding: 3px; \">EG</span> (**0.25 puntos**)\n",
    "\n",
    "\n",
    "list_str = [\"hello\",\"hola\",\"salut\",\"ciao\", \"hallo\", \"hi\", \"konnichiwa\"] \n",
    "\n",
    "list(filter(lambda x: ---, list_str))"
   ]
  },
  {
   "cell_type": "code",
   "execution_count": null,
   "metadata": {},
   "outputs": [],
   "source": [
    "## Respuesta"
   ]
  },
  {
   "cell_type": "markdown",
   "metadata": {},
   "source": [
    "b) Dada la lista del apartado a), escribe una función lambda que se quede con el elemento de la lista de mayor longitud (es decir, el string más largo). Muestra el elemento por pantalla.<span style = \"font-family: Courier New; background-color: #ffcc5c; color: #000000; padding: 3px; \">EG</span> (**0.5 puntos**)\n",
    "\n",
    "max_list = max(list_str, key = lambda x: ---)"
   ]
  },
  {
   "cell_type": "code",
   "execution_count": null,
   "metadata": {},
   "outputs": [],
   "source": [
    "## Respuesta"
   ]
  },
  {
   "cell_type": "markdown",
   "metadata": {},
   "source": [
    "c) Escribe una expresión que, dada una lista de números, te cree otra lista con los elementos a la raiz quadrada. Puedes utilizar la función [pow()](https://docs.python.org/3/library/functions.html#pow) para especificar el orden de la potencia (por ejemplo, pow(x, 0.5) hace la raiz cuadrada). \n",
    "\n",
    "En este ejercicio no os damos el código para completar, sino que deberas escribir toda la expresión (no sólo la función lambda). Puede ser útil explorar la funcionalidad de [map()](https://cs.stanford.edu/people/nick/py/python-map-lambda.html). <span style = \"font-family: Courier New; background-color: #ffcc5c; color: #000000; padding: 3px; \">EG</span> (**0.5 puntos**)"
   ]
  },
  {
   "cell_type": "code",
   "execution_count": null,
   "metadata": {},
   "outputs": [],
   "source": [
    "## Respuesta"
   ]
  },
  {
   "cell_type": "markdown",
   "metadata": {},
   "source": [
    "### Ejercicio 5"
   ]
  },
  {
   "cell_type": "markdown",
   "metadata": {},
   "source": [
    "a) Utiliza la función `range` para mostrar por pantalla los números impares entre 1 y 15 (ambos incluidos): <span style = \"font-family: Courier New; background-color: #82b74b; color: #000000; padding: 3px; \">NM</span> (**0.25 puntos**)"
   ]
  },
  {
   "cell_type": "code",
   "execution_count": null,
   "metadata": {},
   "outputs": [],
   "source": [
    "## Respuesta"
   ]
  },
  {
   "cell_type": "markdown",
   "metadata": {},
   "source": [
    "b) Dada una lista, utiliza `ennumerate` para crear un diccionario que tenga como llave (key) el índice del elemento y, como valor, el elemento de la lista. En este caso, queremos que el índice no empiece con 0, sinó con 100. Es decir, el primero elemento seria 100: pan, el segundo, 101: leche, etc. <span style = \"font-family: Courier New; background-color: #ffcc5c; color: #000000; padding: 3px; \">EG</span> (**0.5 puntos**)\n",
    "\n",
    "**Nota**: Revisa la documentación de la función [enumerate](https://docs.python.org/3/library/functions.html#enumerate) para tener más información. "
   ]
  },
  {
   "cell_type": "code",
   "execution_count": null,
   "metadata": {},
   "outputs": [],
   "source": [
    "# Creamos la lista\n",
    "lista_compra = ['pan', 'leche', 'naranjas', 'galletas', 'patatas']"
   ]
  },
  {
   "cell_type": "code",
   "execution_count": null,
   "metadata": {},
   "outputs": [],
   "source": [
    "## Respuesta"
   ]
  },
  {
   "cell_type": "markdown",
   "metadata": {},
   "source": [
    "c) En este apartado estamos explorando al funcionalidad de zip(). Tenemos 3 listas de distintos tamaños, y queremos mostrar sus elementos. Por qué se muestran 3 elementos de cada lista en el primer loop? Por qué solo se muestran 2 elementos de cada lista en el segundo loop? Razona la respuesta. <span style = \"font-family: Courier New; background-color: #82b74b; color: #000000; padding: 3px; \">NM</span> (**0.5 puntos**)\n"
   ]
  },
  {
   "cell_type": "code",
   "execution_count": null,
   "metadata": {},
   "outputs": [],
   "source": [
    "numbersList = [1, 2, 3]\n",
    "str_list = ['one', 'two']\n",
    "numbers_tuple = ('ONE', 'TWO', 'THREE', 'FOUR')\n",
    "\n",
    "print('Primer loop: ')\n",
    "for elem1, elem2 in zip(numbersList, numbers_tuple):\n",
    "    print(elem1, elem2)\n",
    "\n",
    "print('Segundo loop: ')\n",
    "for elem1, elem2, elem3 in  zip(numbersList, str_list, numbers_tuple):\n",
    "    print(elem1, elem2, elem3)\n",
    "    "
   ]
  },
  {
   "cell_type": "code",
   "execution_count": null,
   "metadata": {},
   "outputs": [],
   "source": [
    "## Respuesta"
   ]
  },
  {
   "cell_type": "markdown",
   "metadata": {},
   "source": [
    "### Ejercicio 6"
   ]
  },
  {
   "cell_type": "markdown",
   "metadata": {},
   "source": [
    "Hemos encontrado un dataset con información de boxeadores profesionales. La primera columna contiene la cabecera, que define cada una de las columnas (Ranking, Surname, Name, Country, Weight y Sex) y, a continuación, tenemos la información de los boxeadores ordenados por su ranking.\n",
    "**(1 punto)**\n",
    "\n",
    "a) Abre el archivo y responde a las siguientes preguntas: <span style = \"font-family: Courier New; background-color: #82b74b; color: #000000; padding: 3px; \">NM</span> **(0.5 puntos)**\n",
    "- ¿Cuántos **boxeadores españoles** hay?\n",
    "- ¿Cuál es el porcentaje de españoles respecto al total de boxeadores? Muestra el resultado con **sólo 2 decimales**.\n",
    "\n",
    "**Nota**: Los apartados a) y b) se tiene que responder utilizando la función `open()`."
   ]
  },
  {
   "cell_type": "code",
   "execution_count": null,
   "metadata": {},
   "outputs": [],
   "source": [
    "## Respuesta"
   ]
  },
  {
   "cell_type": "markdown",
   "metadata": {},
   "source": [
    "b) Guarda, en un nuevo archivo de texto, sólo la información de los boxeadores que **pesan más de 150** (es decir, aquellas filas donde Weight sea mayor de 150). <span style = \"font-family: Courier New; background-color: #82b74b; color: #000000; padding: 3px; \">NM</span> **(0.5 puntos)**"
   ]
  },
  {
   "cell_type": "code",
   "execution_count": null,
   "metadata": {},
   "outputs": [],
   "source": [
    "## Respuesta"
   ]
  },
  {
   "cell_type": "markdown",
   "metadata": {},
   "source": [
    "\n",
    "c) En teoría hemos visto también la librería pandas, que nos permite trabajar con archivos de manera muy sencilla. Utilízala para abrir el archivo de texto y muestra las 10 primeras líneas por pantalla. (**Opcional**)"
   ]
  },
  {
   "cell_type": "code",
   "execution_count": null,
   "metadata": {},
   "outputs": [],
   "source": [
    "## Respuesta"
   ]
  }
 ],
 "metadata": {
  "kernelspec": {
   "display_name": "Python 3",
   "language": "python",
   "name": "python3"
  },
  "language_info": {
   "codemirror_mode": {
    "name": "ipython",
    "version": 3
   },
   "file_extension": ".py",
   "mimetype": "text/x-python",
   "name": "python",
   "nbconvert_exporter": "python",
   "pygments_lexer": "ipython3",
   "version": "3.8.5"
  }
 },
 "nbformat": 4,
 "nbformat_minor": 1
}
