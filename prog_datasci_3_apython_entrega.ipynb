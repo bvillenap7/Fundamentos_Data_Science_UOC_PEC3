{
 "metadata": {
  "kernelspec": {
   "display_name": "Python 2",
   "language": "python",
   "name": "python2"
  },
  "language_info": {
   "codemirror_mode": {
    "name": "ipython",
    "version": 2
   },
   "file_extension": ".py",
   "mimetype": "text/x-python",
   "name": "python",
   "nbconvert_exporter": "python",
   "pygments_lexer": "ipython2",
   "version": "2.7.12"
  },
  "name": "",
  "signature": "sha256:71df8e3cc08e9a5a1e775795d38e88801e5f5679c68b737e39ef5a699e3040df"
 },
 "nbformat": 3,
 "nbformat_minor": 0,
 "worksheets": [
  {
   "cells": [
    {
     "cell_type": "heading",
     "level": 1,
     "metadata": {},
     "source": [
      "Programaci\u00f3n para Data Science"
     ]
    },
    {
     "cell_type": "heading",
     "level": 2,
     "metadata": {},
     "source": [
      "M\u00f3dulo 3: Conceptos avanzados de Python"
     ]
    },
    {
     "cell_type": "markdown",
     "metadata": {},
     "source": [
      "Ejercicios y preguntas te\u00f3ricas\n",
      "-------------------------------\n",
      "\n",
      "A continuaci\u00f3n, encontrar\u00e9is la parte que ten\u00e9is que completar en este modulo y las preguntas te\u00f3ricas a contestar."
     ]
    },
    {
     "cell_type": "markdown",
     "metadata": {},
     "source": [
      "### Ejercicio 1\n",
      "\n",
      "Completa el c\u00f3digo necesario para calcular el n\u00famero de palabras y de espacios de un texto. **El n\u00famero de espacios no tiene que ser necesariamente funci\u00f3n del n\u00famero de palabras**."
     ]
    },
    {
     "cell_type": "code",
     "collapsed": false,
     "input": [
      "def contar_palabras_y_espacios(texto):\n",
      "    # Cuenta las palabras contenidas en el string texto y tambi\u00e9n sus espacios\n",
      "    num_palabras = 0\n",
      "    num_espacios = 0\n",
      "    \n",
      "    # C\u00f3digo a completar\n",
      "    \n",
      "    return num_palabras, num_espacios\n",
      "\n",
      "texto = \"Orbiting Earth in the spaceship, I saw how beautiful our planet is. \\\n",
      "            People, let us preserve and increase this beauty, not destroy it!\"\n",
      "\n",
      "num_palabras, num_espacios = contar_palabras_y_espacios(texto)\n",
      "print \"El n\u00famero de palabras es de %d\" % num_palabras\n",
      "print \"El n\u00famero de espacios es de %d\" % num_espacios"
     ],
     "language": "python",
     "metadata": {},
     "outputs": [],
     "prompt_number": null
    },
    {
     "cell_type": "markdown",
     "metadata": {},
     "source": [
      "### Ejercicio 2\n",
      "\n",
      "Dada una mol\u00e9cula representada por un string del estilo C9-H8-O4 calcula su masa at\u00f3mica. Por ejemplo, para una mol\u00e9cula C4-H3, la masa at\u00f3mica ser\u00eda de 4\\*12.01 + 3\\*1.007825.\n",
      "\n",
      "Haced una soluci\u00f3n general accediendo al diccionario mediante la clave, que en este caso ser\u00e1 el tipo de \u00e1tomo. Por ejemplo, para la mol\u00e9cula C5-H3 deber\u00edamos seguir estos pasos:\n",
      "* Separar la molecula por los guiones (podemos hacerlo con la funci\u00f3n split, por ejemplo).\n",
      "* Para cada una de las partes, C5 y H3, encontrar el tipo de \u00e1tomo: C y H. (Necesitaremos un bucle de alg\u00fan tipo aqu\u00ed)\n",
      "* Acceder al diccionario de masas y para la clave que se corresponde con el tipo de \u00e1tomo, obtener la masa.\n",
      "* Una vez encontrada la masa, multiplicarla por el n\u00famero de \u00e1tomos encontrados.\n",
      "\n",
      "Pista: para un string del tipo a = 'C15', a[0] nos proporcionar\u00e1 el tipo de \u00e1tomo, C. a[1:] nos proporciona el string restante: '15'. Tened en cuenta que ha de convertirse a n\u00famero decimal para poder multiplicarse."
     ]
    },
    {
     "cell_type": "code",
     "collapsed": false,
     "input": [
      "# Masas at\u00f3micas\n",
      "masas = {'H': 1.007825, 'C': 12.01, 'O': 15.9994, 'N': 14.0067, 'S': 31.972071, 'P': 30.973762}\n",
      "\n",
      "def calcula_masa_atomica(molecula):\n",
      "    \"\"\"\n",
      "    Calcula la masa atomica de una molecula\n",
      "    \"\"\"\n",
      "    masa = 0.0\n",
      "    \n",
      "    # C\u00f3digo a completar\n",
      "    \n",
      "    return masa\n",
      "\n",
      "print calcula_masa_atomica('C13-H18-O2')\n",
      "print calcula_masa_atomica('C8-H10-N4-O2')\n",
      "print calcula_masa_atomica('C20-H25-N3-O')\n",
      "print calcula_masa_atomica('C20-H10-O2-P2-S')"
     ],
     "language": "python",
     "metadata": {},
     "outputs": [],
     "prompt_number": null
    },
    {
     "cell_type": "markdown",
     "metadata": {},
     "source": [
      "### Ejercicio 3\n",
      "\n",
      "Completad las siguientes funciones matem\u00e1ticas y documentad el c\u00f3digo tambi\u00e9n de cada funci\u00f3n. Por \u00faltimo, escribid alg\u00fan ejemplo de uso de cada una de las funciones:"
     ]
    },
    {
     "cell_type": "code",
     "collapsed": false,
     "input": [
      "# Completa las siguientes funciones matem\u00e1ticas\n",
      "import math\n",
      "\n",
      "def area_circulo(radio):\n",
      "    # A completar\n",
      "    return 0.\n",
      "\n",
      "\n",
      "def longitud_circulo(radio):\n",
      "    # A completar\n",
      "    return 0.\n",
      "\n",
      "\n",
      "def hipotenusa(cateto1, cateto2):\n",
      "    # A completar\n",
      "    return 0.\n",
      "\n",
      "\n",
      "def area_cuadrado(lado):\n",
      "    # A completar\n",
      "    return 0.\n",
      "\n",
      "\n",
      "def volumen_esfera(radio):\n",
      "    # A completar\n",
      "    return 0.\n",
      "\n",
      "\n",
      "def volumen_cubo(lado):\n",
      "    # A completar\n",
      "    return 0.\n",
      "\n",
      "\n",
      "# Escribe aqu\u00ed algunos ejemplos utilizando estas funciones, por ejemplo:\n",
      "# print 'El volumen del cubo de lado 3.5 es %f' % volumen_cubo(3.5)"
     ],
     "language": "python",
     "metadata": {},
     "outputs": [],
     "prompt_number": null
    },
    {
     "cell_type": "markdown",
     "metadata": {},
     "source": [
      "### Ejercicio 4\n",
      "\n",
      "El siguiente ejercicio consiste en pasar un n\u00famero en base 2 (binario, 0/1) a base 10 (decimal).\n",
      "\n",
      "Dado un string que representa un n\u00famero en binario, por ejemplo, 1011, devolver el n\u00famero \n",
      "natural correspondiente, en este caso, 11."
     ]
    },
    {
     "cell_type": "code",
     "collapsed": false,
     "input": [
      "# A completar: DEFINID UNA FUNCI\u00d3N y escribid algunos casos de uso de esa funci\u00f3n"
     ],
     "language": "python",
     "metadata": {},
     "outputs": [],
     "prompt_number": 1
    },
    {
     "cell_type": "markdown",
     "metadata": {},
     "source": [
      "### Ejercicio 5\n",
      "\n",
      "Uno de los algoritmos m\u00e1s b\u00e1sicos en criptograf\u00eda es el [cifrado C\u00e9sar](https://es.wikipedia.org/wiki/Cifrado_C%C3%A9sar), que fue utilizado por Julio C\u00e9sar para comunicarse con sus generales, y que consiste en dado un texto, por cada una de las letras del texto, a\u00f1adirle un desplazamiento para conseguir una nueva letra diferente de la original. Comprenderemos r\u00e1pidamente su mecanismo mediante un ejemplo:\n",
      "\n",
      "Si asignamos el n\u00famero 1 a la primera letra del abecedario, A, 2 a la siguiente, B, etc., imaginad que tenemos el siguiente mensaje:\n",
      "<code>\n",
      "ABC\n",
      "123\n",
      "</code>\n",
      "\n",
      "Si aplicamos un desplazamiento de 3, buscaremos cu\u00e1l es la letra en el abecedario que se corresponde:\n",
      "<code>\n",
      "DEF\n",
      "456\n",
      "</code>\n",
      "\n",
      "ABC se ha convertido en DEF porque hemos sumado un desplazamiento de 3. Tambi\u00e9n podr\u00edamos aplicar otros tipos de desplazamiento como los negativos. Por ejemplo, para el desplazamiento -1 y el mensaje original ABC tendr\u00edamos un mensaje cifrado de: ZAB.\n",
      "\n",
      "Escribid una funci\u00f3n que dado un mensaje original y un desplazamiento, calcule y devuelva el mensaje cifrado:"
     ]
    },
    {
     "cell_type": "code",
     "collapsed": false,
     "input": [
      "def cifrado_cesar(mensaje, desplazamiento=1):\n",
      "    \"\"\"\n",
      "    Cifra el mensaje utilizando el metodo de Cesar dado un desplazamiento\n",
      "    \"\"\"\n",
      "    mensaje_cifrado = \"\"\n",
      "    \n",
      "    # Codigo a completar\n",
      "    \n",
      "    return mensaje_cifrado\n",
      "\n",
      "# Aqui podeis a\u00f1adir mas ejemplos\n",
      "print cifrado_cesar(\"PROGRAMACION PARA DATA SCIENCE\", 1)"
     ],
     "language": "python",
     "metadata": {},
     "outputs": [
      {
       "output_type": "stream",
       "stream": "stdout",
       "text": [
        "\n"
       ]
      }
     ],
     "prompt_number": 1
    },
    {
     "cell_type": "markdown",
     "metadata": {},
     "source": [
      "### Pregunta 1\n",
      "\n",
      "Las funciones range y xrange pueden utilizarse con la misma finalidad, pero su funcionamiento es distinto. Explicad en qu\u00e9 se diferencian y comentad para qu\u00e9 sirve la palabra reservada *yield*. Pon un ejemplo de uso de *range*, *xrange* y otro de *yield*.\n",
      "\n",
      "**Respuesta:**"
     ]
    },
    {
     "cell_type": "markdown",
     "metadata": {},
     "source": [
      "Tu respuesta"
     ]
    },
    {
     "cell_type": "markdown",
     "metadata": {},
     "source": [
      "### Pregunta 2\n",
      "\n",
      "El paradigma de programaci\u00f3n orientada a objetos es ampliamente utilizado en gran parte de las librer\u00edas que se escriben en Python. Es una forma \u00fatil de encapsular informaci\u00f3n de la que se ocupar\u00e1 el propio objeto donde se ha definido esa informaci\u00f3n. Explicad qu\u00e9 es una clase, un objeto, un atributo, un m\u00e9todo, un constructor, una superclase y una subclase. Poned un ejemplo de definici\u00f3n de una clase en c\u00f3digo Python y un ejemplo de uso de esa misma clase. Puedes basarte en el material [Object Oriented Program Design](http://life.bsc.es/pid/brian/python/#/7): \n",
      "\n",
      "**Respuesta:**"
     ]
    },
    {
     "cell_type": "markdown",
     "metadata": {},
     "source": [
      "Tu respuesta"
     ]
    },
    {
     "cell_type": "markdown",
     "metadata": {},
     "source": [
      "### Pregunta 3\n",
      "\n",
      "Las excepciones son errores detectados en tiempo de ejecuci\u00f3n. Pueden y deben ser manejadas por el programador para minimizar el riesgo de que un determinado programa falle de forma no controlada. Poned ejemplos de tipos de excepci\u00f3n en el lenguaje Python y de c\u00f3mo se capturan.\n",
      "\n",
      "**Respuesta:**"
     ]
    },
    {
     "cell_type": "markdown",
     "metadata": {},
     "source": [
      "Tu respuesta"
     ]
    }
   ],
   "metadata": {}
  }
 ]
}