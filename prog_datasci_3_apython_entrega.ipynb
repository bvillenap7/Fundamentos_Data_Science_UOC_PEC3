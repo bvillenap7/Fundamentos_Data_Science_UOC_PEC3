{
 "metadata": {
  "kernelspec": {
   "display_name": "Python 2",
   "language": "python",
   "name": "python2"
  },
  "language_info": {
   "codemirror_mode": {
    "name": "ipython",
    "version": 2
   },
   "file_extension": ".py",
   "mimetype": "text/x-python",
   "name": "python",
   "nbconvert_exporter": "python",
   "pygments_lexer": "ipython2",
   "version": "2.7.12"
  },
  "name": "",
  "signature": "sha256:74f95025ee7d2b3aafe6544259e3e2e1bd05c77e9d52ad97de21110daa0510cd"
 },
 "nbformat": 3,
 "nbformat_minor": 0,
 "worksheets": [
  {
   "cells": [
    {
     "cell_type": "heading",
     "level": 1,
     "metadata": {},
     "source": [
      "Programaci\u00f3n para *Data Science*"
     ]
    },
    {
     "cell_type": "heading",
     "level": 2,
     "metadata": {},
     "source": [
      "Unidad 3: Conceptos avanzados de Python"
     ]
    },
    {
     "cell_type": "markdown",
     "metadata": {},
     "source": [
      "Ejercicios y preguntas te\u00f3ricas\n",
      "-------------------------------\n",
      "\n",
      "A continuaci\u00f3n, encontrar\u00e9is la parte que ten\u00e9is que completar en este modulo y las preguntas te\u00f3ricas a contestar."
     ]
    },
    {
     "cell_type": "markdown",
     "metadata": {},
     "source": [
      "### Pregunta 1\n",
      "\n",
      "Las funciones _range_ y _xrange_ pueden utilizarse con la misma finalidad, pero su funcionamiento es distinto. Explicad qu\u00e9 beneficios ofrece el uso de la funci\u00f3n _xrange_ comparada con la funci\u00f3n _range_ y comentad para qu\u00e9 sirve la palabra reservada *yield*. Poned un ejemplo de uso de *range*, *xrange* y otro de *yield*. **(1 punto)**\n",
      "\n",
      "**Respuesta:**"
     ]
    },
    {
     "cell_type": "markdown",
     "metadata": {},
     "source": [
      "Respuesta"
     ]
    },
    {
     "cell_type": "markdown",
     "metadata": {},
     "source": [
      "### Pregunta 3\n",
      "\n",
      "Las excepciones son errores detectados en tiempo de ejecuci\u00f3n. Pueden y deben ser manejadas por el programador para minimizar el riesgo de que un determinado programa falle de forma no controlada. Poned tres ejemplos de tipos de excepci\u00f3n en el lenguaje Python y de c\u00f3mo se capturan. **(1 punto)**\n",
      "\n",
      "**Respuesta:**"
     ]
    },
    {
     "cell_type": "markdown",
     "metadata": {},
     "source": [
      "Respuesta"
     ]
    },
    {
     "cell_type": "markdown",
     "metadata": {},
     "source": [
      "### Ejercicio 1\n",
      "\n",
      "Completad el c\u00f3digo necesario para calcular el n\u00famero de vocales y de consonantes respectivamente de un texto. **(1 punto)**"
     ]
    },
    {
     "cell_type": "code",
     "collapsed": false,
     "input": [
      "def contar_vocales_y_consonantes(texto):\n",
      "    # Cuenta las vocales contenidas en el string texto y tambi\u00e9n las consonantes.\n",
      "    num_vocales = 0\n",
      "    num_consonantes = 0\n",
      "    \n",
      "    # C\u00f3digo que hay que completar.\n",
      "    \n",
      "    return num_vocales, num_consonantes\n",
      "\n",
      "texto = \"Orbiting Earth in the spaceship, I saw how beautiful our planet is. \\\n",
      "            People, let us preserve and increase this beauty, not destroy it!\"\n",
      "\n",
      "num_vocales, num_consonantes = contar_vocales_y_consonantes(texto)\n",
      "print \"El n\u00famero de vocales es de %d\" % num_vocales\n",
      "print \"El n\u00famero de consonantes es de %d\" % num_consonantes"
     ],
     "language": "python",
     "metadata": {},
     "outputs": [
      {
       "output_type": "stream",
       "stream": "stdout",
       "text": [
        "El n\u00famero de vocales es de 0\n",
        "El n\u00famero de consonantes es de 0\n"
       ]
      }
     ],
     "prompt_number": 1
    },
    {
     "cell_type": "markdown",
     "metadata": {},
     "source": [
      "### Ejercicio 2\n",
      "\n",
      "Dada una mol\u00e9cula representada por un _string_ del estilo C9-H8-O4 calculad su masa at\u00f3mica. Por ejemplo, para una mol\u00e9cula C4-H3, la masa at\u00f3mica ser\u00eda de 4\\*12.01 + 3\\*1.007825.\n",
      "\n",
      "Haced una soluci\u00f3n general accediendo al diccionario mediante la clave, que en este caso ser\u00e1 el tipo de \u00e1tomo. Por ejemplo, para la mol\u00e9cula C5-H3 deber\u00edamos seguir estos pasos:\n",
      "* Separar la molecula por los guiones (podemos hacerlo con la funci\u00f3n split, por ejemplo).\n",
      "* Para cada una de las partes, C5 y H3, encontrar el tipo de \u00e1tomo: C y H (necesitaremos un bucle de alg\u00fan tipo aqu\u00ed).\n",
      "* Acceder al diccionario de masas y para la clave que se corresponde con el tipo de \u00e1tomo, obtener la masa.\n",
      "* Una vez encontrada la masa, multiplicarla por el n\u00famero de \u00e1tomos encontrados.\n",
      "\n",
      "Pista: para un string del tipo a = 'C15', a[0] nos proporcionar\u00e1 el tipo de \u00e1tomo, C. a[1:] nos proporciona el string restante: '15'. Tened en cuenta que ha de convertirse a n\u00famero decimal para poder multiplicarse. **(1.5 puntos)**"
     ]
    },
    {
     "cell_type": "code",
     "collapsed": false,
     "input": [
      "# Masas at\u00f3micas\n",
      "masas = {'H': 1.007825, 'C': 12.01, 'O': 15.9994, 'N': 14.0067, 'S': 31.972071, 'P': 30.973762}\n",
      "\n",
      "def calcula_masa_atomica(molecula):\n",
      "    \"\"\"\n",
      "    Calcula la masa at\u00f3mica de una mol\u00e9cula\n",
      "    \"\"\"\n",
      "    masa = 0.0\n",
      "    \n",
      "    # C\u00f3digo que hay que completar.\n",
      "    \n",
      "    return masa\n",
      "\n",
      "print calcula_masa_atomica('H2-O')\n",
      "print calcula_masa_atomica('H2-S-O4')\n",
      "print calcula_masa_atomica('C2-H5-O-H')\n",
      "print calcula_masa_atomica('H2-N-C6-H4-C-O-2H')"
     ],
     "language": "python",
     "metadata": {},
     "outputs": [
      {
       "output_type": "stream",
       "stream": "stdout",
       "text": [
        "0.0\n",
        "0.0\n",
        "0.0\n",
        "0.0\n"
       ]
      }
     ],
     "prompt_number": 2
    },
    {
     "cell_type": "markdown",
     "metadata": {},
     "source": [
      "### Ejercicio 3\n",
      "\n",
      "Completad las siguientes funciones matem\u00e1ticas y documentad el c\u00f3digo tambi\u00e9n de cada funci\u00f3n. Por \u00faltimo, escribid alg\u00fan ejemplo de uso de cada una de las funciones. **(1.5 puntos)**"
     ]
    },
    {
     "cell_type": "code",
     "collapsed": false,
     "input": [
      "# Completad las siguientes funciones matem\u00e1ticas\n",
      "import math\n",
      "\n",
      "def area_triangulo(base, altura):\n",
      "    # C\u00f3digo que hay que completar.\n",
      "    return 0.\n",
      "\n",
      "\n",
      "def longitud_circulo(radio):\n",
      "    # C\u00f3digo que hay que completar.\n",
      "    return 0.\n",
      "\n",
      "\n",
      "def tangente(angulo):\n",
      "    # C\u00f3digo que hay que completar.\n",
      "    return 0.\n",
      "\n",
      "\n",
      "def area_rectangulo(lado1, lado2):\n",
      "    # C\u00f3digo que hay que completar.\n",
      "    return 0.\n",
      "\n",
      "\n",
      "def volumen_esfera(radio):\n",
      "    # C\u00f3digo que hay que completar.\n",
      "    return 0.\n",
      "\n",
      "\n",
      "def volumen_cubo(lado):\n",
      "    # C\u00f3digo que hay que completar.\n",
      "    return 0.\n",
      "\n",
      "\n",
      "# Escribid aqu\u00ed dos ejemplos de uso para cada una de las funciones anteriores, por ejemplo:\n",
      "# print 'El volumen del cubo de lado 3.5 es %f' % volumen_cubo(3.5)\n",
      "# print 'El volumen del cubo de lado 12.3 es %f' % volumen_cubo(12.3)"
     ],
     "language": "python",
     "metadata": {},
     "outputs": [],
     "prompt_number": 4
    },
    {
     "cell_type": "markdown",
     "metadata": {},
     "source": [
      "### Ejercicio 4\n",
      "\n",
      "El siguiente ejercicio consiste en pasar un n\u00famero en base 16 (hexadecimal, 0-9/A-F) a base 10 (decimal).\n",
      "\n",
      "Dado un _string_ que representa un n\u00famero en hexadecimal, por ejemplo, AE3F, devolved el n\u00famero \n",
      "natural correspondiente, en este caso, 44607. **(1.5 puntos)**"
     ]
    },
    {
     "cell_type": "code",
     "collapsed": false,
     "input": [
      "# C\u00f3digo que hay que completar: DEFINID UNA FUNCI\u00d3N y escribid tres casos de uso de esa funci\u00f3n."
     ],
     "language": "python",
     "metadata": {},
     "outputs": [],
     "prompt_number": 5
    },
    {
     "cell_type": "markdown",
     "metadata": {},
     "source": [
      "### Ejercicio 5\n",
      "\n",
      "Uno de los algoritmos m\u00e1s b\u00e1sicos en criptograf\u00eda es el [cifrado C\u00e9sar](https://es.wikipedia.org/wiki/Cifrado_C%C3%A9sar), que fue utilizado por Julio C\u00e9sar para comunicarse con sus generales, y que consiste en dado un texto, por cada una de las letras del texto, a\u00f1adirle un desplazamiento para conseguir una nueva letra diferente de la original. Comprenderemos r\u00e1pidamente su mecanismo mediante un ejemplo:\n",
      "\n",
      "Si asignamos el n\u00famero 1 a la primera letra del abecedario, A, 2 a la siguiente, B, etc., imaginad que tenemos el siguiente mensaje:\n",
      "<code>\n",
      "ABC\n",
      "123\n",
      "</code>\n",
      "\n",
      "Si aplicamos un desplazamiento de 3, buscaremos cu\u00e1l es la letra en el abecedario que se corresponde:\n",
      "<code>\n",
      "DEF\n",
      "456\n",
      "</code>\n",
      "\n",
      "ABC se ha convertido en DEF porque hemos sumado un desplazamiento de 3. Tambi\u00e9n podr\u00edamos aplicar otros tipos de desplazamiento como los negativos. Por ejemplo, para el desplazamiento -1 y el mensaje original ABC tendr\u00edamos un mensaje cifrado de: ZAB.\n",
      "\n",
      "Escribid una funci\u00f3n que dado un mensaje cifrado y un desplazamiento, calcule y devuelva el mensaje original. **(1.5 puntos)**\n",
      "\n",
      "**Nota.** Deb\u00e9is usar como alfabeto de entrada el **alfabeto espa\u00f1ol en may\u00fasculas**."
     ]
    },
    {
     "cell_type": "code",
     "collapsed": false,
     "input": [
      "def descifrado_cesar(mensaje_cifrado, desplazamiento=1):\n",
      "    \"\"\"\n",
      "    Descifra el mensaje utilizando el metodo de Cesar dado un desplazamiento\n",
      "    \"\"\"\n",
      "    mensaje_original = \"\"\n",
      "    \n",
      "    # C\u00f3digo que hay que completar.\n",
      "    \n",
      "    return mensaje_original\n",
      "\n",
      "# A\u00f1adir al menos dos ejemplos m\u00e1s.\n",
      "print descifrado_cesar(\"QSPHSBNBDJP\u00d1 QBSB EBUB TDJF\u00d1DF\", 1)"
     ],
     "language": "python",
     "metadata": {},
     "outputs": [
      {
       "output_type": "stream",
       "stream": "stdout",
       "text": [
        "\n"
       ]
      }
     ],
     "prompt_number": 6
    },
    {
     "cell_type": "markdown",
     "metadata": {},
     "source": [
      "### Ejercicio 6\n",
      "\n",
      "El paradigma de programaci\u00f3n orientada a objetos es ampliamente utilizado en gran parte de las librer\u00edas que se escriben en Python. Es una forma \u00fatil de encapsular informaci\u00f3n de la que se ocupar\u00e1 el propio objeto donde se ha definido esa informaci\u00f3n. Deb\u00e9is usar este concepto para: **(1 punto)** \n",
      "\n",
      "a) Escribir en Python el c\u00f3digo necesario para crear una clase Animal con dos atributos, nombre y onomatopeya (\"miau\", \"guau\", etc.), y un m\u00e9todo, diAlgo, que deber\u00eda imprimir por pantalla el nombre del animal y su onomatopeya. Por ejemplo, la salida podr\u00eda ser algo as\u00ed: \"Terry acaba de decir miau.\"  "
     ]
    },
    {
     "cell_type": "code",
     "collapsed": false,
     "input": [
      "# Respuesta"
     ],
     "language": "python",
     "metadata": {},
     "outputs": [],
     "prompt_number": 8
    },
    {
     "cell_type": "markdown",
     "metadata": {},
     "source": [
      "b) Poner un ejemplo de uso de la clase anterior. "
     ]
    },
    {
     "cell_type": "code",
     "collapsed": false,
     "input": [
      "# Respuesta"
     ],
     "language": "python",
     "metadata": {},
     "outputs": [],
     "prompt_number": 9
    },
    {
     "cell_type": "markdown",
     "metadata": {},
     "source": [
      "c) Crear una subclase y una superclase de la clase Animal."
     ]
    },
    {
     "cell_type": "code",
     "collapsed": false,
     "input": [
      "# Respuesta"
     ],
     "language": "python",
     "metadata": {},
     "outputs": [],
     "prompt_number": 10
    },
    {
     "cell_type": "markdown",
     "metadata": {},
     "source": [
      "Pod\u00e9is basaros en el material [Object Oriented Program Design](http://life.bsc.es/pid/brian/python/#/7)."
     ]
    },
    {
     "cell_type": "markdown",
     "metadata": {},
     "source": [
      "### Ejercicio 7 (Opcional)\n",
      "\n",
      "Una gran multinacional ha decidido cambiar su logo basado en los tres caracteres que m\u00e1s aparecen en el nombre de la empresa. En estos momentos est\u00e1n probando varias combinaciones de nombres de empresa y logos basados en la condici\u00f3n anterior. Dicho esto, vuestra tarea es crear una funci\u00f3n que, dado el nombre de la empresa, devuelva los tres caracteres que m\u00e1s aparecen en el nombre.\n",
      "\n",
      "Deber\u00e9is:\n",
      "\n",
      "- Imprimir por pantalla los tres caracters m\u00e1s comunes junto con el n\u00famero de veces que aparecen.\n",
      "- Ordenar los caracteres de forma descendiente basado en el n\u00famero de veces que aparecen.\n",
      "- Si los caracteres aparecen el mismo n\u00famero de veces, deber\u00e9is ordenarlos en orden alfab\u00e9tico.\n",
      "\n",
      "Por ejemplo, dadas las condiciones anteriores, GOOGLE crear\u00eda su logo usando las letras G, O y E.\n",
      "\n",
      "Escribid una funci\u00f3n en Python que, dada una cadena de caracteres, devuelva los tres caracteres que m\u00e1s aparecen en ella. La cadena que se os proporcionar\u00e1 ser\u00e1 siempre en min\u00fascula y ten\u00e9is que imprimir cada caracter en una l\u00ednea separada. Deber\u00e9is mostrar el resultado para las siguientes empresas:\n",
      "\n",
      "- china construction bank\n",
      "- jpmorgan chase\n",
      "- general electric"
     ]
    },
    {
     "cell_type": "code",
     "collapsed": false,
     "input": [
      "# Respuesta"
     ],
     "language": "python",
     "metadata": {},
     "outputs": [],
     "prompt_number": 1
    }
   ],
   "metadata": {}
  }
 ]
}