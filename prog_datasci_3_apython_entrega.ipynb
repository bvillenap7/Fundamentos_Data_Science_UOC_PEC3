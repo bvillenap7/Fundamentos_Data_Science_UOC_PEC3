{
 "cells": [
  {
   "cell_type": "markdown",
   "metadata": {},
   "source": [
    "<div style=\"width: 100%; clear: both;\">\n",
    "    <div style=\"float: left; width: 50%;\">\n",
    "       <img src=\"http://www.uoc.edu/portal/_resources/common/imatges/marca_UOC/UOC_Masterbrand.jpg\", align=\"left\">\n",
    "    </div>\n",
    "</div>\n",
    "\n",
    "<div style=\"float: right; width: 50%;\">\n",
    "    <p style=\"margin: 0; padding-top: 22px; text-align:right;\">22.501 · Fundamentos de Programación</p>\n",
    "    <p style=\"margin: 0; text-align:right;\">Grado en Ciencia de Datos Aplicada</p>\n",
    "    <p style=\"margin: 0; text-align:right; padding-button: 100px;\">Estudios de Informática, Multimedia y Telecomunicación</p>\n",
    "</div>\n",
    "\n",
    "</div>\n",
    "<div style=\"width: 100%; clear: both;\">\n",
    "<div style=\"width:100%;\">&nbsp;</div>"
   ]
  },
  {
   "cell_type": "markdown",
   "metadata": {},
   "source": [
    "Fundamentos de Programación\n",
    "============================\n",
    "\n",
    "PAC 3 - Enunciado\n",
    "-----------------------------------------------------\n",
    "\n",
    "En este Notebook se encontraréis el conjunto de actividades evaluables como PEC de la asignatura. Veréis que cada una de ellas tiene asociada una puntuación, que indica el peso que tiene la actividad sobre la nota final de la PEC. Adicionalmente, hay un ejercicio opcional, que no tiene puntuación dentro de la PEC, pero que se valora al final del semestre de cara a conceder las matrículas de honor y redondear las notas finales. Podréis sacar la máxima nota de la PAC sin necesidad de hacer este ejercicio. El objetivo de este ejercicio es que sirva como pequeño reto para los estudiantes que quieran profundizar en el contenido de la asignatura.\n",
    "\n",
    "Veréis que todas las actividades de la PEC tienen una etiqueta, que indica los recursos necesarios para llevarla a cabo. Hay tres posibles etiquetas:\n",
    "\n",
    "* <span style=\"font-family: Courier New; background-color: #82b74b; color: #000000; padding: 3px; \">NM</span> **Sólo materiales**: las herramientas necesarias para realizar la actividad se pueden encontrar en los materiales de la asignatura.\n",
    "\n",
    "* <span style = \"font-family: Courier New; background-color: #ffcc5c; color: #000000; padding: 3px; \">EG</span> **Consulta externa guiada**: la actividad puede requerir hacer uso de herramientas que no se encuentran en los materiales de la asignatura, pero el enunciado contiene indicaciones de dónde o cómo encontrar la información adicional necesaria para resolver la actividad.\n",
    "\n",
    "* <span style = \"font-family: Courier New; background-color: #f2ae72; color: #000000; padding: 3px;\">EI</span> **Consulta externa independiente**: la actividad puede requerir hacer uso de herramientas que no se encuentran en los materiales de la asignatura, y el enunciado puede no incluir la descripción de dónde o cómo encontrar esta información adicional. Será necesario que el estudiante busque esta información utilizando los recursos que se han explicado en la asignatura.\n",
    "\n",
    "Es importante notar que estas etiquetas no indican el nivel de dificultad del ejercicio, sino únicamente la necesidad de consulta de documentación externa para su resolución. Además, recordad que las **etiquetas son informativas**, pero podréis consultar referencias externas en cualquier momento (aunque no se indique explícitamente) o puede ser que podáis hacer una actividad sin consultar ningún tipo de documentación. Por ejemplo, para resolver una actividad que sólo requiera los materiales de la asignatura, puedéis consultar referencias externas si queréis, ya sea tanto para ayudaros en la resolución como para ampliar el conocimiento!\n",
    "\n",
    "En cuanto a la consulta de documentación externa en la resolución de los ejercicios, recordad **citar siempre la bibliografía utilizada** para resolver cada actividad.\n",
    "\n",
    "---"
   ]
  },
  {
   "cell_type": "markdown",
   "metadata": {},
   "source": [
    "## Ejercicios para la PEC\n",
    "\n",
    "A continuación encontraréis los ejercicios que se deben completar en esta PEC y que forman parte de la evaluación de esta unidad."
   ]
  },
  {
   "cell_type": "markdown",
   "metadata": {},
   "source": [
    "### Ejercicio 1\n",
    " "
   ]
  },
  {
   "cell_type": "markdown",
   "metadata": {},
   "source": [
    "Considera la lista siguiente **(1.75 puntos)**: "
   ]
  },
  {
   "cell_type": "code",
   "execution_count": null,
   "metadata": {},
   "outputs": [],
   "source": [
    "lista=[25, 'Hello', False, 'Python', -4]"
   ]
  },
  {
   "cell_type": "markdown",
   "metadata": {},
   "source": [
    "a) Tienes un fragmento de código. Modifícalo para que muestre los elementos que se indican a continuación. Razona tu respuesta <span style = \"font-family: Courier New; background-color: #82b74b; color: #000000; padding: 3px; \">NM</span> **(0.5 puntos)**\n",
    "\n",
    "**Nota**: Tienes que realizar los mínimos cambios posibles."
   ]
  },
  {
   "cell_type": "markdown",
   "metadata": {},
   "source": [
    "a1) Debe mostrar los siguientes elementos: Hello, False, Python, -4. \n",
    "\n",
    "a2) Debe mostrar los siguientes elementos: 25, Hello, False. "
   ]
  },
  {
   "cell_type": "code",
   "execution_count": null,
   "metadata": {},
   "outputs": [],
   "source": [
    "# Código a modificar\n",
    "for n in lista: \n",
    "    if n == 'Hello':\n",
    "        continue\n",
    "    print(n)"
   ]
  },
  {
   "cell_type": "code",
   "execution_count": null,
   "metadata": {},
   "outputs": [],
   "source": [
    "# Respuesta"
   ]
  },
  {
   "cell_type": "markdown",
   "metadata": {},
   "source": [
    "b)Escribe un código que, dada la lista que estamos trabajando, 1) detecte los elementos de tipo string de la lista, 2) los ordene al revés (es decir, Hello sería olleH y Python, nohtyP) y 3) los muestre por pantalla. <span style = \"font-family: Courier New; background-color: #82b74b; color: #000000; padding: 3px; \">NM</span> **(0.25 puntos)**"
   ]
  },
  {
   "cell_type": "code",
   "execution_count": null,
   "metadata": {},
   "outputs": [],
   "source": [
    "# Respuesta"
   ]
  },
  {
   "cell_type": "markdown",
   "metadata": {},
   "source": [
    "c) Escribe un código que, dado un rango de números de 1 a 25, guarde los números primos en una lista. Muestra después por pantalla los elementos de la lista.<span style = \"font-family: Courier New; background-color: #ffcc5c; color: #000000; padding: 3px; \">EG</span>  **(1 punto)**"
   ]
  },
  {
   "cell_type": "markdown",
   "metadata": {},
   "source": [
    "**Nota:** Puedes consultar cómo detectar si un número es primero en este post de [stack overflow](https://stackoverflow.com/questions/56558234/checking-prime-number-in-python/56558320)."
   ]
  },
  {
   "cell_type": "code",
   "execution_count": null,
   "metadata": {},
   "outputs": [],
   "source": [
    "# Respuesta"
   ]
  },
  {
   "cell_type": "markdown",
   "metadata": {},
   "source": [
    "### Ejercicio 2\n",
    "\n",
    "a) Pon el código del ejercicio 1c) en forma de función. Debe cumplir los siguientes puntos:\n",
    "- Como entrada (*input*), especifica el número máximo que se desea recorrer (por ejemplo, en el ejercicio anterior, el número máximo era 25).\n",
    "- Como salida (*output*), debe devolver la lista de números primos.\n",
    "\n",
    "<span style = \"font-family: Courier New; background-color: #82b74b; color: #000000; padding: 3px; \">NM</span> **(0.5 puntos)** "
   ]
  },
  {
   "cell_type": "code",
   "execution_count": null,
   "metadata": {},
   "outputs": [],
   "source": [
    "# Respuesta"
   ]
  },
  {
   "cell_type": "markdown",
   "metadata": {},
   "source": [
    "b) Utiliza los casos de prueba detallados en la tabla siguiente para comprobar que tu código funciona correctamente. <span style = \"font-family: Courier New; background-color: #82b74b; color: #000000; padding: 3px; \">NM</span> **(0.25 puntos)**"
   ]
  },
  {
   "cell_type": "markdown",
   "metadata": {},
   "source": [
    "| máximo | lista resultado  | \n",
    "| --- | --- |\n",
    "| 9 | [2, 3, 5, 7] | \n",
    "| 15 | [2, 3, 5, 7, 11, 13] | \n",
    "| 50 | [2, 3, 5, 7, 11, 13, 17, 19, 23, 29, 31, 37, 41, 43, 47] |"
   ]
  },
  {
   "cell_type": "markdown",
   "metadata": {},
   "source": [
    "### Ejercicio 3\n",
    "\n",
    "Utilizando el idiom de [list comprehension](https://en.wikipedia.org/wiki/List_comprehension), proporciona una expresión que devuelva:"
   ]
  },
  {
   "cell_type": "markdown",
   "metadata": {},
   "source": [
    "a) Una lista de los números impares entre -10 y 10 (ambos incluidos). **(0.5 puntos)**\n",
    "\n",
    "b) Una lista en valor absoluto de los números múltiples de 3 entre -30 y 5 (ambos incluidos).**(0.5 puntos)**\n",
    "\n",
    "c) Una lista de todas las letras de la siguiente frase **A bird in hand is worth two in the bush**. La lista no debe tener elementos vacíos.**(0.5 puntos)**\n",
    "\n",
    "d) Haz lo mismo que en el apartado c) pero con una función *lambda*. **Opcional**\n",
    "\n",
    "**(1.5 puntos)** <span style=\"font-family: Courier New; background-color: #ffcc5c; color: #000000; padding: 3px; \">EG</span>\n"
   ]
  },
  {
   "cell_type": "markdown",
   "metadata": {},
   "source": [
    "**Nota**: Para realizar esta actividad necesitarás investigar qué son las *list comprehension* y qué sintaxis utilizan. Para ello, se recomienda, en primer lugar, que utilices un buscador para encontrar información genérica sobre esta construcción. Después, recomendamos que consultes stackoverflow (un sitio de preguntas-y-respuestas muy popular entre programadores) para ver algunos ejemplos de problemas que se pueden resolver con esta construcción:\n",
    "\n",
    "https://stackoverflow.com/questions/12555443/squaring-all-elements-ina-list \n",
    "\n",
    "https://stackoverflow.com/questions/57166908/using-list-comprehension-i-want-to-printodd-even-with-string-indicating-even/57167016"
   ]
  },
  {
   "cell_type": "code",
   "execution_count": null,
   "metadata": {},
   "outputs": [],
   "source": [
    "# Respuesta"
   ]
  },
  {
   "cell_type": "markdown",
   "metadata": {},
   "source": [
    "### Ejercicio 4"
   ]
  },
  {
   "cell_type": "markdown",
   "metadata": {},
   "source": [
    "a) Nos interesa mucho la geografía y queremos realizar un programa que, dado un país, nos dé información concreta. Los puntos que debemos considerar son los siguientes **(2.5 puntos)**: \n",
    "- El código debe estar en forma de función, con el nombre del país como entrada (*input*). <span style = \"font-family: Courier New; background-color: #82b74b; color: #000000; padding: 3px; \">NM</span> **(0.5 puntos)**\n",
    "- Se debe crear un diccionario que, para cada país, contenga el nombre de su capital, la moneda, los habitantes por $km^{2}$ y el continente. Por ejemplo, por Francia, la información que tendríamos sería: París, Euro, 121 y Europa. <span style = \"font-family: Courier New; background-color: #82b74b; color: #000000; padding: 3px; \">NM</span> **(0.5 puntos)**\n",
    "- En el diccionario se deben incluir los países siguientes: Francia, España, Italia, Japón, India, China, USA, Canadá, México, Argentina, Perú, Ghana, Egipto, Nigeria, Australia y Nueva Zelanda.<span style = \"font-family: Courier New; background-color: #82b74b; color: #000000; padding: 3px; \">NM</span> **(0.5 puntos)**\n",
    "- Como salida (*output*), el programa debe mostrar un mensaje que contenga la información del país que solicitamos. Por ejemplo, en el caso de Francia:\n",
    "\n",
    "*La capital de Francia es París. La moneda utilizada es Euro. El país tiene 121 $km^{2}$ y se ubica en el continente Europa.*\n",
    "<span style = \"font-family: Courier New; background-color: #82b74b; color: #000000; padding: 3px; \">NM</span> **(0.5 puntos)**\n",
    "- Si se solicita información de un país que no está en el diccionario, el programa debe mostrar un mensaje avisando.<span style = \"font-family: Courier New; background-color: #82b74b; color: #000000; padding: 3px; \">NM</span> **(0.5 puntos)**"
   ]
  },
  {
   "cell_type": "code",
   "execution_count": null,
   "metadata": {},
   "outputs": [],
   "source": [
    "# Respuesta"
   ]
  },
  {
   "cell_type": "markdown",
   "metadata": {},
   "source": [
    "b) Utiliza los casos de prueba detallados en la tabla siguiente para comprobar que la función que has creado funciona correctamente.\n",
    "<span style = \"font-family: Courier New; background-color: #82b74b; color: #000000; padding: 3px; \">NM</span> **(0.5 puntos)**"
   ]
  },
  {
   "cell_type": "markdown",
   "metadata": {},
   "source": [
    "| País | Mensaje | \n",
    "| --- | --- |\n",
    "| Italia | La capital de Italia es Roma. La moneda utilizada es Euro. El país tiene 196 habitantes por km2 y se sitúa en el continente Europa. | \n",
    "| Japon | La capital de Japon es Tokio. La moneda utilizada es Yen. El país tiene 332 habitantes por km2 y se sitúa en el continente Asia. | \n",
    "| Canada | La capital de Canada es Ottawa. La moneda utilizada es Dolar. El país tiene 4 habitantes por km2 y se sitúa en el continente America. | \n",
    "| Argentina | La capital de Argentina es Buenos Aires. La moneda utilizada es Peso. El país tiene 17 habitantes por km2 y se sitúa en el continente America. | \n",
    "| Alemania | [ERROR] El país Alemanya no está en la base de datos. | \n",
    "| Australia | La capital de Australia es Canberra. La moneda utilizada es Dolar. El país tiene 3 habitantes por km2 y se sitúa en el continente Oceanía. | "
   ]
  },
  {
   "cell_type": "code",
   "execution_count": null,
   "metadata": {},
   "outputs": [],
   "source": [
    "# Respuesta"
   ]
  },
  {
   "cell_type": "markdown",
   "metadata": {},
   "source": [
    "### Ejercicio 5"
   ]
  },
  {
   "cell_type": "markdown",
   "metadata": {},
   "source": [
    "Queremos crear un programa que permita practicar las tablas de multiplicar. Para ello, tendremos en cuenta los siguientes puntos **(2 puntos)**:\n",
    "- Multiplicaremos 2 números enteros aleatorios entre 0 y 10. Para ello, puedes utilizar la función [random.randint](https://numpy.org/doc/stable/reference/random/generated/numpy.random.randint.html) de la librería Numpy. <span style = \"font-family: Courier New; background-color: #ffcc5c; color: #000000; padding: 3px; \">EG</span> **(0.5 puntos)**\n",
    "- El usuario introducirá por pantalla la respuesta a la multiplicación. <span style = \"font-family: Courier New; background-color: #ffcc5c; color: #000000; padding: 3px; \">EG</span> **(0.5 puntos)**\n",
    "- El programa comparará la respuesta del usuario con la correcta. Si la respuesta es correcta, mostrará un mensaje felicitando al usuario. Si la respuesta es incorrecta, avisará al usuario y mostrará la respuesta correcta. <span style = \"font-family: Courier New; background-color: #82b74b; color: #000000; padding: 3px; \">NM</span> **(0.5 puntos)**\n",
    "- El programa se pondrá en forma de función: calculadora_multiplicacion(). <span style = \"font-family: Courier New; background-color: #82b74b; color: #000000; padding: 3px; \">NM</span> **(0.5 puntos)**\n",
    "\n",
    "**Nota**: En este [enllace](https://pynative.com/python-input-function-get-user-input/) encontrarás información sobre la función *input*, que permite al usuario introducir datos mediante el teclado. Ten en cuenta que la función input siempre devuelve strings, por tanto, debe transformarse el input del usuario a integer."
   ]
  },
  {
   "cell_type": "code",
   "execution_count": null,
   "metadata": {},
   "outputs": [],
   "source": [
    "# Para importar la librería numpy, utilizaremos lo siguiente:\n",
    "import numpy as np"
   ]
  },
  {
   "cell_type": "code",
   "execution_count": null,
   "metadata": {},
   "outputs": [],
   "source": [
    "# Respuesta"
   ]
  },
  {
   "cell_type": "markdown",
   "metadata": {},
   "source": [
    "**Opcional**\n",
    "\n",
    "Tal y como se ha diseñado el ejercicio (siguiendo los puntos del apartado anterior), si el input que introduce el usuario no es un número, por ejemplo, si pone por equivocación un string, todo el programa falla.\n",
    "Cuando se da un error como éste en el código, Python para la ejecución y devuelve una excepción, que nos indica que se ha encontrado un problema en el programa.\n",
    "\n",
    "Que Python nos dé información al encontrarse una excepción es muy útil, pero normalmente no queremos que el programa se detenga, sino que queremos capturar la excepción y actuar en consecuencia. Para ello, Python tiene la sentencia try-except.\n",
    "\n",
    "Dado un código, probamos (try) de ejecutarlo y, en caso de encontrar un error, lo capturamos y hacemos algo al respecto (excepto) en vez de detener el programa.\n",
    "\n",
    "Busca información sobre la sentencia try-except y aplícala a su función para que, en caso de introducir por error un input que no es un número, el programa muestre un mensaje de error avisando al usuario."
   ]
  },
  {
   "cell_type": "code",
   "execution_count": null,
   "metadata": {},
   "outputs": [],
   "source": [
    "# Respuesta"
   ]
  },
  {
   "cell_type": "markdown",
   "metadata": {},
   "source": [
    "### Ejercicio 6"
   ]
  },
  {
   "cell_type": "markdown",
   "metadata": {},
   "source": [
    "Hemos encontrado un dataset con información de boxeadores profesionales. La primera columna contiene la cabecera, que define cada una de las columnas (Ranking, Surname, Name, Country, Weight y Sex) y, a continuación, tenemos la información de los boxeadores ordenados por su ranking.\n",
    "**(1 punto)**\n",
    "\n",
    "a) Abre el archivo y responde a las siguientes preguntas: <span style = \"font-family: Courier New; background-color: #82b74b; color: #000000; padding: 3px; \">NM</span> **(0.5 puntos)**\n",
    "- ¿Cuántas mujeres boxeadoras hay?\n",
    "- ¿Cuál es el porcentaje de mujeres respecto al total de boxeadores (hombres y mujeres)? Muestra el resultado con sólo 2 decimales."
   ]
  },
  {
   "cell_type": "code",
   "execution_count": null,
   "metadata": {},
   "outputs": [],
   "source": [
    "# Respuesta"
   ]
  },
  {
   "cell_type": "markdown",
   "metadata": {},
   "source": [
    "b) Guarda, en un nuevo archivo de texto, sólo la información de los boxeadores españoles (es decir, aquellas filas donde Country sea \"ES\"). <span style = \"font-family: Courier New; background-color: #82b74b; color: #000000; padding: 3px; \">NM</span> **(0.5 puntos)**"
   ]
  },
  {
   "cell_type": "code",
   "execution_count": null,
   "metadata": {},
   "outputs": [],
   "source": [
    "# Respuesta"
   ]
  }
 ],
 "metadata": {
  "kernelspec": {
   "display_name": "Python 3",
   "language": "python",
   "name": "python3"
  },
  "language_info": {
   "codemirror_mode": {
    "name": "ipython",
    "version": 3
   },
   "file_extension": ".py",
   "mimetype": "text/x-python",
   "name": "python",
   "nbconvert_exporter": "python",
   "pygments_lexer": "ipython3",
   "version": "3.8.5"
  }
 },
 "nbformat": 4,
 "nbformat_minor": 1
}
