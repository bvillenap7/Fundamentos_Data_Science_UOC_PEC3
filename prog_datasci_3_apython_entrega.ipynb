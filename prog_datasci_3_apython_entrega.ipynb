{
 "cells": [
  {
   "cell_type": "markdown",
   "metadata": {},
   "source": [
    "Programación para *Data Science*\n",
    "============================\n",
    "\n",
    "Unidad 3: Estructuras de control y funciones en Python\n",
    "--------------------------------------\n",
    "\n",
    "\n",
    "En este Notebook encontraréis dos conjuntos de ejercicios: un primer conjunto de **ejercicios para practicar** y un segundo conjunto de **actividades evaluables** como PEC de la asignatura.\n",
    "\n",
    "En cuanto al conjunto de ejercicios para practicar, éstos no puntúan para la PEC, pero os recomendamos que los intentéis resolver como parte del proceso de aprendizaje. Encontraréis ejemplos de posibles soluciones a los ejercicios al propio notebook, pero es importante que intentéis resolverlos vosotros antes de consultar las soluciones. Las soluciones os permitirán validar vuestras respuestas, así como ver alternativas de resolución de las actividades. También os animamos a preguntar cualquier duda que surja sobre la resolución de los **ejercicios para practicar** en el foro del aula.\n",
    "\n",
    "En relación a las actividades evaluables, veréis que cada una de ellas tiene asociada una puntuación que indica el peso que tiene la actividad sobre la nota de la PEC. Adicionalmente, hay un ejercicio opcional, que no tiene puntuación dentro de la PEC, pero que se valora al final del semestre de cara a conceder las matrículas de honor y redondear las notas finales. Podéis sacar la máxima nota de la PEC sin necesidad de hacer este ejercicio! El objetivo de este ejercicio es que sirva como pequeño reto para los estudiantes que quieran profundizar en el contenido de la asignatura.\n",
    "\n",
    "Además, veréis que todas las actividades tienen una etiqueta que indica los recursos necesarios para llevarla a cabo. Hay tres posibles etiquetas:\n",
    "\n",
    "* <span style=\"font-family: Courier New; background-color: #82b74b; color: #000000; padding: 3px; \">NM</span> **Sólo materiales**: las herramientas necesarias para realizar la actividad se pueden encontrar en los materiales de la asignatura. \n",
    "\n",
    "* <span style=\"font-family: Courier New; background-color: #ffcc5c; color: #000000; padding: 3px; \">EG</span> **Consulta externa guiada**: la actividad puede requerir hacer uso de herramientas que no se encuentran en los materiales de la asignatura, pero el enunciado contiene indicaciones de dónde o cómo encontrar la información adicional necesaria para resolver la actividad.\n",
    "\n",
    "* <span style=\"font-family: Courier New; background-color: #f2ae72; color: #000000; padding: 3px; \">EI</span> **Consulta externa independente**: la actividad puede requerir hacer uso de herramientas que no se encuentran en los materiales de la asignatura, y el enunciado puede no incluir la descripción de dónde o cómo encontrar esta información adicional. Será necesario que el estudiante busque esta información utilizando los recursos que se han explicado en la asignatura.\n",
    "\n",
    "Es importante notar que estas etiquetas no indican el nivel de dificultad del ejercicio, sino únicamente la necesidad de consulta de documentación externa para su resolución. Además, recordad que las **etiquetas son informativas**, pero podréis consultar referencias externas en cualquier momento (aunque no se indique explícitamente) o puede ser que podáis hacer una actividad sin consultar ningún tipo de documentación. Por ejemplo, para resolver una actividad que sólo requiera los materiales de la asignatura, puedéis consultar referencias externas si queréis, ya sea tanto para ayudaros en la resolución como para ampliar el conocimiento!\n",
    "\n",
    "En cuanto a la consulta de documentación externa en la resolución de los ejercicios, recordad **citar siempre la bibliografía utilizada** para resolver cada actividad."
   ]
  },
  {
   "cell_type": "markdown",
   "metadata": {},
   "source": [
    "---"
   ]
  },
  {
   "cell_type": "markdown",
   "metadata": {},
   "source": [
    "## Ejercicios para practicar\n",
    "\n",
    "**Los siguientes 3 ejercicios no puntúan para la PEC**, pero os recomendamos que los intentéis resolver antes de pasar a los ejercicios propios de la PEC. También encontraréis las soluciones a estos ejercicios al final del Notebook."
   ]
  },
  {
   "cell_type": "markdown",
   "metadata": {},
   "source": [
    "### Ejercicio 1\n",
    "\n",
    "El ejercicio siguiente consiste en pasar un número en base 16 (hexadecimal, 0-9 / A-F) a base 10 (decimal). Para ello, debéis crear una **función** que dado un _string_ que representa un número en hexadecimal, por ejemplo, `AE3F`, devuelva el número natural correspondiente. En este caso el resultado sería `44607`. <span style=\"font-family: Courier New; background-color: #82b74b; color: #000000; padding: 3px; \">NM</span>"
   ]
  },
  {
   "cell_type": "code",
   "execution_count": 1,
   "metadata": {},
   "outputs": [],
   "source": [
    "# Respuesta"
   ]
  },
  {
   "cell_type": "markdown",
   "metadata": {},
   "source": [
    "### Ejercicio 2\n",
    "\n",
    "\n",
    "Escribir una función que dado un número entero positivo, `N`, genere un archivo con el nombre` output.txt` que contendrá `N` líneas, donde cada línea deberá mostrar un número consecutivo de letras` A`. <span style=\"font-family: Courier New; background-color: #82b74b; color: #000000; padding: 3px; \">NM</span>\n",
    "\n",
    "Por ejemplo, si `N = 4`, el archivo generado deberá tener el siguiente contenido:\n",
    "\n",
    "```\n",
    "A\n",
    "AA\n",
    "AAA\n",
    "AAAA\n",
    "```\n",
    "\n",
    "\n"
   ]
  },
  {
   "cell_type": "code",
   "execution_count": 2,
   "metadata": {},
   "outputs": [],
   "source": [
    "# Respuesta"
   ]
  },
  {
   "cell_type": "markdown",
   "metadata": {},
   "source": [
    "### Ejercicio 3\n",
    "\n",
    "Completad el código necesario para calcular el número de vocales y de consonantes respectivamente de un texto. <span style=\"font-family: Courier New; background-color: #82b74b; color: #000000; padding: 3px; \">NM</span>"
   ]
  },
  {
   "cell_type": "code",
   "execution_count": 3,
   "metadata": {
    "attributes": {
     "classes": [
      "sourceCode"
     ],
     "id": ""
    }
   },
   "outputs": [],
   "source": [
    "def contar_vocales_y_consonantes(texto):\n",
    "    # Cuenta las vocales contenidas en el string texto y también las consonantes.\n",
    "    num_vocales = 0\n",
    "    num_consonantes = 0\n",
    "\n",
    "    # Código que hay que completar.\n",
    "\n",
    "    return (num_vocales, num_consonantes)\n"
   ]
  },
  {
   "cell_type": "code",
   "execution_count": 4,
   "metadata": {},
   "outputs": [],
   "source": [
    "# Respuesta"
   ]
  },
  {
   "cell_type": "markdown",
   "metadata": {},
   "source": [
    "---\n",
    "\n",
    "## Ejercicios y preguntas teóricas para la PEC\n",
    "\n",
    "A continuación, encontraréis los **ejercicios y preguntas teóricas que debéis completar en esta PEC** y que forman parte de la evaluación de esta unidad."
   ]
  },
  {
   "cell_type": "markdown",
   "metadata": {},
   "source": [
    "### Ejercicio 1\n",
    "\n",
    "\n",
    "Un peatón quiere cruzar una calle por un paso de peatones que tiene un semáforo. El peatón deberá decidir si cruza o no la calle, y lo hará considerando algunos factores. En concreto, el peatón cruzará la calle si el semáforo del paso de peatones está en verde y no hay ningún vehículo interfiriendo el paso. En caso contrario (es decir, si no se cumplen todas las condiciones anteriores), el peatón se quedará quieto y no cruzará la calle.\n",
    "\n",
    "Escribir código que compruebe si el peatón puede o no cruzar la calle, y muestre por pantalla el mensaje \"El peatón cruza\" o \"El peatón se queda quieto\" dependiendo de la decisión del peatón.\n",
    "\n",
    "Para comprobar las condiciones que afectan a la decisión del peatón, disponéis de las siguientes variables:\n",
    "* `color_semaforo`: una cadena de caracteres que puede contener los valores \"verde\", \"amarillo\" y \"rojo\"\n",
    "* `vehiculo_interfiriendo`: un booleano indicando si hay o no un vehículo interfiriendo (puede tomar los valores True o False)\n",
    "\n",
    "**(1.5 puntos)**  <span style=\"font-family: Courier New; background-color: #82b74b; color: #000000; padding: 2px; \">NM</span>"
   ]
  },
  {
   "cell_type": "code",
   "execution_count": 7,
   "metadata": {},
   "outputs": [],
   "source": [
    "# Valores iniciales de las variables color_semaforo y vehiculo_interfiriendo\n",
    "# Recordad que podéis cambiar estos valores para hacer pruebas con vuestro código!\n",
    "\n",
    "color_semaforo = \"amarillo\"\n",
    "vehiculo_interfiriendo = False\n",
    "\n",
    "# Respuesta\n",
    "\n"
   ]
  },
  {
   "cell_type": "markdown",
   "metadata": {},
   "source": [
    "### Ejercicio 2\n",
    "\n",
    "Escribir una función que encapsule el comportamiento del código del ejercicio anterior. La función recibirá dos parámetros, el color del semáforo y si hay un vehículo interfiriendo y **devolverá un valor lógico** indicando si el peatón puede o no cruzar la calle. Adicionalmente, la función mostrará por pantalla el mismo mensaje que el ejercicio anterior.\n",
    "\n",
    "Haced tres llamadas de ejemplo a la función anterior, con valores diferentes de los parámetros de entrada, de forma que cada llamada devuelva uno de los tres posibles valores de retorno (`True`,` False`, `-1`). Comprobad que el resultado devuelto por la función es el que se esperaba.\n",
    "\n",
    "Consideraciones:\n",
    "\n",
    "- La función debe controlar que los valores de los parámetros son válidos. En caso contrario, mostrará un mensaje de error (\"Los parámetros introducidos no son válidos\") y devolverá el valor -1. Los parámetros se consideran válidos si son del tipo correcto (cadena de caracteres para el color del semáforo y booleano para el flag de vehículo) y contienen valores válidos (detallados en el ejercicio anterior).\n",
    "\n",
    "**(1.5 puntos)**   <span style=\"font-family: Courier New; background-color: #82b74b; color: #000000; padding: 2px; \">NM</span>"
   ]
  },
  {
   "cell_type": "code",
   "execution_count": 6,
   "metadata": {},
   "outputs": [],
   "source": [
    "# Respuesta: Definición de la función\n",
    "                "
   ]
  },
  {
   "cell_type": "code",
   "execution_count": 8,
   "metadata": {},
   "outputs": [],
   "source": [
    "# Respuesta: Llamadas a la función\n"
   ]
  },
  {
   "cell_type": "markdown",
   "metadata": {},
   "source": [
    "### Ejercicio 3\n",
    "\n",
    "Escribid una función que dado un número entero positivo, `N`, genere un archivo con el nombre `output.txt` que contendrá $2N- 1$ líneas, siguiendo un patrón de \"media pajarita\".\n",
    "\n",
    "Por ejemplo, si $N = 3$, el archivo generado deberá tener el siguiente contenido:\n",
    "\n",
    "```\n",
    "***\n",
    "**\n",
    "*\n",
    "**\n",
    "***\n",
    "```\n",
    "\n",
    "o si $N = 4$, el siguiente contenido:\n",
    "\n",
    "```\n",
    "****\n",
    "***\n",
    "**\n",
    "*\n",
    "**\n",
    "***\n",
    "****\n",
    "```\n",
    "\n",
    "Nota: `N` siempre será $\\ge 1$. Si $N = 1$, el fichero contendrá una única línea con un solo asterisco.\n",
    "\n",
    "**(1.5 puntos)**  <span style=\"font-family: Courier New; background-color: #82b74b; color: #000000; padding: 2px; \">NM</span>"
   ]
  },
  {
   "cell_type": "code",
   "execution_count": 8,
   "metadata": {
    "attributes": {
     "classes": [
      "sourceCode"
     ],
     "id": ""
    }
   },
   "outputs": [],
   "source": [
    "# Respuesta\n"
   ]
  },
  {
   "cell_type": "markdown",
   "metadata": {},
   "source": [
    "### Ejercicio 4\n",
    "\n",
    "Escribid una función que muestre por pantalla todas las posibles palabras de tres letras que se pueden hacer con las letras \"A\", \"B\" y \"C\". La función deberá devolver una lista con estas palabras.**(1.5 puntos)** <span style=\"font-family: Courier New; background-color: #82b74b; color: #000000; padding: 2px; \">NM</span>"
   ]
  },
  {
   "cell_type": "code",
   "execution_count": 9,
   "metadata": {},
   "outputs": [],
   "source": [
    "letras = [\"A\", \"B\", \"C\"]\n",
    "\n",
    "# Respuesta\n"
   ]
  },
  {
   "cell_type": "markdown",
   "metadata": {},
   "source": [
    "### Ejercicio 5\n",
    "\n",
    "Escribid una función que dado un diccionario con la masa de los planetas del sistema solar, pregunte al usuario que introduzca el nombre de un planeta y muestre por pantalla el nombre del planeta y su masa. La función devolverá la masa del planeta.\n",
    "\n",
    "Consideraciones:\n",
    "\n",
    "- La función debe controlar que el valor introducido por el usuario es un nombre de un planeta. En caso contrario, mostrará un mensaje de error (\"El nombre introducido no corresponde a ningún planeta\") y devolverá el valor -1.\n",
    "- Si el usuario introduce \"Pluton\", hay que mostrar un mensaje que informe al usuario que desde 2006, Plutón ya no es considerado un planeta, y devolver -1.\n",
    "- Debéis tener en cuenta que el nombre de los planetas que nos pasan por parámetro puede ser en minúsculas, mayúsculas o una combinación de ambas.\n",
    "- Podéis asumir que no habrá acentos en los nombres de los planetas.\n",
    "\n",
    "Nota 1: Para realizar la actividad, tendréis que capturar un texto que entrará el usuario. Consultad la [documentación oficial de la función input](https://docs.python.org/3/library/functions.html#input) para ver cómo hacerlo.\n",
    "\n",
    "Nota 2: También tendréis que pensar cómo tratar el hecho de que el usuario pueda utilizar mayúsculas y minúsculas en la escritura del nombre del planeta. Os animamos a usar un buscador para intentar encontrar alguna alternativa para resolver este subproblema! Recordad citar las referencias que hayáis usado para resolverlo!\n",
    "\n",
    "**(1.5 puntos)** <span style=\"font-family: Courier New; background-color: #ffcc5c; color: #000000; padding: 3px; \">EG</span>"
   ]
  },
  {
   "cell_type": "code",
   "execution_count": 10,
   "metadata": {},
   "outputs": [],
   "source": [
    "masas = {'Mercurio': 3.20*10**23, 'Venus': 4.87*10**24, 'Terra': 5.9*10**24, 'Marte': 6.42*10**23, 'Jupiter': 1.90*10**27, \n",
    "          'Saturno': 5.68*10**26, 'Urano': 8.68*10**25, 'Neptuno': 1.02*10**26}\n",
    "\n",
    "# Respuesta\n"
   ]
  },
  {
   "cell_type": "markdown",
   "metadata": {},
   "source": [
    "Referencias consultadas:\n",
    "\n",
    "*Incluir aquí las referencias*"
   ]
  },
  {
   "cell_type": "markdown",
   "metadata": {},
   "source": [
    "### Ejercicio 6\n",
    "\n",
    "Las excepciones son errores detectados en tiempo de ejecución. Pueden y deben ser gestionadas por el programador para minimizar el riesgo de que un determinado programa falle de manera no controlada. Escribid, en lenguaje Python, como generar y capturar la siguiente excepción: `NameError`. **(1 punto)** <span style=\"font-family: Courier New; background-color: #ffcc5c; color: #000000; padding: 3px; \">EG</span>\n",
    "\n",
    "Nota: Para hacer este ejercicio, consultad la [documentación oficial de Python sobre gestión de errores](https://docs.python.org/3/tutorial/errors.html)."
   ]
  },
  {
   "cell_type": "code",
   "execution_count": 11,
   "metadata": {},
   "outputs": [],
   "source": [
    "# Respuesta\n"
   ]
  },
  {
   "cell_type": "markdown",
   "metadata": {},
   "source": [
    "###  Ejercicio 7\n",
    "\n",
    "Python dispone de un *idiom* muy útil conocido como *list comprehensions*. Utilizando este *idiom*, proporcionad una expresión que devuelva las listas siguientes.\n",
    "\n",
    "Nota: Para realizar esta actividad necesitaréis investigar qué son las *list comprehensions* y qué sintaxis utilizan. Para ello, se recomienda en primer lugar que utilicéis un buscador para encontrar información genérica sobre esta construcción. Después, os recomendamos que consultéis stackoverflow para ver algunos ejemplos de problemas que se pueden resolver con esta construcción.\n",
    "\n",
    "\n",
    "[stackoverflow](https://stackoverflow.com/) es un sitio de preguntas-y-respuestas muy popular entre programadores. Veréis que para la gran mayoría de las dudas que tengáis, habrá alguien que ya les habrá tenido (y consultado) anteriormente! Así pues, más allá de preguntar vosotros mismos las dudas allí (nosotros ya tenemos el foro del aula para ello!), consultar esta web os permitirá ver qué soluciones proponen otros programadores a estas dudas. A menudo habrá más de una solución a un mismo problema, y podréis valorar cuál es la más adecuada para vuestro problema.\n",
    "\n",
    "Para ver ejemplos de problemas que son adecuados para resolver con *list comprehensions*, os recomendamos leer las siguientes páginas:\n",
    "* https://stackoverflow.com/questions/12555443/squaring-all-elements-in-a-list\n",
    "* https://stackoverflow.com/questions/18551458/how-to-frame-two-for-loops-in-list-comprehension-python\n",
    "* https://stackoverflow.com/questions/24442091/list-comprehension-with-condition\n",
    "* https://stackoverflow.com/questions/41676212/i-want-to-return-only-the-odd-numbers-in-a-list\n",
    "* https://stackoverflow.com/questions/4260280/if-else-in-a-list-comprehension\n",
    "\n",
    "**(1.5 puntos)**  <span style=\"font-family: Courier New; background-color: #ffcc5c; color: #000000; padding: 3px; \">EG</span>\n"
   ]
  },
  {
   "cell_type": "markdown",
   "metadata": {},
   "source": [
    "a) Una lista de los cubos de los números de la lista `list_1`:"
   ]
  },
  {
   "cell_type": "code",
   "execution_count": 12,
   "metadata": {},
   "outputs": [],
   "source": [
    "list_1 = [1, 2, 3, 4, 5, 6, 7, 8, 9]\n",
    "\n",
    "# Respuesta\n"
   ]
  },
  {
   "cell_type": "markdown",
   "metadata": {},
   "source": [
    "b) Una lista de los cuadrados de los números impares de la lista `list_1`:"
   ]
  },
  {
   "cell_type": "code",
   "execution_count": 13,
   "metadata": {},
   "outputs": [],
   "source": [
    "# Respuesta\n"
   ]
  },
  {
   "cell_type": "markdown",
   "metadata": {},
   "source": [
    "c) Una lista con las tuplas `(0, 0), (0, 1), (0, 2), (0, 3), (1, 0), (1, 1), (1, 2), (1, 3), (2, 0), (2, 1), (2, 2), (2, 3), (3, 0), (3, 1), (3, 2), (3, 3)` a partir de las listas `list_2` i `list_3`:"
   ]
  },
  {
   "cell_type": "code",
   "execution_count": 15,
   "metadata": {
    "scrolled": true
   },
   "outputs": [
    {
     "data": {
      "text/plain": [
       "[(0, 0),\n",
       " (0, 1),\n",
       " (0, 2),\n",
       " (0, 3),\n",
       " (1, 0),\n",
       " (1, 1),\n",
       " (1, 2),\n",
       " (1, 3),\n",
       " (2, 0),\n",
       " (2, 1),\n",
       " (2, 2),\n",
       " (2, 3),\n",
       " (3, 0),\n",
       " (3, 1),\n",
       " (3, 2),\n",
       " (3, 3)]"
      ]
     },
     "execution_count": 15,
     "metadata": {},
     "output_type": "execute_result"
    }
   ],
   "source": [
    "list_2 = range(4)\n",
    "list_3 = range(4)\n",
    "\n",
    "# Respuesta\n"
   ]
  },
  {
   "cell_type": "markdown",
   "metadata": {},
   "source": [
    "### Ejercicio Opcional\n",
    "\n",
    "Al final de la Edad Media, en Francia, el diplomático francés Blaise de Vigenère desarrolló un algoritmo para cifrar mensajes que nadie fue capaz de romper durante aproximadamente 250 años. Este algoritmo se conoce con el nombre de [cifrado de Vigenère](https://es.wikipedia.org/wiki/Cifrado_de_Vigen%C3%A8re).\n",
    "\n",
    "\n",
    "El cifrado de Vigenère consiste en añadir a cada una de las letras de un texto un desplazamiento a partir de una clave secreta para conseguir una nueva letra diferente del original. Veamos un ejemplo:\n",
    "\n",
    "\n",
    "Si asignamos el número 1 en la primera letra del abecedario, A, 2 a la siguiente, B, etc., imaginad que tenemos el siguiente mensaje:\n",
    "<code>\n",
    "ABC\n",
    "123\n",
    "</code>\n",
    "\n",
    "y la siguiente clave secreta:\n",
    "<code>\n",
    "DEF\n",
    "456\n",
    "</code>\n",
    "\n",
    "A cada letra del mensaje original le aplicamos un desplazamiento en función de la misma posición dentro de la clave secreta. Por lo tanto, el mensaje cifrado quedaría de la siguiente forma:\n",
    "<code>\n",
    "   E       G       I\n",
    "(1 + 4) (2 + 5) (3 + 6)\n",
    "</code>\n",
    "\n",
    "Escribid una función que, dado un mensaje y una clave secreta, calcule y devuelva el mensaje cifrado.\n",
    "\n",
    "*Consideraciones:*\n",
    "\n",
    "- Utilizad como alfabeto de entrada **el alfabeto inglés en mayúsculas**.\n",
    "- El valor predeterminado de la clave secreta será **DATASCI**.\n",
    "\n",
    "<span style=\"font-family: Courier New; background-color: #f2ae72; color: #000000; padding: 3px; \">EI</span>"
   ]
  },
  {
   "cell_type": "code",
   "execution_count": 14,
   "metadata": {
    "attributes": {
     "classes": [
      "sourceCode"
     ],
     "id": ""
    }
   },
   "outputs": [
    {
     "name": "stdout",
     "output_type": "stream",
     "text": [
      "\n"
     ]
    }
   ],
   "source": [
    "def cifrado_vigenere(mensaje, llave=\"DATASCI\"):\n",
    "    \"\"\"\n",
    "    Cifrar mensaje utilizando el cifrado de Vigenère\n",
    "    \"\"\"\n",
    "    mensaje_cifrado = \"\"\n",
    "\n",
    "    # Código que hay que completar\n",
    "    \n",
    "\n",
    "    return mensaje_cifrado\n",
    "\n",
    "# Aquí puede añadir más ejemplos:\n",
    "print(cifrado_vigenere(\"ATACAREMOS POR LA MANANA\"))"
   ]
  },
  {
   "cell_type": "markdown",
   "metadata": {},
   "source": [
    "---\n",
    "\n",
    "## Soluciones ejercicios para practicar"
   ]
  },
  {
   "cell_type": "markdown",
   "metadata": {},
   "source": [
    "### Ejercicio 1\n",
    "\n",
    "El ejercicio siguiente consiste en pasar un número en base 16 (hexadecimal, 0-9 / A-F) a base 10 (decimal). Para ello, debe crear una **función** que dado un _string_ que representa un número en hexadecimal, por ejemplo, `AE3F`, devuelva el número natural correspondiente. En este caso el resultado sería `44607`.\n",
    "\n",
    "**Respuesta**"
   ]
  },
  {
   "cell_type": "markdown",
   "metadata": {},
   "source": [
    "La formula para convertir un número hexadecimal a un número decimal, tomando como ejemplo el número AE3F, es:\n",
    "```A * 16**3 + E * 16**2 + 3 * 16**1 + F * 16**0 = 10 * 16**3 + 14 * 16**2 + 3 * 16**1 + 15 * 16**0```"
   ]
  },
  {
   "cell_type": "code",
   "execution_count": 6,
   "metadata": {},
   "outputs": [
    {
     "name": "stdout",
     "output_type": "stream",
     "text": [
      "44607\n",
      "4095\n",
      "291\n"
     ]
    }
   ],
   "source": [
    "def hex_to_dec(numero_hexadecimal):\n",
    "\n",
    "    hex_mapping = {'0': 0, '1': 1, '2': 2, '3': 3, '4': 4, '5': 5,\n",
    "                  '6': 6, '7': 7, '8': 8, '9': 9, 'A': 10, 'B': 11,\n",
    "                  'C': 12, 'D': 13, 'E': 14, 'F': 15}\n",
    "    \n",
    "    # Primero, comprobamos que el número que se pasa por parámetro es hexadecimal\n",
    "    all_hex = True\n",
    "    for c in numero_hexadecimal:\n",
    "        if not c in hex_mapping.keys():\n",
    "            all_hex = False            \n",
    "            \n",
    "    if all_hex:\n",
    "        \n",
    "        # Definimos la base para realizar las operaciones\n",
    "        base = 16\n",
    "        numero_decimal = 0\n",
    "        \n",
    "        # Invertimos el número hexadecimal para que nos sea más fácil trabajar con los índices\n",
    "        numero_hexadecimal = numero_hexadecimal[::-1]\n",
    "        \n",
    "        for i in range(len(numero_hexadecimal)):\n",
    "            # Por cada carácter hexadecimal, aplicamos la formula c * base ** y,\n",
    "            # donde c es la representación decimal del carácter y\n",
    "            # sumamos el resultado al resultado obtenido en la iteracó anterior\n",
    "            numero_decimal = numero_decimal + hex_mapping[numero_hexadecimal[i]] * base**i\n",
    "            \n",
    "        return numero_decimal\n",
    "    else:\n",
    "        print(\"El número introducido no es correcto\")\n",
    "\n",
    "print(hex_to_dec('AE3F'))\n",
    "print(hex_to_dec('FFF'))\n",
    "print(hex_to_dec('123'))"
   ]
  },
  {
   "cell_type": "markdown",
   "metadata": {},
   "source": [
    "### Ejercicio 2\n",
    "\n",
    "\n",
    "Escribid una función que dado un número entero positivo, `N`, genere un archivo con el nombre` output.txt` que contendrá `N` líneas, donde cada línea deberá mostrar un número consecutivo de letras` A`.\n",
    "\n",
    "Por ejemplo, si `N = 4`, el archivo generado deberá tener el siguiente contenido:\n",
    "\n",
    "```\n",
    "A\n",
    "AA\n",
    "AAA\n",
    "AAAA\n",
    "```\n",
    "\n",
    "\n",
    "**Respuesta**"
   ]
  },
  {
   "cell_type": "code",
   "execution_count": 18,
   "metadata": {},
   "outputs": [],
   "source": [
    "# Definimos una función que recibirá un número entero por parámetro\n",
    "def generar_archivo(N):\n",
    "    # Abrimos el archivo output.txt en modo escritura.\n",
    "    # El parámetro 'w' hará que si el archivo existe, éste se sobrescribirá\n",
    "    with open('output.txt', 'w') as fd: \n",
    " \n",
    "        # Recorremos el rango [0 ... N-1] \n",
    "        for i in range(N): \n",
    "            # Generamos una cadena con un número ascendente de caracteres A\n",
    "            linea = 'A' * (i + 1) \n",
    "            # Escribimos cada cadena generada en el fichero, añadiendo un salto de línea\n",
    "            fd.write(linea + '\\n') \n",
    "\n",
    "generar_archivo(4)"
   ]
  },
  {
   "cell_type": "markdown",
   "metadata": {},
   "source": [
    "### Ejercicio 3\n",
    "\n",
    "Completad el código necesario para calcular el número de vocales y de consonantes respectivamente de un texto.\n",
    "\n",
    "**Respuesta**"
   ]
  },
  {
   "cell_type": "code",
   "execution_count": 19,
   "metadata": {},
   "outputs": [
    {
     "name": "stdout",
     "output_type": "stream",
     "text": [
      "El numero de vocales és 44.\n",
      "El numero de consonantes és 62.\n"
     ]
    }
   ],
   "source": [
    "def contar_vocales_y_consonantes(text):\n",
    "    # Cuenta las vocales contenidas en el string texto y también las consonantes.\n",
    "    num_vocales = 0\n",
    "    num_consonantes = 0\n",
    "\n",
    "    # Definimos una lista con las vocales\n",
    "    vocales = ['a', 'e', 'i', 'o', 'u']\n",
    "    \n",
    "    for c in text.lower(): # Podemos convertir el texto en minúsculas para simplificar los cálculos\n",
    "        if c in vocales:\n",
    "            num_vocales = num_vocales + 1\n",
    "        elif c > 'a' and c <= 'z':\n",
    "            num_consonantes = num_consonantes + 1\n",
    "\n",
    "    return (num_vocales, num_consonantes)\n",
    "\n",
    "texto = \"Orbiting Earth in the spaceship, I saw how beautiful our planet is. \\\n",
    "            People, let us preserve and increase this beauty, not destroy it!\"\n",
    "\n",
    "num_vocales, num_consonantes = contar_vocales_y_consonantes(texto)\n",
    "print( \"El numero de vocales és %d.\" % num_vocales)\n",
    "print( \"El numero de consonantes és %d.\" % num_consonantes)"
   ]
  }
 ],
 "metadata": {
  "kernelspec": {
   "display_name": "Python 3",
   "language": "python",
   "name": "python3"
  },
  "language_info": {
   "codemirror_mode": {
    "name": "ipython",
    "version": 3
   },
   "file_extension": ".py",
   "mimetype": "text/x-python",
   "name": "python",
   "nbconvert_exporter": "python",
   "pygments_lexer": "ipython3",
   "version": "3.6.8"
  }
 },
 "nbformat": 4,
 "nbformat_minor": 1
}
