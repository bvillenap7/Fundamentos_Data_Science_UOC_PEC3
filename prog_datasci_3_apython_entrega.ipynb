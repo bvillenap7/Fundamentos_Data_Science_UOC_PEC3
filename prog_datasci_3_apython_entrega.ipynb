{
 "cells": [
  {
   "cell_type": "markdown",
   "metadata": {},
   "source": [
    "<div style=\"width: 100%; clear: both;\">\n",
    "    <div style=\"float: left; width: 50%;\">\n",
    "       <img src=\"http://www.uoc.edu/portal/_resources/common/imatges/marca_UOC/UOC_Masterbrand.jpg\", align=\"left\">\n",
    "    </div>\n",
    "</div>\n",
    "\n",
    "<div style=\"float: right; width: 50%;\">\n",
    "    <p style=\"margin: 0; padding-top: 22px; text-align:right;\">22.501 · Fundamentos de Programación</p>\n",
    "    <p style=\"margin: 0; text-align:right;\">Grado en Ciencia de Datos Aplicada</p>\n",
    "    <p style=\"margin: 0; text-align:right; padding-button: 100px;\">Estudios de Informática, Multimedia y Telecomunicaciones</p>\n",
    "</div>\n",
    "\n",
    "</div>\n",
    "<div style=\"width: 100%; clear: both;\">\n",
    "<div style=\"width:100%;\">&nbsp;</div>"
   ]
  },
  {
   "cell_type": "markdown",
   "metadata": {},
   "source": [
    "Fundamentos de Programación\n",
    "============================\n",
    "\n",
    "PAC 3 - Enunciado\n",
    "-----------------------------------------------------\n",
    "\n",
    "En este Notebook se encontraréis el conjunto de actividades evaluables como PEC de la asignatura. Veréis que cada una de ellas tiene asociada una puntuación, que indica el peso que tiene la actividad sobre la nota final de la PEC. Adicionalmente, hay un ejercicio opcional, que no tiene puntuación dentro de la PEC, pero que se valora al final del semestre de cara a conceder las matrículas de honor y redondear las notas finales. Podréis sacar la máxima nota de la PAC sin necesidad de hacer este ejercicio. El objetivo de este ejercicio es que sirva como pequeño reto para los estudiantes que quieran profundizar en el contenido de la asignatura.\n",
    "\n",
    "Veréis que todas las actividades de la PEC tienen una etiqueta, que indica los recursos necesarios para llevarla a cabo. Hay tres posibles etiquetas:\n",
    "\n",
    "* <span style=\"font-family: Courier New; background-color: #82b74b; color: #000000; padding: 3px; \">NM</span> **Sólo materiales**: las herramientas necesarias para realizar la actividad se pueden encontrar en los materiales de la asignatura.\n",
    "\n",
    "* <span style = \"font-family: Courier New; background-color: #ffcc5c; color: #000000; padding: 3px; \">EG</span> **Consulta externa guiada**: la actividad puede requerir hacer uso de herramientas que no se encuentran en los materiales de la asignatura, pero el enunciado contiene indicaciones de dónde o cómo encontrar la información adicional necesaria para resolver la actividad.\n",
    "\n",
    "* <span style = \"font-family: Courier New; background-color: #f2ae72; color: #000000; padding: 3px;\">EI</span> **Consulta externa independiente**: la actividad puede requerir hacer uso de herramientas que no se encuentran en los materiales de la asignatura, y el enunciado puede no incluir la descripción de dónde o cómo encontrar esta información adicional. Será necesario que el estudiante busque esta información utilizando los recursos que se han explicado en la asignatura.\n",
    "\n",
    "Es importante notar que estas etiquetas no indican el nivel de dificultad del ejercicio, sino únicamente la necesidad de consulta de documentación externa para su resolución. Además, recordad que las **etiquetas son informativas**, pero podréis consultar referencias externas en cualquier momento (aunque no se indique explícitamente) o puede ser que podáis hacer una actividad sin consultar ningún tipo de documentación. Por ejemplo, para resolver una actividad que sólo requiera los materiales de la asignatura, puedéis consultar referencias externas si queréis, ya sea tanto para ayudaros en la resolución como para ampliar el conocimiento!\n",
    "\n",
    "En cuanto a la consulta de documentación externa en la resolución de los ejercicios, recordad **citar siempre la bibliografía utilizada** para resolver cada actividad.\n",
    "\n",
    "---"
   ]
  },
  {
   "cell_type": "markdown",
   "metadata": {},
   "source": [
    "Ejercicios y preguntas teóricas para la PEC\n",
    "-------------------------------\n"
   ]
  },
  {
   "cell_type": "markdown",
   "metadata": {},
   "source": [
    "### Ejercicio 1\n",
    "Tenemos un problema. Hemos perdido parte del código del ejercicio, pero sabemos que se han utilizado al menos dos variables: <code>lst</code> y <code>suma</code>. ¿Qué valor tendría la variable <code>suma</code> en cada uno de los siguientes casos? Explica lo que sucede en cada fragmento de código teniendo en cuenta que para todos los supuestos, el estado inicial de dichas variables viene dado siempre por el fragmento de código siguiente y sus resultados por pantalla:"
   ]
  },
  {
   "cell_type": "markdown",
   "metadata": {},
   "source": [
    "<div style=\"width: 100%; clear: both;\">\n",
    "    <div style=\"float: left; width: 100%;\">\n",
    "       <img src=\"./data/enunciado_ej1.png\", align=\"left\">\n",
    "    </div>\n",
    "</div>"
   ]
  },
  {
   "cell_type": "markdown",
   "metadata": {},
   "source": [
    "Recuerda que siempre puedes testear tus suposiciones, construyéndote las variables <code>lst</code> y <code>suma</code> que verifiquen las condiciones iniciales del enunciado. <span style = \"font-family: Courier New; background-color: #ffcc5c; color: #000000; padding: 3px; \">EG</span> **(2.5 puntos)** \n",
    "\n",
    "**NOTA**: En los enlances siguientes encontraréis información adicional para poder interpretar las instrucciones 'break' y 'continue': https://stackoverflow.com/questions/20893641/why-is-continue-not-working/20893653#20893653"
   ]
  },
  {
   "cell_type": "markdown",
   "metadata": {},
   "source": [
    "(a) \n",
    "```python\n",
    "for n in range(1, len(lst)):\n",
    "    continue\n",
    "    suma += n**2\n",
    "```\n",
    "(b) \n",
    "```python\n",
    "for val in range(len(lst) + 10):\n",
    "    suma += val\n",
    "    break\n",
    "```\n",
    "(c)\n",
    "```python\n",
    "l = len(lst)\n",
    "while((l > 2) and (suma < 100)):\n",
    "    suma += 1\n",
    "```\n",
    "(d)\n",
    "```python\n",
    "c1 = suma < 2\n",
    "c2 = True\n",
    "condiciones = c1 or (not c2)\n",
    "\n",
    "while(condiciones):\n",
    "    suma = 10\n",
    "    if c1 and suma > 2:\n",
    "        break\n",
    "```\n",
    "(e)\n",
    "```python\n",
    "l = []\n",
    "for k in range(1, 3):\n",
    "    l.append(len(lst) < k)\n",
    "\n",
    "suma = sum(l)\n",
    "```"
   ]
  },
  {
   "cell_type": "code",
   "execution_count": 1,
   "metadata": {},
   "outputs": [],
   "source": [
    "## Respuesta\n"
   ]
  },
  {
   "cell_type": "markdown",
   "metadata": {},
   "source": [
    "### Ejercicio 2\n"
   ]
  },
  {
   "cell_type": "markdown",
   "metadata": {},
   "source": [
    "(a) El fichero <code>filename</code> contiene información sobre todos los modelos de coche del mercado. Cada una de las columnas de información disponibles en dicho fichero están separadas entre ellas con un punto y coma. La primera fila contiene la cabecera, que define cada una de las columnas, y la primera columna define el tipo de vehículo ('suv', 'berlina', 'monovolumen', etc.). Con estos datos, explica qué miden las variables <code>total</code> y <code>suv</code> y razona por qué la variable <code>total</code> se inicializa a -1.  <span style = \"font-family: Courier New; background-color: #82b74b; color: #000000; padding: 3px; \">NM</span> **(0.5 puntos)**\n",
    "```python\n",
    "total = -1\n",
    "suv = 0\n",
    "\n",
    "with open(filename) as f:\n",
    "    for line in f:\n",
    "        if line.split(\";\")[0] == 'suv':\n",
    "            suv += 1\n",
    "        total += 1\n",
    "```"
   ]
  },
  {
   "cell_type": "code",
   "execution_count": null,
   "metadata": {},
   "outputs": [],
   "source": [
    "## Respuesta\n"
   ]
  },
  {
   "cell_type": "markdown",
   "metadata": {},
   "source": [
    "(b) Asigna un valor cualquiera a las variables <code>total</code> y <code>suv</code> del apartado anterior y escríbelas en un fichero \"output.csv\" en la carpeta \"data\" del directorio de trabajo. Los dos valores deberán escribirse en la misma fila, separados por una coma. No olvides añadir una cabecera para las dos columnas. Acto seguido, abre dicho fichero e imprime por pantalla los valores escritos previamente. <span style = \"font-family: Courier New; background-color: #82b74b; color: #000000; padding: 3px; \">NM</span> **(1.0 puntos)**"
   ]
  },
  {
   "cell_type": "code",
   "execution_count": 2,
   "metadata": {},
   "outputs": [],
   "source": [
    "## Respuesta\n"
   ]
  },
  {
   "cell_type": "markdown",
   "metadata": {},
   "source": [
    "### Ejercicio 3\n",
    "\n",
    "(a) Utiliza la librería **sys** para imprimir por pantalla una **lista** con las distintas rutas que contiene la variable **path** del sistema. <span style=\"font-family: Courier New; background-color: #82b74b; color: #000000; padding: 2px; \">NM</span> **(0.5 puntos)**\n",
    "\n",
    "(b) Recorre la lista anterior mediante un bucle e imprime por pantalla el índice de cada posición y la longitud (número de caracteres) de cada una de las rutas. <span style=\"font-family: Courier New; background-color: #82b74b; color: #000000; padding: 2px; \">NM</span> **(0.5 puntos)**\n",
    "\n",
    "(c) Construye un diccionario que tenga como \"keys\" el índice de la posición de cada ruta dentro de la lista y como \"values\" una tupla donde la primera posición sea la ruta (cadena de caracteres) y la segunda posición corresponda a la longitud (número de caracteres) de la ruta correspondiente. <span style=\"font-family: Courier New; background-color: #82b74b; color: #000000; padding: 2px; \">NM</span> **(0.5 puntos)**\n",
    "\n",
    "(d) Define una función que tome como argumento el diccionario del apartado anterior e imprima por pantalla el \"key\" y el \"value\" para cada uno de sus elementos siguiendo el formato siguiente: \"key\" : \"value\". No es necesario que retorne ningún valor. <span style=\"font-family: Courier New; background-color: #82b74b; color: #000000; padding: 2px; \">NM</span> **(0.5 puntos)**\n",
    "\n",
    "(e) Define otra función que tome nuevamente como argumento el diccionario del apartado (c) y que retorne el índice (es decir el \"key\" del diccionario) correspondiente al de la ruta más larga (si hay más de una con la misma longitud, devuelve la primera que encuentres). <span style=\"font-family: Courier New; background-color: #82b74b; color: #000000; padding: 2px; \">NM</span> **(0.5 puntos)**\n",
    "\n",
    "(f) Utiliza la función anterior para identificar la ruta más larga y construye una lista que solo contega las vocales de dicha ruta.  <span style=\"font-family: Courier New; background-color: #82b74b; color: #000000; padding: 2px; \">NM</span> **(0.5 puntos)** "
   ]
  },
  {
   "cell_type": "code",
   "execution_count": 3,
   "metadata": {},
   "outputs": [],
   "source": [
    "## Respuesta \n"
   ]
  },
  {
   "cell_type": "markdown",
   "metadata": {},
   "source": [
    "### Ejercicio 4\n",
    "\n",
    "Python dispone de un **idiom** muy útil conocido como **list comprehension** y esto es lo que vamos a trabajar en este ejercicio a partir de la lista siguiente:"
   ]
  },
  {
   "cell_type": "code",
   "execution_count": 1,
   "metadata": {},
   "outputs": [],
   "source": [
    "collection = ['error', 10, [], 2e+01, {\"OK - NOOK\"}, 3.5, True, {}, 3, 5j, 14, 7]"
   ]
  },
  {
   "cell_type": "markdown",
   "metadata": {},
   "source": [
    "**NOTA:**  Para realizar esta actividad necesitaréis investigar qué son las list comprehension y\n",
    "qué sintaxis utilizan. Para ello, se recomienda en primer lugar que utilicéis un buscador para encontrar\n",
    "información genérica sobre esta construcción. Después, os recomendamos que consultéis\n",
    "stackoverflow (un sitio de preguntas-y-respuestas muy popular entre programadores) para ver algunos ejemplos de problemas que se pueden resolver con esta construcción:\n",
    "* https://stackoverflow.com/questions/12555443/squaring-all-elements-in-a-list\n",
    "* https://stackoverflow.com/questions/57166908/using-list-comprehension-i-want-to-print-odd-even-with-string-indicating-even/57167016"
   ]
  },
  {
   "cell_type": "markdown",
   "metadata": {},
   "source": [
    "(a) Recorre la lista e imprime por pantalla cada elemento y la clase/tipo a la que pertenecen. En este apartado no es necesario el uso de list comprehension. <span style=\"font-family: Courier New; background-color: #82b74b; color: #000000; padding: 2px; \">NM</span> **(0.5 puntos)**\n",
    "\n",
    "(b) Construye una lista idéntica a la del enunciado pero recorriendo la lista <code>collection</code> con una sola expresión mediante list comprehension, luego imprímela por pantalla. <span style = \"font-family: Courier New; background-color: #ffcc5c; color: #000000; padding: 3px; \">EG</span> **(0.5 puntos)**\n",
    "\n",
    "(c) Utiliza list comprehension para reconstruir la misma lista pero esta vez, reemplazando los valores que no sean de la clase/tipo <code>int</code> por el valor especial <code>nan</code> (Not a Number) que puedes obtener mediante la función <code>float()</code> (https://www.programiz.com/python-programming/methods/built-in/float).  <span style = \"font-family: Courier New; background-color: #ffcc5c; color: #000000; padding: 3px; \">EG</span> **(1.0 punto)**\n",
    "\n",
    "(d) Define una función que reciba como primer argumento la lista generada en el apartado anterior y que retorne, según el valor de un segundo argumento de tipo booleano, o una lista con los valores enteros (es decir, sin los <code>nan</code>) o bien, la suma de dichos valores enteros. Por defecto, si solo se pasa un argumento, se retornará la suma. Los dos valores de retorno posibles (la suma o la lista) se obtendrán mediante expresiones compactas que incluyan el uso de list comprehension. La función definida se testeará en ambos casos y el valor retornado se imprimirá por pantalla. Para identificar si un elemento es <code>nan</code> existen varias opciones que podréis encontrar en el siguiente enlance: https://stackoverflow.com/questions/944700/how-can-i-check-for-nan-values. <span style = \"font-family: Courier New; background-color: #ffcc5c; color: #000000; padding: 3px; \">EG</span> **(1.0 punto)**\n",
    "\n",
    "(e) De manera análoga, también existen los dict comprehension. Construye un diccionario siguiendo esta funcionalidad de Python, donde el \"key\" corresponda al índice de la posición de cada elemento dentro de la lista definida en el enunciado y el \"value\", a su clase/tipo. <span style = \"font-family: Courier New; background-color: #f2ae72; color: #000000; padding: 3px; \">EI</span> **(Opcional)**"
   ]
  },
  {
   "cell_type": "code",
   "execution_count": 4,
   "metadata": {},
   "outputs": [],
   "source": [
    "## Respuesta\n"
   ]
  }
 ],
 "metadata": {
  "kernelspec": {
   "display_name": "Python 3",
   "language": "python",
   "name": "python3"
  },
  "language_info": {
   "codemirror_mode": {
    "name": "ipython",
    "version": 3
   },
   "file_extension": ".py",
   "mimetype": "text/x-python",
   "name": "python",
   "nbconvert_exporter": "python",
   "pygments_lexer": "ipython3",
   "version": "3.8.5"
  }
 },
 "nbformat": 4,
 "nbformat_minor": 1
}
