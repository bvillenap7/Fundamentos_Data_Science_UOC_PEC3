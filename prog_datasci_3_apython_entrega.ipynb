{
 "metadata": {
  "name": "",
  "signature": "sha256:40794b020dc248ed4d543128ca8c307034f2692916fbf69cb2032709f96909fa"
 },
 "nbformat": 3,
 "nbformat_minor": 0,
 "worksheets": [
  {
   "cells": [
    {
     "cell_type": "markdown",
     "metadata": {},
     "source": [
      "Programaci\u00f3n para *Data Science*\n",
      "============================\n",
      "\n",
      "Unidad 3: Conceptos avanzados de Python\n",
      "--------------------------------------\n",
      "\n",
      "En este Notebook encontrar\u00e9is dos conjuntos de ejercicios: un primer conjunto de ejercicios para practicar y que no puntuan, pero que recomendamos intentar resolver y un segundo conjunto que evaluaremos como PEC. Adem\u00e1s, encontrar\u00e9is un ejercicio opcional que aunque no puntua directamente para la PEC, s\u00ed que nos sirve para subir la nota al final de la asignatura."
     ]
    },
    {
     "cell_type": "markdown",
     "metadata": {},
     "source": [
      "## Ejercicios para practicar\n",
      "\n",
      "**Los siguientes 3 ejercicios no puntuan para la PEC**, pero os recomendamos que los intent\u00e9is resolver antes de pasar a los ejercicios propios de la PEC. Tambi\u00e9n pod\u00e9is encontrar las soluciones a estos ejercicios al final del Notebook. "
     ]
    },
    {
     "cell_type": "markdown",
     "metadata": {},
     "source": [
      "### Ejercicio 1\n",
      "\n",
      "El siguiente ejercicio consiste en pasar un n\u00famero en base 16 (hexadecimal, 0-9/A-F) a base 10 (decimal). Para hacerlo, deb\u00e9is crear una **funci\u00f3n** que dado un _string_ que representa un n\u00famero en hexadecimal, por ejemplo, `AE3F`, devuelva el n\u00famero \n",
      "natural correspondiente. En este caso, el resultado ser\u00eda `44607`."
     ]
    },
    {
     "cell_type": "code",
     "collapsed": false,
     "input": [
      "# Respuesta"
     ],
     "language": "python",
     "metadata": {},
     "outputs": []
    },
    {
     "cell_type": "markdown",
     "metadata": {},
     "source": [
      "### Ejercicio 2\n",
      "\n",
      "Las excepciones son errores detectados en tiempo de ejecuci\u00f3n. Pueden y deben ser manejadas por el programador para minimizar el riesgo de que un determinado programa falle de forma no controlada. Escribid, en lenguaje Python, c\u00f3mo generar y capturar la siguiente excepci\u00f3n: **ZeroDivisionError**."
     ]
    },
    {
     "cell_type": "code",
     "collapsed": false,
     "input": [
      "# Respuesta"
     ],
     "language": "python",
     "metadata": {},
     "outputs": []
    },
    {
     "cell_type": "markdown",
     "metadata": {},
     "source": [
      "### Ejercicio 3\n",
      "\n",
      "Completad el c\u00f3digo necesario para calcular el n\u00famero de vocales y de consonantes respectivamente de un texto."
     ]
    },
    {
     "cell_type": "code",
     "collapsed": false,
     "input": [
      "def contar_vocales_y_consonantes(texto):\n",
      "    # Cuenta las vocales contenidas en el string texto y tambi\u00e9n las consonantes.\n",
      "    num_vocales = 0\n",
      "    num_consonantes = 0\n",
      "\n",
      "    # C\u00f3digo que hay que completar.\n",
      "\n",
      "    return num_vocales, num_consonantes\n",
      "\n",
      "texto = \"Orbiting Earth in the spaceship, I saw how beautiful our planet is. \\\n",
      "            People, let us preserve and increase this beauty, not destroy it!\"\n",
      "\n",
      "num_vocales, num_consonantes = contar_vocales_y_consonantes(texto)\n",
      "print \"El n\u00famero de vocales es %d.\" % num_vocales\n",
      "print \"El n\u00famero de consonantes es %d.\" % num_consonantes"
     ],
     "language": "python",
     "metadata": {
      "attributes": {
       "classes": [
        "sourceCode"
       ],
       "id": ""
      }
     },
     "outputs": [
      {
       "output_type": "stream",
       "stream": "stdout",
       "text": [
        "El n\u00famero de vocales es 0.\n",
        "El n\u00famero de consonantes es 0.\n"
       ]
      }
     ],
     "prompt_number": 2
    },
    {
     "cell_type": "markdown",
     "metadata": {},
     "source": [
      "---\n",
      "\n",
      "## Ejercicios y preguntas te\u00f3ricas para la PEC\n",
      "\n",
      "A continuaci\u00f3n encontrar\u00e9is los **ejercicios y preguntas te\u00f3ricas que deb\u00e9is completar en esta PEC** y que forman parte de la evaluaci\u00f3n de esta unidad."
     ]
    },
    {
     "cell_type": "markdown",
     "metadata": {},
     "source": [
      "### Pregunta 1\n",
      "\n",
      "Las funciones _range_ y _xrange_ pueden utilizarse con la misma finalidad, pero su funcionamiento es diferente. Poned un ejemplo donde ser\u00eda recomendable intercambiar la funci\u00f3n _range_ por la funci\u00f3n _xrange_. **(0.5 puntos)**\n",
      "\n",
      "**Respuesta:**"
     ]
    },
    {
     "cell_type": "markdown",
     "metadata": {},
     "source": [
      "Escribid vuestra respuesta aqu\u00ed"
     ]
    },
    {
     "cell_type": "markdown",
     "metadata": {},
     "source": [
      "### Pregunta 2\n",
      "\n",
      "a) Explicad brevemente cada l\u00ednea de c\u00f3digo del siguiente bloque (a\u00f1adid comentarios en el mismo bloque de c\u00f3digo):"
     ]
    },
    {
     "cell_type": "code",
     "collapsed": false,
     "input": [
      "# A\u00f1adid vuestros comentarios de c\u00f3digo en este mismo bloque\n",
      "\n",
      "def create_generator():\n",
      "    for i in range(10):\n",
      "        yield i\n",
      "        \n",
      "num_generator = create_generator()\n",
      "for i in num_generator:\n",
      "    print \"Primera iteraci\u00f3n: n\u00famero generado =\", i\n",
      "    \n",
      "for j in num_generator:\n",
      "    print \"Segunda iteraci\u00f3n: n\u00famero generado =\", j"
     ],
     "language": "python",
     "metadata": {},
     "outputs": [
      {
       "output_type": "stream",
       "stream": "stdout",
       "text": [
        "Primera iteraci\u00f3n: n\u00famero generado = 0\n",
        "Primera iteraci\u00f3n: n\u00famero generado = 1\n",
        "Primera iteraci\u00f3n: n\u00famero generado = 2\n",
        "Primera iteraci\u00f3n: n\u00famero generado = 3\n",
        "Primera iteraci\u00f3n: n\u00famero generado = 4\n",
        "Primera iteraci\u00f3n: n\u00famero generado = 5\n",
        "Primera iteraci\u00f3n: n\u00famero generado = 6\n",
        "Primera iteraci\u00f3n: n\u00famero generado = 7\n",
        "Primera iteraci\u00f3n: n\u00famero generado = 8\n",
        "Primera iteraci\u00f3n: n\u00famero generado = 9\n"
       ]
      }
     ],
     "prompt_number": 3
    },
    {
     "cell_type": "markdown",
     "metadata": {},
     "source": [
      "b) Explicad brevemente la salida por pantalla que observamos al ejecutar el c\u00f3digo anterior.\n",
      "\n",
      "**(1.5 puntos)**\n",
      "\n",
      "**Respuesta**"
     ]
    },
    {
     "cell_type": "markdown",
     "metadata": {},
     "source": [
      "Escribid vuestra respuesta aqu\u00ed"
     ]
    },
    {
     "cell_type": "markdown",
     "metadata": {},
     "source": [
      "### Ejercicio 1\n",
      "\n",
      "Escribid una funci\u00f3n que dada una lista de planetas del sistema solar, pregunte al usuario que introduzca una posici\u00f3n y muestre el plante correspondiente a dicha posici\u00f3n. Por ejemplo, si tenemos la siguiente lista: `['Mercurio', 'Venus', 'Tierra', 'Marte']` y el usuario nos ha introducido la posici\u00f3n `3`, hemos de mostrar como resultado por pantalla: `Tierra`.\n",
      "\n",
      "Consideraciones:\n",
      "\n",
      "- La posici\u00f3n que introduzca el usuario tiene que ser un n\u00famero entero estrictamente positivo.\n",
      "- La funci\u00f3n debe controlar el acceso a una posici\u00f3n fuera de la lista mediante una **excepci\u00f3n**. Por ejemplo, en el caso anterior debemos mostrar una mensaje de error si el usuario pide acceder a la posici\u00f3n 10.\n",
      "\n",
      "**(1.5 puntos)**"
     ]
    },
    {
     "cell_type": "code",
     "collapsed": false,
     "input": [
      "# Respuesta"
     ],
     "language": "python",
     "metadata": {},
     "outputs": []
    },
    {
     "cell_type": "markdown",
     "metadata": {},
     "source": [
      "### Ejercicio 2\n",
      "\n",
      "Dada una lista de planetas del sistema solar, determinad cuales de estos planetas tienen una masa superior a la de la Tierra. Por ejemplo, si la lista inicial es `['Venus', 'Marte', 'Saturno']`, el resultado que mostrar\u00edamos por pantalla ser\u00eda `['Saturno']` ya que el planeta Saturno tiene una masa `95.2` veces superior a la Tierra.\n",
      "\n",
      "Consideraciones:\n",
      "\n",
      "- Deb\u00e9is tener en cuenta que el nombre de los planetas que nos pasan por par\u00e1metro puede estar en min\u00fasculas, may\u00fasculas o una combinaci\u00f3n de ambas.\n",
      "- Pod\u00e9is asumir que no habr\u00e1 acentos en el nombre de los planetas.\n",
      "- Deb\u00e9is determinar aquellos planetas que tiene una massa estrictamente superior a la de la Tierra.\n",
      "- No habr\u00e1 planetas repetidos en la lista que nos pasan por par\u00e1metro.\n",
      "\n",
      "**(1.5 puntos)**"
     ]
    },
    {
     "cell_type": "code",
     "collapsed": false,
     "input": [
      "# Masas medidas con respecto a la Tierra\n",
      "# Es decir, un valor de 14.6 representaria una masa 14.6 veces superior a la de la Tierra\n",
      "masas = {'Mercurio': 0.06, 'Venus': 0.82, 'Tierra': 1, 'Marte': 0.11, 'Jupiter': 317.8, \n",
      "          'Saturno': 95.2, 'Urano': 14.6, 'Neptuno': 17.2, 'Pluto': 0.0022}\n",
      "\n",
      "def planetas_mas_grandes_que_Tierra(planetas):\n",
      "    \"\"\"\n",
      "    Planetas con una masa superior a la de la Tierra\n",
      "    \"\"\"\n",
      "    planetas_masa_superior = []\n",
      "\n",
      "    # C\u00f3digo a completar\n",
      "\n",
      "    return planetas_masa_superior\n",
      "\n",
      "# Ejemplos de uso de la funci\u00f3n anterior\n",
      "print planetas_mas_grandes_que_Tierra(['Venus', 'Mercurio', 'Marte'])\n",
      "print planetas_mas_grandes_que_Tierra(['Jupiter', 'Saturno', 'Pluto'])\n",
      "print planetas_mas_grandes_que_Tierra(['urano', 'tierra', 'neptuno', 'marte', 'Venus'])\n",
      "print planetas_mas_grandes_que_Tierra(['Tierra', 'MeRcUrIo', 'PLUTO', 'SATURNO'])\n",
      "\n",
      "# Pod\u00e9is a\u00f1adir m\u00e1s ejemplos si lo consider\u00e1is oportuno"
     ],
     "language": "python",
     "metadata": {
      "attributes": {
       "classes": [
        "sourceCode"
       ],
       "id": ""
      }
     },
     "outputs": [
      {
       "output_type": "stream",
       "stream": "stdout",
       "text": [
        "[]\n",
        "[]\n",
        "[]\n",
        "[]\n"
       ]
      }
     ],
     "prompt_number": 1
    },
    {
     "cell_type": "markdown",
     "metadata": {},
     "source": [
      "### Ejercicio 3\n",
      "\n",
      "Completad las siguientes funciones y documentad el c\u00f3digo si lo consider\u00e1is oportuno. Finalmente, escribid al menos un ejemplo de uso para cada funci\u00f3n.\n",
      "\n",
      "**(1.5 puntos)**"
     ]
    },
    {
     "cell_type": "code",
     "collapsed": false,
     "input": [
      "# Completad las funciones matem\u00e1ticas siguientes\n",
      "import math\n",
      "\n",
      "\"\"\"Funci\u00f3n que calcula la altura en un movimiento de ca\u00edda libre\n",
      "\n",
      "Suponemos que dejamos caer un objeto des de un edificio de altura desconocida.\n",
      "El par\u00e1metro duracion_caida nos indica el tiempo (en segundos) que tarda el objeto en llegar a \n",
      "la tierra. La funci\u00f3n deber\u00eda calcular la altura del edificio des del cual se ha \n",
      "lanzado el objeto.\n",
      "\n",
      "Pod\u00e9is encontrar m\u00e1s informaci\u00f3n sobre el movimiento de ca\u00edda libre en el siguiente \n",
      "enlace: https://www.fisicalab.com/apartado/caida-libre#contenidos.\n",
      "\"\"\"\n",
      "\n",
      "def calcular_altura_caida_libre(duracion_caida):\n",
      "    # Completar\n",
      "    return 0.\n",
      "\n",
      "\n",
      "\"\"\"Funci\u00f3n que calcula las coordenadas cartesianas de un punto representado en coordenadas polares\n",
      "\n",
      "Dado un punto representado por sus coordenadas polares (radio y angulo), la funci\u00f3n deber\u00eda calcular \n",
      "las correspondientes coordenadas cartesianas y devolver una tupla con su valor.\n",
      "\n",
      "Pod\u00e9is encontrar m\u00e1s informaci\u00f3n sobre el sistema de coordenadas polares y su conversi\u00f3n al sistema \n",
      "cartesiano en el siguiente enlace: https://es.wikipedia.org/wiki/Coordenadas_polares.\n",
      "\"\"\"\n",
      "\n",
      "def calcular_coordenadas_cartesianas(radio, angulo_en_grados):\n",
      "    # Completar\n",
      "    return 0., 0.\n",
      "\n",
      "# Escribid aqu\u00ed al menos un ejemplo de uso utilizando las funciones anteriores. Por ejemplo:\n",
      "# print \"El objeto se ha dejado caer des de una altura de %f metros\" % calcular_altura_caida_libre(10)"
     ],
     "language": "python",
     "metadata": {
      "attributes": {
       "classes": [
        "sourceCode"
       ],
       "id": ""
      }
     },
     "outputs": [],
     "prompt_number": 1
    },
    {
     "cell_type": "markdown",
     "metadata": {},
     "source": [
      "### Ejercicio 4\n",
      "\n",
      "Escribid una funci\u00f3n que dado un n\u00famero entero positivo, `N`, genere un fichero con el nombre `output.txt` que contendr\u00e1 `N` l\u00edneas, donde cada l\u00ednea deber\u00e1 mostrar una n\u00famero consecutivo de letras `A`.\n",
      "\n",
      "Por ejemplo, si `N = 4`, el fichero generado deber\u00e1 contener el siguiente contenido:\n",
      "\n",
      "```\n",
      "A\n",
      "AA\n",
      "AAA\n",
      "AAAA\n",
      "```\n",
      "\n",
      "**(1.5 puntos)**"
     ]
    },
    {
     "cell_type": "code",
     "collapsed": false,
     "input": [
      "# Respuesta"
     ],
     "language": "python",
     "metadata": {
      "attributes": {
       "classes": [
        "sourceCode"
       ],
       "id": ""
      }
     },
     "outputs": [],
     "prompt_number": 4
    },
    {
     "cell_type": "markdown",
     "metadata": {},
     "source": [
      "### Ejercicio 5 \n",
      "\n",
      "Dada una cadena de caracteres, `s`, de longitud `n` y un n\u00famero entero positivo `k`, siendo `k` un divisor de `n`, podemos dividir la cadena `s` en `n / k` sub-cadenas de la misma longitud.\n",
      "\n",
      "Escribid una funci\u00f3n que, dada una cadena `s` y un n\u00famero entero `k`, devuelva las `n/k` sub-cadenas teniendo en cuenta las siguientes consideraciones:\n",
      "\n",
      "- El orden de los caracteres en las sub-cadenas debe ser el mismo que en la cadena original.\n",
      "- Todos los caracteres de las sub-cadenas deben aparecer una \u00fanica vez. Es decir, si un caracter se repite dentro de una sub-cadena, s\u00f3lo hemos de mostrar la primera ocurrencia.\n",
      "\n",
      "Por ejemplo, si tenemmos\n",
      "<code>\n",
      "s = AABCCAADA\n",
      "k = 3\n",
      "</code>\n",
      "\n",
      "el resultado a mostrar por pantalla ser\u00eda:\n",
      "<code>\n",
      "AB\n",
      "CA\n",
      "AD\n",
      "</code>\n",
      "\n",
      "Tenemos que la longitud de la cadena es 9 y por lo tanto, podemos formar 3 sub-cadenas:\n",
      "\n",
      "`AAB -> AB` (el caracter A se repite dos veces)\n",
      "\n",
      "`CCA -> CA` (el caracter C se repite dos veces)\n",
      "\n",
      "`ADA -> AD` (el caracter A se repite dos veces)\n",
      "\n",
      "**(2 puntos)**"
     ]
    },
    {
     "cell_type": "code",
     "collapsed": false,
     "input": [
      "# Respuesta"
     ],
     "language": "python",
     "metadata": {},
     "outputs": []
    },
    {
     "cell_type": "markdown",
     "metadata": {},
     "source": [
      "### Ejercicio 6 (Opcional)\n",
      "\n",
      "Al final de la Edad Media, en Francia, el diplom\u00e1tico franc\u00e9s Blaise de Vigen\u00e8re desarrollo un algoritmo para cifrar mensajes que nadie fue capaz de romper durante aproximadamente 250 a\u00f1os. El algoritmo se conoce con el nombre de [cifrado de Vigen\u00e8re](https://es.wikipedia.org/wiki/Cifrado_de_Vigen%C3%A8re).\n",
      "\n",
      "El cifrado de Vigen\u00e8re consiste en a\u00f1adir a cada una de las letras de un texto un desplazamiento a partir de una clave secreta para conseguir una nueva letra diferente de la original. Veamos un ejemplo:\n",
      "\n",
      "Si asignamos el n\u00famero 1 a la primera letra del abecedario, A, 2 a la siguiente, B, etc., imaginad que tenemos el siguiente mensaje:\n",
      "<code>\n",
      "ABC\n",
      "123\n",
      "</code>\n",
      "\n",
      "y la siguiente clave secreta:\n",
      "<code>\n",
      "DEF\n",
      "456\n",
      "</code>\n",
      "\n",
      "A cada letra del mensaje original aplicamos un desplazamiento en funci\u00f3n de la misma posici\u00f3n dentro de la clave secreta. Por lo tanto, el mensaje cifrado quedar\u00eda de la siguiente forma:\n",
      "<code>\n",
      "   E       G       I\n",
      "(1 + 4) (2 + 5) (3 + 6)\n",
      "</code>\n",
      "\n",
      "Escribid una funci\u00f3n que, dado un mensaje y una clave secreta, calcule y devuelva el mensaje cifrado.\n",
      "\n",
      "*Consideraciones.*\n",
      "\n",
      "- Utilizad como alfabeto de entrada **el alfabeto ingl\u00e9s en may\u00fasculas**.\n",
      "- El valor por defecto de la clave secreta ser\u00e1 **DATASCI**."
     ]
    },
    {
     "cell_type": "code",
     "collapsed": false,
     "input": [
      "def cifrado_vigenere(mensaje, clave=\"DATASCI\"):\n",
      "    \"\"\"\n",
      "    Cifra el mensaje utilizando el cifrado de Vigen\u00e8re\n",
      "    \"\"\"\n",
      "    mensaje_cifrado = \"\"\n",
      "\n",
      "    # C\u00f3digo que hay que completar\n",
      "\n",
      "    return mensaje_cifrado\n",
      "\n",
      "# Aqu\u00ed pod\u00e9is a\u00f1adir m\u00e1s ejemplos:\n",
      "print cifrado_vigenere(\"ATACAREMOS AL AMANECER\")"
     ],
     "language": "python",
     "metadata": {
      "attributes": {
       "classes": [
        "sourceCode"
       ],
       "id": ""
      }
     },
     "outputs": [
      {
       "output_type": "stream",
       "stream": "stdout",
       "text": [
        "\n"
       ]
      }
     ],
     "prompt_number": 3
    },
    {
     "cell_type": "markdown",
     "metadata": {},
     "source": [
      "---\n",
      "\n",
      "## Soluciones ejercicios para practicar"
     ]
    },
    {
     "cell_type": "markdown",
     "metadata": {},
     "source": [
      "### Ejercicio 1\n",
      "\n",
      "El siguiente ejercicio consiste en pasar un n\u00famero en base 16 (hexadecimal, 0-9/A-F) a base 10 (decimal). Para hacerlo, deb\u00e9is crear una **funci\u00f3n** que dado un _string_ que representa un n\u00famero en hexadecimal, por ejemplo, `AE3F`, devuelva el n\u00famero \n",
      "natural correspondiente. En este caso, el resultado ser\u00eda `44607`.\n",
      "\n",
      "**Respuesta**"
     ]
    },
    {
     "cell_type": "markdown",
     "metadata": {},
     "source": [
      "En Python disponemos de una funci\u00f3n muy \u00fatil que nos permite pasar a un n\u00famero decimal des de cualquier base (```int(x, base=y)```). Dado que el objetivo es jugar un poco con el lenguaje Python, vamos a usar dicha funci\u00f3n s\u00f3lo de forma parcial para calcular el n\u00famero decimal correspondiente a cada car\u00e1cter hexadecimal individualmente.\n",
      "\n",
      "La f\u00f3rmula para convertir un n\u00famero hexadecimal a un n\u00famero decimal, tomando como ejemplo el n\u00famero AE3F, es:\n",
      "\n",
      "```A * 16**3 + E * 16**2 + 3 * 16**1 + F * 16**0 = 10 * 16**3 + 14 * 16**2 + 3 * 16**1 + 15 * 16**0```"
     ]
    },
    {
     "cell_type": "code",
     "collapsed": false,
     "input": [
      "# Importamos el string '0123456789abcdefABCDEF' que nos puede ser muy \u00fatil para comprobar el formato \n",
      "from string import hexdigits\n",
      "\n",
      "def hex_to_dec(numero_hexadecimal):\n",
      "    # Primero, comprobamos que el n\u00famero que se pasa por par\u00e1metro es hexadecimal\n",
      "    if all(c in hexdigits for c in numero_hexadecimal):\n",
      "        # Definimos la base para realizar las operaciones\n",
      "        base = 16\n",
      "        numero_decimal = 0\n",
      "        \n",
      "        # Invertimos el n\u00famero hexadecimal para que nos sea m\u00e1s f\u00e1cil trabajar con los \u00edndices\n",
      "        numero_hexadecimal = numero_hexadecimal[::-1]\n",
      "        \n",
      "        for i in range(len(numero_hexadecimal)):\n",
      "            # Para cada car\u00e1cter hexadecimal aplicamos la formula c * base ** i,\n",
      "            # donde c es la representaci\u00f3n decimal del car\u00e1cter y \n",
      "            # sumamos el resultado al resultado obtenido en la iteraci\u00f3n anterior\n",
      "            numero_decimal += int(numero_hexadecimal[i], 16) * base**i\n",
      "            \n",
      "        return numero_decimal\n",
      "    else:\n",
      "        print 'El n\u00famero introducido no es hexadecimal'\n",
      "\n",
      "print hex_to_dec('AE3F')\n",
      "print hex_to_dec('FFF')\n",
      "print hex_to_dec('123')"
     ],
     "language": "python",
     "metadata": {},
     "outputs": [
      {
       "output_type": "stream",
       "stream": "stdout",
       "text": [
        "44607\n",
        "4095\n",
        "291\n"
       ]
      }
     ],
     "prompt_number": 4
    },
    {
     "cell_type": "markdown",
     "metadata": {},
     "source": [
      "### Ejercicio 2\n",
      "\n",
      "Las excepciones son errores detectados en tiempo de ejecuci\u00f3n. Pueden y deben ser manejadas por el programador para minimizar el riesgo de que un determinado programa falle de forma no controlada. Escribid, en lenguaje Python, c\u00f3mo generar y capturar la siguiente excepci\u00f3n: **ZeroDivisionError**.\n",
      "\n",
      "**Respuesta**"
     ]
    },
    {
     "cell_type": "markdown",
     "metadata": {},
     "source": [
      "En Pyhon podemos utilizar el bloque try ... except para capturar excepciones. Primero se intentar\u00e1 ejecutar el c\u00f3digo dentro del bloque try y si hay una excepci\u00f3n se buscar\u00e1 una instrucci\u00f3n except que capture dicha excepci\u00f3n. En caso de encontrarla se ejecutar\u00e1 el c\u00f3digo dentro del bloque except."
     ]
    },
    {
     "cell_type": "code",
     "collapsed": false,
     "input": [
      "try:\n",
      "    print 5/0 # Divisi\u00f3n por cero - genera ZeroDivisionError\n",
      "except ZeroDivisionError:\n",
      "    print \"\u00a1Cuidado! Divisi\u00f3n por cero.\""
     ],
     "language": "python",
     "metadata": {},
     "outputs": [
      {
       "output_type": "stream",
       "stream": "stdout",
       "text": [
        "\u00a1Cuidado! Divisi\u00f3n por cero.\n"
       ]
      }
     ],
     "prompt_number": 5
    },
    {
     "cell_type": "markdown",
     "metadata": {},
     "source": [
      "### Ejercicio 3\n",
      "\n",
      "Completad el c\u00f3digo necesario para calcular el n\u00famero de vocales y de consonantes respectivamente de un texto.\n",
      "\n",
      "**Respuesta**"
     ]
    },
    {
     "cell_type": "code",
     "collapsed": false,
     "input": [
      "def contar_vocales_y_consonantes(texto):\n",
      "    # Cuenta las vocales contenidas en el string texto y tambi\u00e9n las consonantes.\n",
      "    num_vocales = 0\n",
      "    num_consonantes = 0\n",
      "    \n",
      "    # Definimos una lista con las vocales\n",
      "    vocales = ['a', 'e', 'i', 'o', 'u']\n",
      "    \n",
      "    for c in texto.lower(): # Podemos convertir el texto a min\u00fasculas para simplificar los c\u00e1lculos\n",
      "        if c in vocales:\n",
      "            num_vocales += 1\n",
      "        elif c > 'a' and c <= 'z':\n",
      "            num_consonantes += 1\n",
      "    \n",
      "    return num_vocales, num_consonantes\n",
      "\n",
      "texto = \"Orbiting Earth in the spaceship, I saw how beautiful our planet is. \\\n",
      "            People, let us preserve and increase this beauty, not destroy it!\"\n",
      "\n",
      "num_vocales, num_consonantes = contar_vocales_y_consonantes(texto)\n",
      "print \"El n\u00famero de vocales es de %d\" % num_vocales\n",
      "print \"El n\u00famero de consonantes es de %d\" % num_consonantes"
     ],
     "language": "python",
     "metadata": {},
     "outputs": [
      {
       "output_type": "stream",
       "stream": "stdout",
       "text": [
        "El n\u00famero de vocales es de 44\n",
        "El n\u00famero de consonantes es de 62\n"
       ]
      }
     ],
     "prompt_number": 6
    },
    {
     "cell_type": "markdown",
     "metadata": {},
     "source": [
      "Si queremos considerar tambi\u00e9n las vocales acentuadas o caracteres especiales, podemos modificar el c\u00f3digo anterior para tenerlo en cuenta:"
     ]
    },
    {
     "cell_type": "code",
     "collapsed": false,
     "input": [
      "def contar_vocales_y_consonantes(texto):\n",
      "    # Cuenta las vocales contenidas en el string texto y tambi\u00e9n las consonantes.\n",
      "    num_vocales = 0\n",
      "    num_consonantes = 0\n",
      "    \n",
      "    # Convertimos el texto a Unicode\n",
      "    # En este caso sabemos seguro que la codificaci\u00f3n de caracteres es UTF-8,  \n",
      "    # pero si nuestro c\u00f3digo se puediera ejecutar fuera del Notebook podr\u00edamos \n",
      "    # incluir la codificaci\u00f3n como otro par\u00e1metro de la funci\u00f3n\n",
      "    texto = texto.decode('utf-8')\n",
      "    \n",
      "    # Definimos una lista con las vocales en unicode\n",
      "    vocales = [u'a', u'e', u'i', u'o', u'u', u'\u00e0', u'\u00e1', u'\u00e8', u'\u00e9', u'\u00ed', u'\u00ef', u'\u00f2', u'\u00f3', u'\u00fa', u'\u00fc']\n",
      "    \n",
      "    for c in texto.lower(): # Podemos convertir el texto a min\u00fasculas para simplificar los c\u00e1lculos\n",
      "        if c in vocales:\n",
      "            num_vocales += 1\n",
      "        elif c > 'a' and c <= 'z' or c == u'\u00e7' or c == u'\u00f1':\n",
      "            num_consonantes += 1\n",
      "    \n",
      "    return num_vocales, num_consonantes\n",
      "\n",
      "texto = \"Orbiting Earth in the spaceship, I saw how beautiful our planet is. \\\n",
      "            People, let us preserve and increase this beauty, not destroy it!\"\n",
      "\n",
      "num_vocales, num_consonantes = contar_vocales_y_consonantes(texto)\n",
      "print \"El n\u00famero de vocales es de %d\" % num_vocales\n",
      "print \"El n\u00famero de consonantes es de %d\" % num_consonantes\n",
      "\n",
      "texto = \"\u00e1\u00e9i\u00f3\u00faY\"\n",
      "num_vocales, num_consonantes = contar_vocales_y_consonantes(texto)\n",
      "print \"El n\u00famero de vocales es de %d\" % num_vocales\n",
      "print \"El n\u00famero de consonantes es de %d\" % num_consonantes"
     ],
     "language": "python",
     "metadata": {},
     "outputs": [
      {
       "output_type": "stream",
       "stream": "stdout",
       "text": [
        "El n\u00famero de vocales es de 44\n",
        "El n\u00famero de consonantes es de 62\n",
        "El n\u00famero de vocales es de 5\n",
        "El n\u00famero de consonantes es de 1\n"
       ]
      }
     ],
     "prompt_number": 7
    }
   ],
   "metadata": {}
  }
 ]
}