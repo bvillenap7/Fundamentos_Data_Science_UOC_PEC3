{
 "cells": [
  {
   "cell_type": "markdown",
   "metadata": {},
   "source": [
    "<div style=\"width: 100%; clear: both;\">\n",
    "    <div style=\"float: left; width: 50%;\">\n",
    "       <img src=\"http://www.uoc.edu/portal/_resources/common/imatges/marca_UOC/UOC_Masterbrand.jpg\", align=\"left\">\n",
    "    </div>\n",
    "</div>\n",
    "\n",
    "<div style=\"float: right; width: 50%;\">\n",
    "    <p style=\"margin: 0; padding-top: 22px; text-align:right;\">22.501 · Fundamentos de Programación</p>\n",
    "    <p style=\"margin: 0; text-align:right;\">Grado en Ciencia de Datos Aplicada</p>\n",
    "    <p style=\"margin: 0; text-align:right; padding-button: 100px;\">Estudios de Informática, Multimedia y Telecomunicación</p>\n",
    "</div>\n",
    "\n",
    "\n",
    "<div style=\"width: 100%; clear: both;\"></div>\n",
    "<div style=\"width:100%;\">&nbsp;</div>"
   ]
  },
  {
   "cell_type": "markdown",
   "metadata": {},
   "source": [
    "Fundamentos de programación\n",
    "============================\n",
    "\n",
    "--- \n",
    "\n",
    "Unidad 3: Estructuras de control y funciones en Python\n",
    "-----------------------------------------------------\n",
    "\n",
    "---"
   ]
  },
  {
   "cell_type": "markdown",
   "metadata": {},
   "source": [
    "# Instrucciones de uso\n",
    "\n",
    "Este documento es un *notebook* interactivo que intercala explicaciones más bien teóricas de conceptos de programación con fragmentos de código ejecutables. Para aprovechar las ventajas que aporta este formato, os recomendamos que, en primer lugar, leáis las explicaciones y el código que os proporcionamos. De este modo, tendréis un primer contacto con los conceptos que exponemos. Ahora bien, **la lectura es solo el principio!** Una vez hayáis leído el contenido, no os olvidéis de ejecutar el código proporcionado y modificarlo para crear variantes que os permitan comprobar que habéis entendido la funcionalidad y explorar los detalles de implementación. En último lugar, os recomendamos también consultar la documentación enlazada para explorar con más profundidad las funcionalidades de los módulos presentados. "
   ]
  },
  {
   "cell_type": "markdown",
   "metadata": {},
   "source": [
    "Para guardar posibles modificaciones que hagáis sobre este notebook, os aconsejamos que montéis la unidad de Drive en Google Colaboratory (colab). Tenéis que ejecutar las instrucciones siguientes:"
   ]
  },
  {
   "cell_type": "code",
   "execution_count": null,
   "metadata": {},
   "outputs": [],
   "source": [
    "from google.colab import drive\n",
    "drive.mount('/content/drive')        "
   ]
  },
  {
   "cell_type": "code",
   "execution_count": null,
   "metadata": {},
   "outputs": [],
   "source": [
    "%cd /content/drive/MyDrive/Colab_Notebooks/prog_datasci_3"
   ]
  },
  {
   "cell_type": "markdown",
   "metadata": {},
   "source": [
    "# Introducción\n",
    "\n",
    "Esta unidad sigue presentando conceptos básicos de programación en Python. En concreto, presentaremos las operaciones lógicas y veremos cómo se puede alterar el flujo de ejecución de los programas con estructuras iterativas (_for_ y _while_), condicionales (_if_) y funciones. Adicionalmente, explicaremos cómo podemos interactuar con ficheros desde Python, y cómo podemos importar otros módulos para incorporar funcionalidades adicionales en nuestros programas.\n",
    "\n",
    "A continuación, se incluye la tabla de contenidos.  Para navegar por el documento usad `Table of contents`\n",
    "(parte superior izquierda) de Google colab.\n",
    "\n",
    "<ul style=\"list-style-type:none\">\n",
    "    <li><a href='#1.-Que-es-una-estructura-control'>1. ¿Qué es una estrutura de control?</a></li>\n",
    "    <li><a href='#2.-Condicional'>2. Condicional</a></li>\n",
    "    <ul style=\"list-style-type:none\">\n",
    "        <li><a href=\"#2.1-If\">2.1 If</a></li>\n",
    "        <li><a href=\"#2.2-If-else\">2.2 If...else</a></li>\n",
    "        <li><a href=\"#2.3-If-elif-else\">2.3 If...elif...else</a></li>\n",
    "    </ul> \n",
    "    <li><a href='#3.-Iteracción'>3. Iteración</a></li>\n",
    "    <ul style=\"list-style-type:none\">\n",
    "        <li><a href=\"#3.1-For\">3.1 For</a></li>\n",
    "        <li><a href=\"#3.2-While\">3.2 While</a></li>\n",
    "        <li><a href=\"#3.3-Break & Continue\">3.3 Break y Continue</a></li>\n",
    "        <li><a href=\"#3.4-Eines-de-Python-per-a-iterar-eficientment\">3.4 Herramientas de Python para iterar eficientemente</a></li>\n",
    "        <ul style=\"list-style-type:none\">\n",
    "            <li><a href=\"#3.4.1-Range\">3.4.1 Range</a></li>\n",
    "            <li><a href=\"#3.4.2-Enumerate\">3.4.2 Enumerate</a></li>\n",
    "            <li><a href=\"#3.4.3-Zip\">3.4.3 Zip</a></li>\n",
    "        </ul>    \n",
    "    </ul>    \n",
    "    <li><a href='#4.-List-Comprehensions'>4. List Comprehensions</a></li>   \n",
    "    <li><a href='#5.-Funcions'>5. Funciones</a></li>\n",
    "    <ul style=\"list-style-type:none\">\n",
    "        <li><a href=\"#5.1-Args-kargs\">5.1 Args y kargs</a></li>\n",
    "        <li><a href=\"#5.2-Lambda\">5.2 Función Lambda</a></li>\n",
    "    </ul>    \n",
    "    <li><a href='#6.-Llegir-escriure'>6. Leer y escribir desde ficheros</a></li>  \n",
    "        <ul style=\"list-style-type:none\">\n",
    "        <li><a href=\"#6.1-Pandas\">6.1 Pandas</a></li>\n",
    "    </ul>  \n",
    "    <li><a href='#7.-Errors-i-Excepcions'>7. Errores y Excepciones</a></li>\n",
    "       <ul style=\"list-style-type:none\">   \n",
    "        <li><a href=\"#7.1-Handling-Exceptions\">7.1 Handling Exceptions</a></li>\n",
    "        <li><a href=\"#7.2-Raising-Exceptions\">7.2 Raising Exceptions</a></li>\n",
    "       </ul>   \n",
    "    <li><a href='#8.-Instruccions-importants'>8. Instrucciones importantes</a></li>\n",
    "    <li><a href=\"#9.-Bibliografia\">9. Bibliografía</a></li>\n",
    "</ul>"
   ]
  },
  {
   "cell_type": "markdown",
   "metadata": {},
   "source": [
    "# 1 ¿Qué es una estructura de control? \n",
    "\n",
    "Los programas en Python ejecutan las instrucciones secuencialmente. Cada instrucción se ejecuta de manera ordenada y en el mismo orden que están escritas, como hemos visto en la unidad 2. En el ejemplo siguiente se puede apreciar cómo se ejecutan las instrucciones secuencialmente. "
   ]
  },
  {
   "cell_type": "code",
   "execution_count": 1,
   "metadata": {},
   "outputs": [
    {
     "name": "stdout",
     "output_type": "stream",
     "text": [
      "El valor de x es 3\n",
      "El valor de y es 10\n"
     ]
    }
   ],
   "source": [
    "x = 3\n",
    "y = x + 7\n",
    "print(\"El valor de x es {}\".format(x))\n",
    "print(\"El valor de y es {}\".format(y))"
   ]
  },
  {
   "cell_type": "markdown",
   "metadata": {},
   "source": [
    "Primero asignamos la variable $x$ igual a 3 y la variable $y$ como la suma de $x$ más el valor numérico 7. A continuación, mostramos por pantalla los valores de $x$ y $y$. Cada instrucción se ejecuta una detrás de la otra. El flujo de ejecución de un conjunto de instrucciones puede ser modificado mediante las estructuras de control. Las principales estructuras de control son las estructuras de control condicionales (**if-elif-else**) y las estructuras de control iterativas (**for y  while**).\n",
    "\n"
   ]
  },
  {
   "cell_type": "markdown",
   "metadata": {},
   "source": [
    "# 2 Condicional\n",
    "\n",
    "La estructura de control condicional es aquella estructura de control que permite implementar acciones según la evaluación de una condición simple, ya sea falsa o verdadera. "
   ]
  },
  {
   "cell_type": "markdown",
   "metadata": {},
   "source": [
    "## 2.1  If"
   ]
  },
  {
   "cell_type": "markdown",
   "metadata": {},
   "source": [
    "La instrucción [if](https://docs.python.org/3/tutorial/controlflow.html#if-statements) nos permite ejecutar un bloque de código si se cumple una determinada condición.  "
   ]
  },
  {
   "cell_type": "code",
   "execution_count": 2,
   "metadata": {},
   "outputs": [
    {
     "name": "stdout",
     "output_type": "stream",
     "text": [
      "a es mayor o igual a 5\n"
     ]
    }
   ],
   "source": [
    "a = 10\n",
    "if a >= 5:\n",
    "    print('a es mayor o igual a 5')"
   ]
  },
  {
   "cell_type": "markdown",
   "metadata": {},
   "source": [
    "El objetivo del código anterior es evaluar si la variable $a$ es mayor o igual a 5. Si la variable $a$ es mayor o igual a 5, se cumple la condición de `if`, de forma que se imprime por pantalla la instrucción **a es mayor o igual a 5**. En cambio, en la celda siguiente $a$ es menor que 5. Por lo tanto, la condición de `if` no se cumple, y el bloque de código dentro de `if` no se ejecuta."
   ]
  },
  {
   "cell_type": "code",
   "execution_count": 2,
   "metadata": {},
   "outputs": [],
   "source": [
    "a = 2\n",
    "if a >= 5:\n",
    "    print('a es mayor o igual a 5')"
   ]
  },
  {
   "cell_type": "markdown",
   "metadata": {},
   "source": [
    "En los dos ejemplos anteriores podemos apreciar la estructura inherente de `if`.  Esta estructura tiene dos partes muy diferenciadas:\n",
    "\n",
    "- **Condición** que se tiene que cumplir para que el bloque de código se ejecute, en el ejemplo anterior `a >= 5`.\n",
    "- **Bloque de código** que se tiene que ejecutar si se cumple la condición anterior. Es importante remarcar que el bloque de código siempre debe contener una instrucción, si no es así se genera un error de sintaxis `SyntarError`.\n",
    "\n",
    "La instrucción `if` debe terminarse con `:` y el bloque de código debe estar tabulado. Toda sentencia insertada después de `if` y correctamente tabulada, forma parte del bloque de código que se ejecutará si la condición se cumple. En el ejemplo siguiente, la instrucción `print('Fuera if')` se está ejecutando siempre porque no forma parte del bloque de código de `if`."
   ]
  },
  {
   "cell_type": "code",
   "execution_count": 3,
   "metadata": {},
   "outputs": [
    {
     "name": "stdout",
     "output_type": "stream",
     "text": [
      "Fuera if\n"
     ]
    }
   ],
   "source": [
    "a = 2\n",
    "if a >= 5:\n",
    "    print('a es mayor o igual a 5')\n",
    "print('Fuera if')"
   ]
  },
  {
   "cell_type": "markdown",
   "metadata": {},
   "source": [
    "## 2.2 if ... else"
   ]
  },
  {
   "cell_type": "markdown",
   "metadata": {},
   "source": [
    "Si la condición no se cumple, se puede ejecutar un segundo bloque de código especificado dentro de la instrucción `else`."
   ]
  },
  {
   "cell_type": "code",
   "execution_count": 4,
   "metadata": {},
   "outputs": [
    {
     "name": "stdout",
     "output_type": "stream",
     "text": [
      "a no es par\n"
     ]
    }
   ],
   "source": [
    "a = 9\n",
    "if a % 2 == 0:\n",
    "    print('a es par')\n",
    "else:\n",
    "    print('a no es par')"
   ]
  },
  {
   "cell_type": "markdown",
   "metadata": {},
   "source": [
    "La cláusula `else` especifica qué hay que hacer si la condición no se cumple. En este ejemplo, la primera condición no se cumple porque a no es par, por lo tanto, se ejecuta la instrucción que hay dentro de `else`."
   ]
  },
  {
   "cell_type": "markdown",
   "metadata": {},
   "source": [
    "## 2.3 If...elif...else"
   ]
  },
  {
   "cell_type": "markdown",
   "metadata": {},
   "source": [
    "Si queremos ejecutar condiciones adicionales podemos usar la instrucción `elif`. "
   ]
  },
  {
   "cell_type": "code",
   "execution_count": 5,
   "metadata": {},
   "outputs": [
    {
     "name": "stdout",
     "output_type": "stream",
     "text": [
      "a es multiple de 3\n"
     ]
    }
   ],
   "source": [
    "a = 9\n",
    "if a % 2 == 0:\n",
    "    print('a es par')\n",
    "elif a % 3 == 0:\n",
    "    print('a es multiple de 3')"
   ]
  },
  {
   "cell_type": "markdown",
   "metadata": {},
   "source": [
    "En el ejemplo anterior, si se cumple la primera condición, se imprime por pantalla **a es par**. Si se cumple la segunda condición, se imprime por pantalla **a es múltiple de 3**. También podemos incluir cláusulas `else` dentro de la estructura`if-elif` si no se cumple ninguna de las condiciones anteriores."
   ]
  },
  {
   "cell_type": "code",
   "execution_count": 6,
   "metadata": {},
   "outputs": [
    {
     "name": "stdout",
     "output_type": "stream",
     "text": [
      "a no es par ni múltiple 3\n"
     ]
    }
   ],
   "source": [
    "a = 7\n",
    "if a % 2 == 0:\n",
    "    print('a es par')\n",
    "elif a % 3 == 0:\n",
    "    print('a es múltiple de 3')\n",
    "else:\n",
    "    print('a no es par ni múltiple 3')"
   ]
  },
  {
   "cell_type": "markdown",
   "metadata": {},
   "source": [
    "Veamos unos ejemplos más para ver diferentes estructuras condicionales.  Os aconsejamos que variéis los valores de las variables de código de los ejemplos siguientes e id ejecutando el código para comprobar cómo se comporta en cada situación."
   ]
  },
  {
   "cell_type": "code",
   "execution_count": 7,
   "metadata": {},
   "outputs": [
    {
     "name": "stdout",
     "output_type": "stream",
     "text": [
      "a es igual a b\n"
     ]
    }
   ],
   "source": [
    "# Ejemplo 1\n",
    "a = 5\n",
    "b = 5\n",
    "if a > b:\n",
    "    print('a es mayor que b')\n",
    "elif a < b:\n",
    "    print('a es menor que b')\n",
    "else:\n",
    "    print('a es igual a b')"
   ]
  },
  {
   "cell_type": "code",
   "execution_count": 8,
   "metadata": {},
   "outputs": [
    {
     "name": "stdout",
     "output_type": "stream",
     "text": [
      "a es mayor que b y negativo\n"
     ]
    }
   ],
   "source": [
    "# Ejemplo 2\n",
    "a = -1\n",
    "b = -2\n",
    "if a > b:\n",
    "    if b >= 0:\n",
    "        print('a es mayor que b y positivo')\n",
    "    elif a*-1 > 0:\n",
    "        print('a es mayor que b y negativo')\n",
    "    else:\n",
    "        print('a es mayor que b y positivo')\n",
    "else:\n",
    "    print('b es mayor o igual que a')"
   ]
  },
  {
   "cell_type": "markdown",
   "metadata": {},
   "source": [
    "# 3 Iteración"
   ]
  },
  {
   "cell_type": "markdown",
   "metadata": {},
   "source": [
    "Las estructuras de control iterativas permiten ejecutar un mismo bloque de código tantas veces como sea necesario. En la mayoría de los lenguajes de programación, hay dos formas de iterar una secuencia: mediante `for` o mediante `while`."
   ]
  },
  {
   "cell_type": "markdown",
   "metadata": {},
   "source": [
    "## 3.1 For\n",
    "\n",
    "La instrucción [for](https://docs.python.org/3.8/reference/compound_stmts.html#the-for-statement) nos permite crear bucles sobre un número de iteraciones definido inicialmente."
   ]
  },
  {
   "cell_type": "code",
   "execution_count": 10,
   "metadata": {},
   "outputs": [
    {
     "name": "stdout",
     "output_type": "stream",
     "text": [
      "Kraken\n",
      "Leviathan\n",
      "Uroborus\n",
      "Hydra\n"
     ]
    }
   ],
   "source": [
    "monsters = ['Kraken', 'Leviathan', 'Uroborus', 'Hydra']\n",
    "\n",
    "# Primer método iterando mediante for:\n",
    "for monster in monsters:\n",
    "    print(monster)"
   ]
  },
  {
   "cell_type": "markdown",
   "metadata": {},
   "source": [
    "En el ejemplo anterior, estamos recorriendo cada elemento de la lista `monsters` e imprimiéndolo por pantalla. La estructura de iteración `for` sigue la estructura siguiente:"
   ]
  },
  {
   "cell_type": "code",
   "execution_count": 28,
   "metadata": {},
   "outputs": [],
   "source": [
    "# for <variable> in <iterable>:\n",
    "#<codi>"
   ]
  },
  {
   "cell_type": "markdown",
   "metadata": {},
   "source": [
    "donde la `variable` toma cada uno de los valores del iterable.  `iterable` son aquellos objetos que pueden ser iterados o que pueden ser indexados. Algunos ejemplos de iterables son las `listas`, `tuples`, `cadenas` o `diccionarios`. Es importante remarcar que toda sentencia insertada después del `for` tiene que estar correctamente tabulada para que se ejecute. Como podéis ver en la celda siguiente, el `print` no está tabulado y crea un error ` IdentationError`."
   ]
  },
  {
   "cell_type": "code",
   "execution_count": 9,
   "metadata": {},
   "outputs": [
    {
     "ename": "IndentationError",
     "evalue": "expected an indented block (<ipython-input-9-baf8f65b9206>, line 2)",
     "output_type": "error",
     "traceback": [
      "\u001b[0;36m  File \u001b[0;32m\"<ipython-input-9-baf8f65b9206>\"\u001b[0;36m, line \u001b[0;32m2\u001b[0m\n\u001b[0;31m    print(monster)\u001b[0m\n\u001b[0m    ^\u001b[0m\n\u001b[0;31mIndentationError\u001b[0m\u001b[0;31m:\u001b[0m expected an indented block\n"
     ]
    }
   ],
   "source": [
    "for monster in monsters:\n",
    "print(monster)"
   ]
  },
  {
   "cell_type": "markdown",
   "metadata": {},
   "source": [
    "En el ejemplo siguiente, veremos diferentes tipos de iterables. "
   ]
  },
  {
   "cell_type": "code",
   "execution_count": 10,
   "metadata": {},
   "outputs": [
    {
     "name": "stdout",
     "output_type": "stream",
     "text": [
      "**Lista**\n",
      "Mercurio Venus Tierra \n",
      "**Tupla**\n",
      "Mercurio Venus Tierra \n",
      "**dict**\n",
      "Mercurio Venus Tierra \n",
      "**cadena**\n",
      "M e r c u r i o "
     ]
    }
   ],
   "source": [
    "# Definimos una lista, una tupla, un diccionario y una cadena de caracteres\n",
    "planetas_lista = ['Mercurio', 'Venus', 'Tierra']\n",
    "planetas_tupla = ('Mercurio', 'Venus', 'Tierra')\n",
    "planetas_dict = {\"Mercurio\": 4880, \"Venus\": 12105, \"Tierra\": 12745}\n",
    "planetas_str = 'Mercurio'\n",
    "\n",
    "# Recorremos las estructuras con un *for* y mostramos su contenido\n",
    "print(\"**Lista**\")\n",
    "for i in planetas_lista:\n",
    "    print(i, end=\" \")\n",
    "print()\n",
    "\n",
    "print(\"**Tupla**\")\n",
    "for i in planetas_tupla:\n",
    "    print(i, end=\" \")\n",
    "print()\n",
    "\n",
    "print(\"**dict**\")\n",
    "for i in planetas_dict:\n",
    "    print(i, end=\" \")\n",
    "print()\n",
    "\n",
    "print(\"**cadena**\")\n",
    "for i in planetas_str:\n",
    "    print(i, end=\" \")"
   ]
  },
  {
   "cell_type": "markdown",
   "metadata": {},
   "source": [
    "Es importante remarcar que un valor numérico no es un objeto iterable porque no puede ser indexado. Si ejecutamos el ejemplo siguiente se obtiene el error `TypeError: 'int' object is not iterable`."
   ]
  },
  {
   "cell_type": "code",
   "execution_count": 11,
   "metadata": {},
   "outputs": [
    {
     "ename": "TypeError",
     "evalue": "'int' object is not iterable",
     "output_type": "error",
     "traceback": [
      "\u001b[0;31m---------------------------------------------------------------------------\u001b[0m",
      "\u001b[0;31mTypeError\u001b[0m                                 Traceback (most recent call last)",
      "\u001b[0;32m<ipython-input-11-7938d9b1b2cb>\u001b[0m in \u001b[0;36m<module>\u001b[0;34m\u001b[0m\n\u001b[1;32m      1\u001b[0m \u001b[0ma\u001b[0m \u001b[0;34m=\u001b[0m \u001b[0;36m5\u001b[0m\u001b[0;34m\u001b[0m\u001b[0;34m\u001b[0m\u001b[0m\n\u001b[1;32m      2\u001b[0m \u001b[0;34m\u001b[0m\u001b[0m\n\u001b[0;32m----> 3\u001b[0;31m \u001b[0;32mfor\u001b[0m \u001b[0mi\u001b[0m \u001b[0;32min\u001b[0m \u001b[0ma\u001b[0m\u001b[0;34m:\u001b[0m\u001b[0;34m\u001b[0m\u001b[0;34m\u001b[0m\u001b[0m\n\u001b[0m\u001b[1;32m      4\u001b[0m     \u001b[0mprint\u001b[0m\u001b[0;34m(\u001b[0m\u001b[0ma\u001b[0m\u001b[0;34m)\u001b[0m\u001b[0;34m\u001b[0m\u001b[0;34m\u001b[0m\u001b[0m\n",
      "\u001b[0;31mTypeError\u001b[0m: 'int' object is not iterable"
     ]
    }
   ],
   "source": [
    "a = 5\n",
    "\n",
    "for i in a:\n",
    "    print(a)"
   ]
  },
  {
   "cell_type": "markdown",
   "metadata": {},
   "source": [
    "Si queremos iterar una secuencia de valores numéricos, tendremos que crear una lista de valores e iterar sobre esta lista."
   ]
  },
  {
   "cell_type": "code",
   "execution_count": 12,
   "metadata": {},
   "outputs": [
    {
     "name": "stdout",
     "output_type": "stream",
     "text": [
      "0 1 2 3 4 5 "
     ]
    }
   ],
   "source": [
    "# Primero creamos la lista de valores numéricos del 0 al 5 (inclusivos)\n",
    "lista_valores = [0, 1, 2, 3, 4, 5]\n",
    "\n",
    "# Recorremos la lista con un *for* y mostramos su contenido\n",
    "for i in lista_valores:\n",
    "    print(i, end=\" \")"
   ]
  },
  {
   "cell_type": "markdown",
   "metadata": {},
   "source": [
    "En la sección $3.5$ veremos cómo podemos crear una secuencia de valores numéricos mediante la función `range()` sin tener que definir ninguna lista antes. \n",
    "\n",
    "La instrucción `for` permite incluir otras estructuras de control dentro de su bloque de código, por ejemplo `for`. Esto permite iterar un objeto que en cada elemento tiene un objeto iterable."
   ]
  },
  {
   "cell_type": "code",
   "execution_count": 13,
   "metadata": {},
   "outputs": [
    {
     "name": "stdout",
     "output_type": "stream",
     "text": [
      "Mercurio\n",
      "La palabra Mercurio está formada por 8 letras\n",
      "Venus\n",
      "La palabra Venus está formada por 5 letras\n",
      "Tierra\n",
      "La palabra Tierra está formada por 6 letras\n"
     ]
    }
   ],
   "source": [
    "planetas_lista = ['Mercurio', 'Venus', 'Tierra']\n",
    "\n",
    "# Recorremos la lista con un *for* y mostramos su contenido\n",
    "\n",
    "for i in planetas_lista:\n",
    "    print(i, end=\"\")\n",
    "    # Recorremos cada elemento de la cadena y contamos el número de letras que forman la palabra\n",
    "    print()\n",
    "    k = 0\n",
    "    for j in i:\n",
    "        # Se actualiza el valor de k sumándole 1\n",
    "        k += 1\n",
    "    print(\"La palabra {} está formada por {} letras\".format((i), (k)))"
   ]
  },
  {
   "cell_type": "markdown",
   "metadata": {},
   "source": [
    "## 3.2 While\n",
    " \n",
    "La instrucción `while` permite iterar un objeto mientras se cumpla una condición determinada. Cuando la condición deja de cumplirse, se sale del bucle y continúa la ejecución del bloque de código siguiente.  En el ejemplo que sigue, el código dentro de `while` se ejecutará mientras `a` sea mayor que `b`."
   ]
  },
  {
   "cell_type": "code",
   "execution_count": 16,
   "metadata": {},
   "outputs": [
    {
     "name": "stdout",
     "output_type": "stream",
     "text": [
      "b es igual 5\n"
     ]
    }
   ],
   "source": [
    "a = 5\n",
    "b = 0\n",
    "\n",
    "while a > b:\n",
    "    # Se actualiza el valor de b sumándole 1\n",
    "    b += 1\n",
    "print(\"b es igual {}\".format(b))"
   ]
  },
  {
   "cell_type": "markdown",
   "metadata": {},
   "source": [
    "También se puede iterar una lista mediante `while`, pero es una manera mucho menos idiomática en Python y es preferible la opción de `for`."
   ]
  },
  {
   "cell_type": "code",
   "execution_count": 14,
   "metadata": {},
   "outputs": [
    {
     "name": "stdout",
     "output_type": "stream",
     "text": [
      "0 Mercurio\n",
      "1 Venus\n",
      "2 Tierra\n"
     ]
    }
   ],
   "source": [
    "# Mientras el índice 'i' sea menor que la longitud de la lista 'planetas':\n",
    "i = 0\n",
    "while i < len(planetas_lista):\n",
    "    # Imprime el valor de la lista en la posición 'i'.\n",
    "    print(i, planetas_lista[i])\n",
    "    # No nos olvidamos de actualizar el valor de 'i' sumándole 1 o tendremos un bucle infinito.\n",
    "    i += 1"
   ]
  },
  {
   "cell_type": "markdown",
   "metadata": {},
   "source": [
    "En este momento seríamos capaces de calcular la serie de Fibonacci hasta\n",
    "un determinado valor:"
   ]
  },
  {
   "cell_type": "code",
   "execution_count": 15,
   "metadata": {},
   "outputs": [
    {
     "name": "stdout",
     "output_type": "stream",
     "text": [
      "0 1 1 2 3 5 8 13 21 34 55 89 "
     ]
    }
   ],
   "source": [
    "# Calculamos el valor de la serie hasta un valor n = 100.\n",
    "n = 100\n",
    "\n",
    "a, b = 0, 1\n",
    "while a < n:\n",
    "    print(a, end=\" \")\n",
    "    a, b = b, a+b"
   ]
  },
  {
   "cell_type": "markdown",
   "metadata": {},
   "source": [
    "## 3.3 Break y Continue"
   ]
  },
  {
   "cell_type": "markdown",
   "metadata": {},
   "source": [
    "Las instrucciones `break` y `continue` nos permiten alterar el comportamiento de las instrucciones `for` y `while`.\n",
    "\n",
    "- **break**: permite salir de un bucle en un momento dado y parar la ejecución.\n",
    "- **continue**: permite saltarse el código restante en la iteración actual volviendo al principio del bucle. "
   ]
  },
  {
   "cell_type": "code",
   "execution_count": 16,
   "metadata": {},
   "outputs": [
    {
     "name": "stdout",
     "output_type": "stream",
     "text": [
      "Mercurio\n"
     ]
    }
   ],
   "source": [
    "for planeta in planetas_lista:\n",
    "    if planeta == \"Venus\":\n",
    "        break\n",
    "    print(planeta)"
   ]
  },
  {
   "cell_type": "code",
   "execution_count": 17,
   "metadata": {},
   "outputs": [
    {
     "name": "stdout",
     "output_type": "stream",
     "text": [
      "Mercurio\n",
      "Tierra\n"
     ]
    }
   ],
   "source": [
    "for planeta in planetas_lista:\n",
    "    if planeta == \"Venus\":\n",
    "        continue\n",
    "    print(planeta)"
   ]
  },
  {
   "cell_type": "markdown",
   "metadata": {},
   "source": [
    "En los ejemplos de las celdas anteriores, se puede apreciar la diferencia en el funcionamiento de las instrucciones `break` y `continue`. En el primer ejemplo, `break` interrumpe la ejecución del bucle cuando *planeta* es igual a *Venus*. En cambio, `continue` no interrumpe el bucle, sinó que pasa a la iteración siguiente saltando la instrucción pendiente `print`."
   ]
  },
  {
   "cell_type": "markdown",
   "metadata": {},
   "source": [
    "En el ejemplo siguiente, cambiad la instrucción `break` por `continue`. Ejecutad el código en las dos tesituras para comprobar cómo varía el output final según la instrucción que se haya usado."
   ]
  },
  {
   "cell_type": "code",
   "execution_count": 18,
   "metadata": {
    "scrolled": true
   },
   "outputs": [
    {
     "name": "stdout",
     "output_type": "stream",
     "text": [
      "19 17 15 13 11 9 7 5 3 1 "
     ]
    }
   ],
   "source": [
    "a = 20\n",
    "#\n",
    "while a > 0:\n",
    "    a -= 1\n",
    "    if a % 2 == 0:\n",
    "        continue  # break\n",
    "    print(a, end=\" \")"
   ]
  },
  {
   "cell_type": "markdown",
   "metadata": {},
   "source": [
    "## 3.4 Herramientas de Python para iterar eficientemente"
   ]
  },
  {
   "cell_type": "markdown",
   "metadata": {},
   "source": [
    "Antes hemos definido dos estructuras de control, `for` y `while`, generales de la mayoría de los lenguajes de programación. Python tiene herramientas específicas para optimizar el proceso de iteración. Entre estas herramientas están:`range()`, `enumerate()` y `zip()`."
   ]
  },
  {
   "cell_type": "markdown",
   "metadata": {},
   "source": [
    "### 3.4.1 Range"
   ]
  },
  {
   "cell_type": "markdown",
   "metadata": {},
   "source": [
    "[`Range`](https://docs.python.org/3/library/stdtypes.html?highlight=range#range) es una función muy útil de Python para generar una secuencia de números. La sintaxis de `range` es la siguiente: "
   ]
  },
  {
   "cell_type": "code",
   "execution_count": 27,
   "metadata": {},
   "outputs": [],
   "source": [
    "# range(start,end,step)"
   ]
  },
  {
   "cell_type": "markdown",
   "metadata": {},
   "source": [
    "`Range`es una función que permite pasar tres parámetros separados por coma, en que **start** es el valor inicial de la secuencia, **end** es el valor final y **step** el salto entre números. Es muy importante remarcar que 'range' devuelve una lista de números hasta la posición final menos 1. Por defecto, el valor inicial es 0 y el salto es 1."
   ]
  },
  {
   "cell_type": "code",
   "execution_count": 19,
   "metadata": {
    "attributes": {
     "classes": [
      "sourceCode"
     ],
     "id": ""
    }
   },
   "outputs": [
    {
     "data": {
      "text/plain": [
       "[0, 1, 2, 3, 4, 5, 6, 7, 8, 9]"
      ]
     },
     "execution_count": 19,
     "metadata": {},
     "output_type": "execute_result"
    }
   ],
   "source": [
    "# La función 'range' nos devuelve una lista de números:\n",
    "list(range(10))"
   ]
  },
  {
   "cell_type": "markdown",
   "metadata": {},
   "source": [
    "Fijaos que `range` no vuelve directamente una lista, sino un tipo propio del mismo nombre. Por este motivo, para obtener una lista hay que hacer una conversión de tipos usando `list()`. Esto es una novedad en Python 3, puesto que en Python 2 la función `range` devolvía una lista."
   ]
  },
  {
   "cell_type": "code",
   "execution_count": 20,
   "metadata": {},
   "outputs": [
    {
     "name": "stdout",
     "output_type": "stream",
     "text": [
      "<class 'range'>\n",
      "<class 'list'>\n"
     ]
    }
   ],
   "source": [
    "# Visualizamos el tipo de retorno de range\n",
    "print(type(range(10)))\n",
    "print(type(list(range(10))))"
   ]
  },
  {
   "cell_type": "markdown",
   "metadata": {},
   "source": [
    "Veamos algunos de los usos más habituales de `range`:"
   ]
  },
  {
   "cell_type": "code",
   "execution_count": 21,
   "metadata": {
    "attributes": {
     "classes": [
      "sourceCode"
     ],
     "id": ""
    }
   },
   "outputs": [
    {
     "name": "stdout",
     "output_type": "stream",
     "text": [
      "0 1 2 3 4 5 6 7 8 9 \n"
     ]
    }
   ],
   "source": [
    "# Podemos usarla para iterar:\n",
    "for i in range(10):\n",
    "    print(i, end=\" \")\n",
    "print()"
   ]
  },
  {
   "cell_type": "code",
   "execution_count": 22,
   "metadata": {
    "attributes": {
     "classes": [
      "sourceCode"
     ],
     "id": ""
    }
   },
   "outputs": [
    {
     "name": "stdout",
     "output_type": "stream",
     "text": [
      "0 1 2 3 4 5 6 7 8 9 \n",
      "5 6 7 8 9 \n",
      "5 8 "
     ]
    }
   ],
   "source": [
    "# Podemos definir el rango de acción.\n",
    "\n",
    "# Por ejemplo, especificando solo el final, como hemos hecho antes\n",
    "for i in range(10):\n",
    "    print(i, end=\" \")\n",
    "\n",
    "print()\n",
    "\n",
    "# especificando inicio y fin:\n",
    "for i in range(5, 10):\n",
    "    print(i, end=\" \")\n",
    "\n",
    "print()\n",
    "\n",
    "# o especificando también el salto entre cada valor:\n",
    "for i in range(5, 10, 3):\n",
    "    print(i, end=\" \")"
   ]
  },
  {
   "cell_type": "markdown",
   "metadata": {},
   "source": [
    "Siempre que no necesitemos explícitamente una lista, usaremos directamente el tipo `range` (sin hacer la conversión a lista), puesto que esto es en general más eficiente (ahorra memoria). Solo cuando necesitemos una lista (por ejemplo, para visualizar el resultado como hemos hecho en el primer ejemplo), convertiremos el resultado de `range` a lista."
   ]
  },
  {
   "cell_type": "code",
   "execution_count": 26,
   "metadata": {
    "attributes": {
     "classes": [
      "sourceCode"
     ],
     "id": ""
    }
   },
   "outputs": [
    {
     "name": "stdout",
     "output_type": "stream",
     "text": [
      "34\n",
      "376\n",
      "41\n",
      "424\n",
      "\n",
      "Spain\n",
      "Andorra\n",
      "Switzerland\n",
      "None\n",
      "\n",
      "34 Spain\n",
      "376 Andorra\n",
      "41 Switzerland\n",
      "424 None\n"
     ]
    }
   ],
   "source": [
    "# También es posible iterar en un diccionario:\n",
    "pais_codigos = {34: 'Spain', 376: 'Andorra', 41: 'Switzerland', 424: None}\n",
    "\n",
    "# Por clave:\n",
    "for pais_codigo in pais_codigos.keys():\n",
    "    print(pais_codigo)\n",
    "print()\n",
    "\n",
    "# Por valor:\n",
    "for pais in pais_codigos.values():\n",
    "    print(pais)\n",
    "print()\n",
    "\n",
    "# Por ambos a la vez:\n",
    "for pais_codigo, pais in pais_codigos.items():\n",
    "    print(pais_codigo, pais)"
   ]
  },
  {
   "cell_type": "markdown",
   "metadata": {},
   "source": [
    "### 3.4.2 Enumerate"
   ]
  },
  {
   "cell_type": "markdown",
   "metadata": {},
   "source": [
    "[`Enumerate`](https://docs.python.org/3/library/functions.html?highlight=enumerate#enumerate) es una función de Python para acceder a los índices de una colección. Esta función devuelve una tupla en que el primer elemento es un índice que empieza por 0 y aumenta de 1 a 1, y el segundo elemento es el valor de la posición en la lista. "
   ]
  },
  {
   "cell_type": "markdown",
   "metadata": {},
   "source": [
    "En el ejemplo siguiente, accedemos al índice y al valor de la lista mediante `for` y un contador:"
   ]
  },
  {
   "cell_type": "code",
   "execution_count": 23,
   "metadata": {},
   "outputs": [
    {
     "name": "stdout",
     "output_type": "stream",
     "text": [
      "0 Kraken 1 Leviathan 2 Uroborus 3 Hydra "
     ]
    }
   ],
   "source": [
    "# Recuperamos el ejemplo de los monstruos\n",
    "monsters = ['Kraken', 'Leviathan', 'Uroborus', 'Hydra']\n",
    "\n",
    "# Inicializamos el contador\n",
    "i = 0\n",
    "\n",
    "for monster in monsters:\n",
    "    print(i, monster, end=\" \")\n",
    "    i += 1"
   ]
  },
  {
   "cell_type": "markdown",
   "metadata": {},
   "source": [
    "Podemos obtener el mismo resultado usando la función `enumerate`:"
   ]
  },
  {
   "cell_type": "code",
   "execution_count": 24,
   "metadata": {},
   "outputs": [
    {
     "name": "stdout",
     "output_type": "stream",
     "text": [
      "0 Kraken 1 Leviathan 2 Uroborus 3 Hydra "
     ]
    }
   ],
   "source": [
    "for index, monster in enumerate(monsters):\n",
    "    print(index, monster, end=\" \")"
   ]
  },
  {
   "cell_type": "markdown",
   "metadata": {},
   "source": [
    "### 3.4.3 Zip"
   ]
  },
  {
   "cell_type": "markdown",
   "metadata": {},
   "source": [
    "`Zip` es una función que, combinada con un `for`, permite iterar tantas listas como sea necesario en paralelo."
   ]
  },
  {
   "cell_type": "code",
   "execution_count": 27,
   "metadata": {},
   "outputs": [
    {
     "name": "stdout",
     "output_type": "stream",
     "text": [
      "Mercurio tiene un diámetro de 4880 km y se encuentra a una distancia del Sol de 57910000 km\n",
      "Venus tiene un diámetro de 12105 km y se encuentra a una distancia del Sol de 108200000 km\n",
      "Tierra tiene un diámetro de 12750 km y se encuentra a una distancia del Sol de 146600000 km\n"
     ]
    }
   ],
   "source": [
    "planetas = [\"Mercurio\", \"Venus\", \"Tierra\"]\n",
    "diametro = [\"4880 km\", \"12105 km\", \"12750 km\"]\n",
    "distancia_sol = [\"57910000 km\", \"108200000 km\", \"146600000 km\"]\n",
    "\n",
    "for pla, dist, ds in zip(planetas, diametro, distancia_sol):\n",
    "    print(\"{} tiene un diámetro de {} y se encuentra a una distancia del Sol de {}\".format(\n",
    "        (pla), (dist), (ds)))"
   ]
  },
  {
   "cell_type": "markdown",
   "metadata": {},
   "source": [
    "Si las listas tienen longitudes diferentes, la iteración se detiene cuando la lista más pequeña se acaba."
   ]
  },
  {
   "cell_type": "code",
   "execution_count": 28,
   "metadata": {},
   "outputs": [
    {
     "name": "stdout",
     "output_type": "stream",
     "text": [
      "Mercurio tiene un diámetro de 4880 km y se encuentra a una distancia del Sol de 57910000 km\n",
      "Venus tiene un diámetro de 12105 km y se encuentra a una distancia del Sol de 108200000 km\n"
     ]
    }
   ],
   "source": [
    "planetas = [\"Mercurio\", \"Venus\", \"Tierra\"]\n",
    "diametro = [\"4880 km\", \"12105 km\", \"12750 km\"]\n",
    "distancia_sol = [\"57910000 km\", \"108200000 km\"]\n",
    "\n",
    "for pla, dist, ds in zip(planetas, diámetro, distancia_sol):\n",
    "    print(\"{} tiene un diámetro de {} y se encuentra a una distancia del Sol de {}\".format(\n",
    "        (pla), (dist), (ds)))"
   ]
  },
  {
   "cell_type": "markdown",
   "metadata": {},
   "source": [
    "Esta función está definida por cualquier objeto iterable. Esta característica hace que se pueda usar `zip` con diccionarios.  Para acceder al valor y la clave de cada elemento se tiene que usar la función `items`."
   ]
  },
  {
   "cell_type": "code",
   "execution_count": 29,
   "metadata": {},
   "outputs": [
    {
     "name": "stdout",
     "output_type": "stream",
     "text": [
      "34 Spain 46000000\n",
      "376 Andorra 77000\n",
      "41 Switzerland 8000000\n"
     ]
    }
   ],
   "source": [
    "pais_codigo = {34: 'Spain', 376: 'Andorra', 41: 'Switzerland', 424: None}\n",
    "pais_hab = {'Spain': 46000000, 'Andorra': 77000, 'Switzerland': 8000000}\n",
    "\n",
    "for (a, b), (c, d) in zip(pais_codigo.items(), pais_hab.items()):\n",
    "    print(a, b, d)"
   ]
  },
  {
   "cell_type": "markdown",
   "metadata": {},
   "source": [
    "# 4 List Comprehensions"
   ]
  },
  {
   "cell_type": "markdown",
   "metadata": {},
   "source": [
    "**List comprehension** es una expresión idiomática de Python que permite crear listas de elementos en una sola línea de código de forma sencilla y elegante sin usar estructuras de control muy complejas."
   ]
  },
  {
   "cell_type": "code",
   "execution_count": 30,
   "metadata": {},
   "outputs": [
    {
     "name": "stdout",
     "output_type": "stream",
     "text": [
      "['Mercurio', 'Tierra']\n"
     ]
    }
   ],
   "source": [
    "# Queremos seleccionar todos aquellos planetas que tienen una *r* en su nombre\n",
    "planetas = [\"Mercurio\", \"Venus\", \"Tierra\"]\n",
    "subset = []\n",
    "for x in planetas:\n",
    "    if \"r\" in x:\n",
    "        subset.append(x)\n",
    "print(subset)"
   ]
  },
  {
   "cell_type": "markdown",
   "metadata": {},
   "source": [
    "En el ejemplo anterior, hemos implementado una estructura de control clásica con `for` e `if` para seleccionar los elementos de la lista que tienen una *r* en su nombre. En la celda siguiente haremos lo mismo usando *list comprehension*."
   ]
  },
  {
   "cell_type": "code",
   "execution_count": 31,
   "metadata": {},
   "outputs": [
    {
     "name": "stdout",
     "output_type": "stream",
     "text": [
      "['Mercurio', 'Tierra']\n"
     ]
    }
   ],
   "source": [
    "subset = [x for x in planetas if \"r\" in x]\n",
    "\n",
    "print(subset)"
   ]
  },
  {
   "cell_type": "markdown",
   "metadata": {},
   "source": [
    "La sintaxis general de una *list comprehension* es la siguiente:"
   ]
  },
  {
   "cell_type": "code",
   "execution_count": 115,
   "metadata": {},
   "outputs": [],
   "source": [
    "# lista = [expresión for element in iterable]"
   ]
  },
  {
   "cell_type": "markdown",
   "metadata": {},
   "source": [
    "Esta sintaxis tiene dos partes muy diferenciadas. \n",
    "\n",
    "- `for element in iterable` iteración de un determinado iterable y se guarda cada uno de los elementos en `elemento`. El iterable puede ser una lista, secuencia, generador o una estructura de control (como por ejemplo, `if `) que devuelva sus elementos uno por uno. \n",
    "- `expresión` acción sobre `elemento` que se añadirá a la lista a cada iteración."
   ]
  },
  {
   "cell_type": "code",
   "execution_count": 35,
   "metadata": {},
   "outputs": [
    {
     "name": "stdout",
     "output_type": "stream",
     "text": [
      "[0, 4, 16, 36, 64]\n"
     ]
    }
   ],
   "source": [
    "# Aplicaremos una list comprehension para calcular el cuadrado de los números pares presentes hasta el 9\n",
    "resultado = [i**2 for i in range(10) if i % 2 == 0]\n",
    "print(resultado)"
   ]
  },
  {
   "cell_type": "markdown",
   "metadata": {},
   "source": [
    "# 5 Funciones"
   ]
  },
  {
   "cell_type": "markdown",
   "metadata": {},
   "source": [
    "Otra manera muy importante de organizar el flujo de ejecución es encapsulando una cierta porción de código en una función reutilizable. Se tiene que enfatizar que el conjunto de instrucciones que se ejecutan dentro de la función deben estar correctamente tabuladas respecto a `def()`. Si no es así, se obtiene un error de tabulación.   \n",
    "\n",
    "Una función en Python utiliza un concepto similar al de una función matemática. Por ejemplo, imaginémonos la función matemática:\n",
    "\n",
    "*suma(x, y) = x + y*\n",
    "\n",
    "En Python podemos definir la misma función de la forma siguiente:"
   ]
  },
  {
   "cell_type": "code",
   "execution_count": 36,
   "metadata": {},
   "outputs": [],
   "source": [
    "# La función 'suma' se define mediante la palabra especial 'def' y tiene dos argumentos: 'x' e 'y':\n",
    "def suma(x, y):\n",
    "    # Mostramos por pantalla los valores de x e y\n",
    "    print(\"El valor de x es {}\".format(x))\n",
    "    print(\"El valor de y es {}\".format(y))\n",
    "    # Devolvemos el valor de la suma\n",
    "    return x + y"
   ]
  },
  {
   "cell_type": "markdown",
   "metadata": {},
   "source": [
    "La definición de una función Python tiene las características siguientes:\n",
    "\n",
    "   - Palabra clave def().\n",
    "   - Nombre de la función.\n",
    "   - Paréntesis y dentro de los paréntesis los parámetros de entrada (a pesar de que pueden ser opcionales).\n",
    "   - Dos puntos `:`.\n",
    "   - Bloc de código.\n",
    "   - Sentencia de retorno, `return`, del resultado (opcional).\n",
    "  \n",
    "En la definición de una función no se ejecuta el bloque de código que contiene la función.  Para ejecutarlo, se tiene que escribir el nombre de la función con los parámetros de entrada correspondientes, como podemos ver en los ejemplos siguientes. En el primer ejemplo, estamos ejecutando la función `suma()` usando el nombre de los parámetros."
   ]
  },
  {
   "cell_type": "code",
   "execution_count": 37,
   "metadata": {},
   "outputs": [
    {
     "name": "stdout",
     "output_type": "stream",
     "text": [
      "El valor de x es 5\n",
      "El valor de y es -5\n"
     ]
    },
    {
     "data": {
      "text/plain": [
       "0"
      ]
     },
     "execution_count": 37,
     "metadata": {},
     "output_type": "execute_result"
    }
   ],
   "source": [
    "# Ejecución de la función suma\n",
    "suma(x=5, y=-5)"
   ]
  },
  {
   "cell_type": "markdown",
   "metadata": {},
   "source": [
    "Si usamos el nombre de los parámetros, podemos cambiar la orden de los parámetros sin modificar el resultado de la función."
   ]
  },
  {
   "cell_type": "code",
   "execution_count": 37,
   "metadata": {},
   "outputs": [
    {
     "name": "stdout",
     "output_type": "stream",
     "text": [
      "El valor de x es 5\n",
      "El valor de y es -5\n"
     ]
    },
    {
     "data": {
      "text/plain": [
       "0"
      ]
     },
     "execution_count": 37,
     "metadata": {},
     "output_type": "execute_result"
    }
   ],
   "source": [
    "# Ejecución de la función suma cambiando el orden de los parámetros\n",
    "suma(y=-5, x=5)"
   ]
  },
  {
   "cell_type": "markdown",
   "metadata": {},
   "source": [
    "Si no usamos el nombre de los parámetros, cada posición corresponde a un parámetro tal como hemos definido dentro de la función. En nuestro caso, la primera posición es `x`, y la segunda, `y`."
   ]
  },
  {
   "cell_type": "code",
   "execution_count": 38,
   "metadata": {
    "scrolled": true
   },
   "outputs": [
    {
     "name": "stdout",
     "output_type": "stream",
     "text": [
      "El valor de x es 4\n",
      "El valor de y es 2\n"
     ]
    },
    {
     "data": {
      "text/plain": [
       "6"
      ]
     },
     "execution_count": 38,
     "metadata": {},
     "output_type": "execute_result"
    }
   ],
   "source": [
    "# Ejecución de la función con los argumentos posicionales\n",
    "suma(4, 2)"
   ]
  },
  {
   "cell_type": "code",
   "execution_count": 39,
   "metadata": {},
   "outputs": [
    {
     "name": "stdout",
     "output_type": "stream",
     "text": [
      "El valor de x es 2\n",
      "El valor de y es 4\n"
     ]
    },
    {
     "data": {
      "text/plain": [
       "6"
      ]
     },
     "execution_count": 39,
     "metadata": {},
     "output_type": "execute_result"
    }
   ],
   "source": [
    "# Ejecución de la función cambiando el orden de los argumentos posicionales\n",
    "suma(2, 4)"
   ]
  },
  {
   "cell_type": "code",
   "execution_count": 40,
   "metadata": {},
   "outputs": [],
   "source": [
    "# Podemos definir una función que no haga nada usando la palabra especial 'pass':\n",
    "\n",
    "def dummy():\n",
    "    pass"
   ]
  },
  {
   "cell_type": "code",
   "execution_count": 41,
   "metadata": {},
   "outputs": [],
   "source": [
    "dummy()"
   ]
  },
  {
   "cell_type": "code",
   "execution_count": 38,
   "metadata": {},
   "outputs": [],
   "source": [
    "# Podríamos volver a definir el trozo de código de la secuencia de Fibonacci como una función:\n",
    "\n",
    "def fibonacci(n=100):\n",
    "    a, b = 0, 1\n",
    "    while a < n:\n",
    "        print(a, end=\" \")\n",
    "        a, b = b, a+b"
   ]
  },
  {
   "cell_type": "code",
   "execution_count": 39,
   "metadata": {},
   "outputs": [
    {
     "name": "stdout",
     "output_type": "stream",
     "text": [
      "0 1 1 2 3 5 8 "
     ]
    }
   ],
   "source": [
    "fibonacci(10)"
   ]
  },
  {
   "cell_type": "code",
   "execution_count": 40,
   "metadata": {},
   "outputs": [
    {
     "name": "stdout",
     "output_type": "stream",
     "text": [
      "0 1 1 2 3 5 8 13 21 34 55 89 "
     ]
    }
   ],
   "source": [
    "# En el ejemplo anterior, hemos definido que el argumento n tenga un valor por defecto. Esto es muy útil\n",
    "# en los casos en que usamos la función siempre con un mismo valor, y queramos dejar constancia de un\n",
    "# caso de ejemplo o por defecto. En este caso, podemos ejecutar la función sin pasarle ningún valor:\n",
    "fibonacci()"
   ]
  },
  {
   "cell_type": "code",
   "execution_count": 41,
   "metadata": {},
   "outputs": [],
   "source": [
    "# Podemos definir parte de los argumentos con valores por defecto y otra parte sin.\n",
    "# Los argumentos sin valor por defecto siempre tienen que estar más a la izquierda a la definición de la función:\n",
    "\n",
    "def potencia(a, b=2):\n",
    "    # Por defecto, elevaremos al cuadrado.\n",
    "    return a**b"
   ]
  },
  {
   "cell_type": "code",
   "execution_count": 42,
   "metadata": {},
   "outputs": [
    {
     "name": "stdout",
     "output_type": "stream",
     "text": [
      "9\n",
      "8\n"
     ]
    }
   ],
   "source": [
    "print(potencia(3))\n",
    "print(potencia(2, 3))"
   ]
  },
  {
   "cell_type": "markdown",
   "metadata": {},
   "source": [
    "## 5.1 args y kargs"
   ]
  },
  {
   "cell_type": "markdown",
   "metadata": {},
   "source": [
    "Tal como hemos visto en el apartado anterior, hemos definido las funciones considerando un número concreto de argumentos *(0,1,2,...,N)*. Pero nos podemos encontrar que, a priori, no sepamos cuántas variables necesitamos.  Para solucionar esto, en Python se puede definir un conjunto de argumentos variable con `args`y `kargs`. \n",
    "\n",
    "*Args* nos permite definir funciones genéricas que acepten un número variable de argumentos.  "
   ]
  },
  {
   "cell_type": "code",
   "execution_count": 47,
   "metadata": {},
   "outputs": [],
   "source": [
    "def suma_args(*args):\n",
    "    # Devolvemos el valor de la suma\n",
    "    return sum(args)"
   ]
  },
  {
   "cell_type": "code",
   "execution_count": 49,
   "metadata": {},
   "outputs": [
    {
     "data": {
      "text/plain": [
       "12"
      ]
     },
     "execution_count": 49,
     "metadata": {},
     "output_type": "execute_result"
    }
   ],
   "source": [
    "suma_args(3, 4, 5)"
   ]
  },
  {
   "cell_type": "markdown",
   "metadata": {},
   "source": [
    "La función `suma_args` corresponde a la misma función `suma`, que hemos definido en el apartado anterior, pero usando un número variable de argumentos. Si comparamos las dos funciones, veremos que la función `suma` solo permite sumar dos números. En cambio, `suma_args` permite sumar tantos números como quiera el usuario. "
   ]
  },
  {
   "cell_type": "code",
   "execution_count": 50,
   "metadata": {},
   "outputs": [
    {
     "name": "stdout",
     "output_type": "stream",
     "text": [
      "Suma con un número variable de argumentos es 9\n",
      "El valor de x es 4\n",
      "El valor de y es 5\n",
      "Suma de dos argumentos es 9\n"
     ]
    }
   ],
   "source": [
    "print(\"Suma con un número variable de argumentos es {}\".formato(suma_args(4, 5)))\n",
    "print(\"Suma de dos argumentos es {}\".formato(suma(4, 5)))"
   ]
  },
  {
   "cell_type": "code",
   "execution_count": 51,
   "metadata": {},
   "outputs": [
    {
     "name": "stdout",
     "output_type": "stream",
     "text": [
      "Suma con un número variable de argumentos es 33\n"
     ]
    }
   ],
   "source": [
    "print(\"Suma con un número variable de argumentos es {}\".format(\n",
    "    suma_args(4, 5, 7, 8, 9)))\n",
    "#print(\"Suma de dos argumentos es {}\".format(suma(4,5,7,8,9)))"
   ]
  },
  {
   "cell_type": "markdown",
   "metadata": {},
   "source": [
    "Si se quiere sumar *5* números mediante la función `suma` definida con dos variables, la ejecución da error porque estás usando más argumentos de los definidos."
   ]
  },
  {
   "cell_type": "markdown",
   "metadata": {},
   "source": [
    "Si, además de trabajar con un número variable de argumentos, queremos tener la capacidad de definir el nombre de cada uno de los argumentos de entrada, tenemos que usar **kargs**. Debemos trabajar **kargs** como si se tratara de un diccionario y acceder a los correspondientes valores y claves mediante la función `items`. "
   ]
  },
  {
   "cell_type": "code",
   "execution_count": 44,
   "metadata": {},
   "outputs": [],
   "source": [
    "def suma_kargs(**kargs):\n",
    "    r = 0\n",
    "    # Devolvemos el valor de la suma\n",
    "    for k, v in kargs.items():\n",
    "        print(k, \"=\", v)\n",
    "        r += v\n",
    "    return r"
   ]
  },
  {
   "cell_type": "code",
   "execution_count": 45,
   "metadata": {},
   "outputs": [
    {
     "name": "stdout",
     "output_type": "stream",
     "text": [
      "a = 4\n",
      "b = 5\n",
      "c = 7\n",
      "d = 8\n",
      "e = 9\n",
      "Suma con un número variable de argumentos es 33\n"
     ]
    }
   ],
   "source": [
    "print(\"Suma con un número variable de argumentos es {}\".format(\n",
    "    suma_kargs(a=4, b=5, c=7, d=8, e=9)))"
   ]
  },
  {
   "cell_type": "markdown",
   "metadata": {},
   "source": [
    "## 5.2 Función Lambda"
   ]
  },
  {
   "cell_type": "markdown",
   "metadata": {},
   "source": [
    "La función *Lambda* o anónima es un tipo de función de Python que se emplea para simplificar la escritura de funciones en una sola línea. En el ejemplo siguiente queremos obtener todos los números múltiples de 5."
   ]
  },
  {
   "cell_type": "code",
   "execution_count": 54,
   "metadata": {},
   "outputs": [],
   "source": [
    "# Definimos la función myfun(), en que el parámetro de entrada es el valor hasta donde queremos estudiar\n",
    "\n",
    "def myfun(xmax):\n",
    "    # Definimos la lista\n",
    "    mylist = []\n",
    "    for k in range(0, xmax):\n",
    "        # Comprobem si el valor es multiple de 5\n",
    "        if k % 5 == 0:\n",
    "            # Añadimos el valor a la lista con append()\n",
    "            mylist.append(k)\n",
    "    # Mostramos por pantalla\n",
    "    print(mylist)"
   ]
  },
  {
   "cell_type": "code",
   "execution_count": 55,
   "metadata": {},
   "outputs": [
    {
     "name": "stdout",
     "output_type": "stream",
     "text": [
      "[0, 5, 10, 15, 20, 25, 30, 35, 40, 45, 50, 55, 60, 65, 70, 75, 80, 85, 90, 95, 100]\n"
     ]
    }
   ],
   "source": [
    "myfun(101)"
   ]
  },
  {
   "cell_type": "markdown",
   "metadata": {},
   "source": [
    "Podemos expresar la función `myfun()` usando la función *Lambda* como:"
   ]
  },
  {
   "cell_type": "code",
   "execution_count": 56,
   "metadata": {},
   "outputs": [
    {
     "name": "stdout",
     "output_type": "stream",
     "text": [
      "[0, 5, 10, 15, 20, 25, 30, 35, 40, 45, 50, 55, 60, 65, 70, 75, 80, 85, 90, 95, 100]\n"
     ]
    }
   ],
   "source": [
    "# La función filter() permite extraer los valores que cumplen una determina condición\n",
    "print(list(filter(lambda x: x % 5 == 0,  range(0, 101))))"
   ]
  },
  {
   "cell_type": "markdown",
   "metadata": {},
   "source": [
    "Como se puede ver en el ejemplo anterior, la función `lambda` (en combinación con la función `filter`) nos permite obtener el mismo resultado que la función `myfun` de manera más simplificada y compacta. "
   ]
  },
  {
   "cell_type": "markdown",
   "metadata": {},
   "source": [
    "# 6 Leer y escribir desde ficheros"
   ]
  },
  {
   "cell_type": "markdown",
   "metadata": {},
   "source": [
    "Una tarea habitual es leer líneas de un fichero o escribir líneas en un fichero. A continuación, os explicamos cómo podemos escribir y leer un fichero:"
   ]
  },
  {
   "cell_type": "code",
   "execution_count": 55,
   "metadata": {},
   "outputs": [],
   "source": [
    "# Antes que nada, escribiremos en un fichero:\n",
    "\n",
    "# Abrimos un fichero de nombre 'a_file.txt' para escritura (de aquí la 'w', 'writing').\n",
    "# Lo asignamos a un objeto para gestionar el fichero de nombre 'out':\n",
    "out = open('a_file.txt', 'w')\n",
    "# Escribiremos 10 líneas, cada una con un número del 0 al 9.\n",
    "for i in range(10):\n",
    "    # La línea siguiente escribe en el fichero todo lo que ponemos dentro de 'out.write()'\n",
    "    # En nuestro caso, es un string del tipo '0\\ , '1\\ , etc. Esto lo conseguimos\n",
    "    # usando formato con un parámetro, que es el número de línea.\n",
    "    # Añadimos el \\n al final de cada línea, para incluir el salto de línea\n",
    "    out.write(\"Línea {}\\n\".format(i))\n",
    "\n",
    "    # Alternativamente, podríamos usar los wildcards %d y %s.\n",
    "    # %s representa un string o una cadena de caracteres y %d un número entero.\n",
    "    # Concatenamos en este caso un número con un string que se trata del salto de\n",
    "    # línea, os.linesep, que equivale a Linux\n",
    "    # a '\\n':\n",
    "    # out.write(\"Línea %d%s\" % (i, os.linesep))\n",
    "\n",
    "# Una vez hemos terminado de escribir el fichero, se tiene que cerrar con la instrucción close()\n",
    "out.close()"
   ]
  },
  {
   "cell_type": "markdown",
   "metadata": {},
   "source": [
    "Ahora leeremos el fichero que acabamos de escribir de tres maneras diferentes. En los dos primeros métodos, una vez hemos acabado de trabajar con el archivo, se tiene que cerrar con la instrucción `close()`. En cambio, el tercer método,`with()`, cierra el archivo automáticamente."
   ]
  },
  {
   "cell_type": "code",
   "execution_count": 56,
   "metadata": {
    "scrolled": true
   },
   "outputs": [
    {
     "name": "stdout",
     "output_type": "stream",
     "text": [
      "Línea 0\n",
      "Línea 1\n",
      "Línea 2\n",
      "Línea 3\n",
      "Línea 4\n",
      "Línea 5\n",
      "Línea 6\n",
      "Línea 7\n",
      "Línea 8\n",
      "Línea 9\n",
      "\n",
      "Línea 0\n",
      "Línea 1\n",
      "Línea 2\n",
      "Línea 3\n",
      "Línea 4\n",
      "Línea 5\n",
      "Línea 6\n",
      "Línea 7\n",
      "Línea 8\n",
      "Línea 9\n",
      "\n",
      "Línea 0\n",
      "Línea 1\n",
      "Línea 2\n",
      "Línea 3\n",
      "Línea 4\n",
      "Línea 5\n",
      "Línea 6\n",
      "Línea 7\n",
      "Línea 8\n",
      "Línea 9\n"
     ]
    }
   ],
   "source": [
    "# Primer método\n",
    "f = open('a_file.txt')\n",
    "for line in f:\n",
    "    print(line, end=\"\")\n",
    "f.close()\n",
    "print()\n",
    "\n",
    "# Segundo método\n",
    "f = open('a_file.txt')\n",
    "lines = f.readlines()\n",
    "for line in lines:\n",
    "    print(line, end=\"\")\n",
    "f.close()\n",
    "print()\n",
    "\n",
    "\n",
    "# Tercer método\n",
    "with open('a_file.txt') as f:\n",
    "    for line in f:\n",
    "        print(line, end=\"\")"
   ]
  },
  {
   "cell_type": "markdown",
   "metadata": {},
   "source": [
    "## 6.1 Pandas"
   ]
  },
  {
   "cell_type": "markdown",
   "metadata": {},
   "source": [
    "Otra manera de leer y escribir ficheros en Python es mediante la librería *Pandas*. Para poder hacer uso de las funciones de una librería, antes que nada se tiene que importar la librería mediante la instrucción *import*."
   ]
  },
  {
   "cell_type": "code",
   "execution_count": 58,
   "metadata": {},
   "outputs": [],
   "source": [
    "import pandas as pd"
   ]
  },
  {
   "cell_type": "markdown",
   "metadata": {},
   "source": [
    "Pandas nos permite cargar los datos de un fichero *CSV* directamente a un dataframe por medio de la función [`read_csv`](https://pandas.pydata.org/docs/reference/api/pandas.read_csv.html).  Esta función es muy versátil y dispone de muchos parámetros para configurar con todo detalle cómo llevar a cabo la importación.  En muchos casos, la configuración por defecto ya nos ofrecerá los resultados deseados."
   ]
  },
  {
   "cell_type": "markdown",
   "metadata": {},
   "source": [
    "Ahora cargaremos los datos del fichero `marvel-wiki-data.csv`, que contiene datos sobre personajes de cómic de Marvel. El conjunto de datos fue creado por la web [FiveThirtyEight](https://fivethirtyeight.com), que escribe artículos basados en datos sobre deportes y noticias, y que pone a disposición pública los [conjuntos de datos](https://github.com/fivethirtyeight/data) que recoge para sus artículos."
   ]
  },
  {
   "cell_type": "code",
   "execution_count": 59,
   "metadata": {},
   "outputs": [
    {
     "name": "stdout",
     "output_type": "stream",
     "text": [
      "<class 'pandas.core.frame.DataFrame'>\n"
     ]
    }
   ],
   "source": [
    "data = pd.read_csv(\"data/marvel-wiki-data.csv\")\n",
    "print(type(data))"
   ]
  },
  {
   "cell_type": "markdown",
   "metadata": {},
   "source": [
    "De una manera análoga a como hemos cargado los datos de un fichero en un *dataframe*, podemos escribir los datos de un *dataframe* en un fichero CSV."
   ]
  },
  {
   "cell_type": "code",
   "execution_count": 60,
   "metadata": {},
   "outputs": [],
   "source": [
    "# Seleccionamos las primeras 20 líneas del dataframe data\n",
    "new_data = data.head(n=20)\n",
    "# Guardamos el dataframe new_data en un CSV\n",
    "new_data.to_csv(\"data/marvel-wiki-data-head20.csv\", encoding='utf-8')"
   ]
  },
  {
   "cell_type": "markdown",
   "metadata": {},
   "source": [
    "En la unidad 4 veremos más funcionalidades de la librería Pandas y presentaremos con más detalle los tipos de datos que devuelve `read_csv`."
   ]
  },
  {
   "cell_type": "markdown",
   "metadata": {},
   "source": [
    "# 7 Errores y Excepciones"
   ]
  },
  {
   "cell_type": "markdown",
   "metadata": {},
   "source": [
    "La codificación está sujeta a errores. Conocer y corregir estos errores forma parte del aprendizaje de cualquier lenguaje de programación. En Python, hay dos tipos diferentes de errores: errores de sintaxis y excepciones. La principal diferencia entre los dos tipos de errores es que el primero está asociado a un error de sintaxis, y el segundo, a un error de ejecución.\n",
    "\n",
    "- **Errores de sintaxis o de interpretación**:  Son errores provocados por un error en la codificación. Cuando hay un error de este tipo, el intérprete reproduce la línea responsable del error y muestra con una flecha dónde ha habido el error."
   ]
  },
  {
   "cell_type": "code",
   "execution_count": 61,
   "metadata": {},
   "outputs": [
    {
     "ename": "SyntaxError",
     "evalue": "invalid syntax (<ipython-input-61-92300af304f3>, line 2)",
     "output_type": "error",
     "traceback": [
      "\u001b[0;36m  File \u001b[0;32m\"<ipython-input-61-92300af304f3>\"\u001b[0;36m, line \u001b[0;32m2\u001b[0m\n\u001b[0;31m    while i == 0\u001b[0m\n\u001b[0m                ^\u001b[0m\n\u001b[0;31mSyntaxError\u001b[0m\u001b[0;31m:\u001b[0m invalid syntax\n"
     ]
    }
   ],
   "source": [
    "i = 0\n",
    "while i == 0\n",
    "    print(\"hola\")\n",
    "    i += 1"
   ]
  },
  {
   "cell_type": "markdown",
   "metadata": {},
   "source": [
    "El error nos está indicando que ha habido un error de sintaxis en la segunda línea en la instrucción `while`. En este caso, faltan dos puntos `(':')` al final."
   ]
  },
  {
   "cell_type": "code",
   "execution_count": 62,
   "metadata": {},
   "outputs": [
    {
     "name": "stdout",
     "output_type": "stream",
     "text": [
      "hola\n"
     ]
    }
   ],
   "source": [
    "i = 0\n",
    "while i == 0:\n",
    "    print(\"hola\")\n",
    "    i += 1"
   ]
  },
  {
   "cell_type": "markdown",
   "metadata": {},
   "source": [
    "- **Excepciones**: Los errores detectados durante la ejecución, a pesar de que la sintaxis sea correcta, se denominan **excepciones**. La mayoría de las excepciones dan un mensaje de error. El ejemplo siguiente muestra un error de ejecución: "
   ]
  },
  {
   "cell_type": "code",
   "execution_count": 63,
   "metadata": {},
   "outputs": [
    {
     "ename": "ZeroDivisionError",
     "evalue": "division by zero",
     "output_type": "error",
     "traceback": [
      "\u001b[0;31m---------------------------------------------------------------------------\u001b[0m",
      "\u001b[0;31mZeroDivisionError\u001b[0m                         Traceback (most recent call last)",
      "\u001b[0;32m<ipython-input-63-0ca4df5e1f05>\u001b[0m in \u001b[0;36m<module>\u001b[0;34m\u001b[0m\n\u001b[1;32m      1\u001b[0m \u001b[0ma\u001b[0m \u001b[0;34m=\u001b[0m \u001b[0;36m10\u001b[0m\u001b[0;34m\u001b[0m\u001b[0;34m\u001b[0m\u001b[0m\n\u001b[1;32m      2\u001b[0m \u001b[0mb\u001b[0m \u001b[0;34m=\u001b[0m \u001b[0;36m0\u001b[0m\u001b[0;34m\u001b[0m\u001b[0;34m\u001b[0m\u001b[0m\n\u001b[0;32m----> 3\u001b[0;31m \u001b[0mprint\u001b[0m\u001b[0;34m(\u001b[0m\u001b[0ma\u001b[0m\u001b[0;34m/\u001b[0m\u001b[0mb\u001b[0m\u001b[0;34m)\u001b[0m\u001b[0;34m\u001b[0m\u001b[0;34m\u001b[0m\u001b[0m\n\u001b[0m",
      "\u001b[0;31mZeroDivisionError\u001b[0m: division by zero"
     ]
    }
   ],
   "source": [
    "a = 10\n",
    "b = 0\n",
    "print(a/b)"
   ]
  },
  {
   "cell_type": "markdown",
   "metadata": {},
   "source": [
    "La última línea del mensaje de error informa de aquello que pasa. Hay diferentes tipos de excepciones, las principales son **ZeroDivisionError**, **NameError**, **TypeError**. En las celdas siguientes veremos un ejemplo de las excepciones **NameError** y **TypeError**."
   ]
  },
  {
   "cell_type": "code",
   "execution_count": 64,
   "metadata": {
    "scrolled": true
   },
   "outputs": [
    {
     "ename": "NameError",
     "evalue": "name 'parametre' is not defined",
     "output_type": "error",
     "traceback": [
      "\u001b[0;31m---------------------------------------------------------------------------\u001b[0m",
      "\u001b[0;31mNameError\u001b[0m                                 Traceback (most recent call last)",
      "\u001b[0;32m<ipython-input-64-392d838d537f>\u001b[0m in \u001b[0;36m<module>\u001b[0;34m\u001b[0m\n\u001b[1;32m      1\u001b[0m \u001b[0;31m# Excepción NameError\u001b[0m\u001b[0;34m\u001b[0m\u001b[0;34m\u001b[0m\u001b[0;34m\u001b[0m\u001b[0m\n\u001b[0;32m----> 2\u001b[0;31m \u001b[0mx\u001b[0m \u001b[0;34m=\u001b[0m \u001b[0;36m3\u001b[0m \u001b[0;34m+\u001b[0m \u001b[0mparametre\u001b[0m\u001b[0;34m\u001b[0m\u001b[0;34m\u001b[0m\u001b[0m\n\u001b[0m",
      "\u001b[0;31mNameError\u001b[0m: name 'parametre' is not defined"
     ]
    }
   ],
   "source": [
    "# Excepción NameError\n",
    "x = 3 + parametre"
   ]
  },
  {
   "cell_type": "markdown",
   "metadata": {},
   "source": [
    "La excepción **NameError** se produce porque estamos ejecutando una orden, `suma`, con una variable que no está definida.  En cambio, el error siguiente, **TypeError**, se origina porque estamos intentando sumar dos tipos de magnitudes que no se pueden sumar, número entero con una cadena de caracteres."
   ]
  },
  {
   "cell_type": "code",
   "execution_count": 65,
   "metadata": {
    "scrolled": true
   },
   "outputs": [
    {
     "ename": "TypeError",
     "evalue": "unsupported operand type(s) for +: 'int' and 'str'",
     "output_type": "error",
     "traceback": [
      "\u001b[0;31m---------------------------------------------------------------------------\u001b[0m",
      "\u001b[0;31mTypeError\u001b[0m                                 Traceback (most recent call last)",
      "\u001b[0;32m<ipython-input-65-f6730bb87b1a>\u001b[0m in \u001b[0;36m<module>\u001b[0;34m\u001b[0m\n\u001b[1;32m      1\u001b[0m \u001b[0;31m# Excepción TypeError\u001b[0m\u001b[0;34m\u001b[0m\u001b[0;34m\u001b[0m\u001b[0;34m\u001b[0m\u001b[0m\n\u001b[0;32m----> 2\u001b[0;31m \u001b[0mx\u001b[0m \u001b[0;34m=\u001b[0m \u001b[0;36m3\u001b[0m \u001b[0;34m+\u001b[0m \u001b[0;34m'2'\u001b[0m\u001b[0;34m\u001b[0m\u001b[0;34m\u001b[0m\u001b[0m\n\u001b[0m",
      "\u001b[0;31mTypeError\u001b[0m: unsupported operand type(s) for +: 'int' and 'str'"
     ]
    }
   ],
   "source": [
    "# Excepción TypeError\n",
    "x = 3 + '2'"
   ]
  },
  {
   "cell_type": "markdown",
   "metadata": {},
   "source": [
    "## 7.1 Handling Exceptions"
   ]
  },
  {
   "cell_type": "markdown",
   "metadata": {},
   "source": [
    "La gestión de las excepciones es muy importante para el buen funcionamiento del programa. Si no es así, la aparición de una excepción puede provocar que el programa se pare. Las excepciones pueden ser capturadas y gestionadas adecuadamente sin que el programa se pare haciendo uso de las instrucciones `try` y `except`. Si recuperamos el ejemplo anterior:"
   ]
  },
  {
   "cell_type": "code",
   "execution_count": 46,
   "metadata": {},
   "outputs": [
    {
     "name": "stdout",
     "output_type": "stream",
     "text": [
      "No se puede hacer la división\n",
      "10.0\n"
     ]
    }
   ],
   "source": [
    "a = 10\n",
    "b = 0\n",
    "while b < 5:\n",
    "    try:\n",
    "        c = a/b\n",
    "        print(c)\n",
    "        break\n",
    "    except ZeroDivisionError:\n",
    "        b += 1\n",
    "        print(\"No se puede hacer la división\")"
   ]
  },
  {
   "cell_type": "markdown",
   "metadata": {},
   "source": [
    "En este ejemplo, el programa no se para y puede continuar ejecutándose. Cuando hay una *excepción* se ejecuta el código que hay dentro de la instrucción `except`, pero el programa no se para. La instrucción `except` también permite usar excepciones genéricas mediante `Exception` cuando se desconoce la excepción que se crea."
   ]
  },
  {
   "cell_type": "code",
   "execution_count": 66,
   "metadata": {},
   "outputs": [
    {
     "name": "stdout",
     "output_type": "stream",
     "text": [
      "No se puede hacer la división\n",
      "10.0\n"
     ]
    }
   ],
   "source": [
    "a = 10\n",
    "b = 0\n",
    "while b < 5:\n",
    "    try:\n",
    "        c = a/b\n",
    "        print(c)\n",
    "        break\n",
    "    except Exception:\n",
    "        b += 1\n",
    "        print(\"No se puede hacer la división\")"
   ]
  },
  {
   "cell_type": "markdown",
   "metadata": {},
   "source": [
    "Otras instrucciones para añadir a los bloques de código `try` y `except`son `else` y `finally`.  \n",
    "\n",
    "- `else`: Se ejecuta si no ha habido ninguna excepción.\n",
    "- `finally`: Se ejecuta siempre aunque haya habido una excepción."
   ]
  },
  {
   "cell_type": "code",
   "execution_count": 67,
   "metadata": {},
   "outputs": [
    {
     "name": "stdout",
     "output_type": "stream",
     "text": [
      "No se puede hacer la división\n",
      "Se ha ejecutado la división y el resultado ha sido 10.0\n"
     ]
    }
   ],
   "source": [
    "a = 10\n",
    "b = 0\n",
    "while b < 5:\n",
    "    try:\n",
    "        c = a/b\n",
    "    except ZeroDivisionError:\n",
    "        b += 1\n",
    "        print(\"No se puede hacer la división\")\n",
    "    else:\n",
    "        print(\"Se ha ejecutado la división y el resultado ha sido {}\".format(c))\n",
    "        break"
   ]
  },
  {
   "cell_type": "code",
   "execution_count": 68,
   "metadata": {},
   "outputs": [
    {
     "name": "stdout",
     "output_type": "stream",
     "text": [
      "10.0\n"
     ]
    }
   ],
   "source": [
    "a = 10\n",
    "b = 1\n",
    "while b < 2:\n",
    "    try:\n",
    "        c = a/b\n",
    "    except ZeroDivisionError:\n",
    "        b += 1\n",
    "        c = \"No se puede hacer la división\"\n",
    "    finally:\n",
    "        print(c)\n",
    "        break"
   ]
  },
  {
   "cell_type": "markdown",
   "metadata": {},
   "source": [
    "## 7.2 Raising  Exceptions"
   ]
  },
  {
   "cell_type": "markdown",
   "metadata": {},
   "source": [
    "Finalmente, también se pueden lanzar excepciones específicas con la instrucción `raise`. Esta instrucción permite definir qué tipo de error se genera y el texto que se tiene que imprimir al usuario. "
   ]
  },
  {
   "cell_type": "code",
   "execution_count": 69,
   "metadata": {},
   "outputs": [
    {
     "ename": "Exception",
     "evalue": "Error, tienen que ser valores positivos",
     "output_type": "error",
     "traceback": [
      "\u001b[0;31m---------------------------------------------------------------------------\u001b[0m",
      "\u001b[0;31mException\u001b[0m                                 Traceback (most recent call last)",
      "\u001b[0;32m<ipython-input-69-72c3bb899d4a>\u001b[0m in \u001b[0;36m<module>\u001b[0;34m\u001b[0m\n\u001b[1;32m      2\u001b[0m \u001b[0;34m\u001b[0m\u001b[0m\n\u001b[1;32m      3\u001b[0m \u001b[0;32mif\u001b[0m \u001b[0mx\u001b[0m \u001b[0;34m 4\u001b[0;31m     \u001b[0;32mraise\u001b[0m \u001b[0mException\u001b[0m\u001b[0;34m(\u001b[0m\u001b[0;34m\"Error, tienen que ser valores positivos\"\u001b[0m\u001b[0;34m)\u001b[0m\u001b[0;34m\u001b[0m\u001b[0;34m\u001b[0m\u001b[0m\n\u001b[0m",
      "\u001b[0;31mException\u001b[0m: Error, tienen que ser valores positivos"
     ]
    }
   ],
   "source": [
    "x = -1\n",
    "\n",
    "if x < 0:\n",
    "    raise Exception(\"Error, tienen que ser valores positivos\")"
   ]
  },
  {
   "cell_type": "markdown",
   "metadata": {},
   "source": [
    "**Recomendamos la lectura de la [documentación oficial](https://docs.python.org/3/tutorial/controlflow.html)** para\n",
    "terminar de fijar conocimientos."
   ]
  },
  {
   "cell_type": "markdown",
   "metadata": {},
   "source": [
    "# 8.1 Instrucciones importantes\n",
    "\n",
    "Es muy importante que a la hora de entregar el fichero Notebook con vuestras actividades os aseguréis de que:\n",
    "\n",
    "1. Vuestras soluciones sean originales. Esperamos no detectar copia directa entre estudiantes.\n",
    "2. Todo el código esté correctamente documentado. El código sin documentar equivaldrá a un 0.\n",
    "3. El fichero comprimido que entregáis es correcto (contiene las actividades de la PEC que tenéis que entregar).\n",
    "\n",
    "Para hacer la entrega, tenéis que ir a la carpeta del drive `Colab Notebooks`, clicando con el botón derecho en la PEC en cuestión y haciendo `Download`. De este modo, os bajaréis la carpeta de la PEC comprimida en `zip`. Este es el archivo que tenéis que subir al campus virtual de la asignatura. "
   ]
  },
  {
   "cell_type": "markdown",
   "metadata": {},
   "source": [
    "# 9 Bibliografía"
   ]
  },
  {
   "cell_type": "markdown",
   "metadata": {},
   "source": [
    "Os recomendamos que consultéis los ejemplos siguientes del libro *Learn Python 3 the hard way* de la bibliografía de la asignatura, y que intentéis hacer las actividades que se  proponen para acabar de entender y practicar los conceptos explicados en esta unidad.\n",
    "\n",
    "Operaciones lógicas:\n",
    "* Exercise 27. Memorizing Logic\n",
    "* Exercise 28. Boolean Practice\n",
    "\n",
    "Condicionales:\n",
    "* Exercise 29. What If\n",
    "* Exercise 30. Else and If\n",
    "* Exercise 31. Making Decisions\n",
    "\n",
    "Iteración:\n",
    "* Exercise 32. Loops and Lists\n",
    "* Exercise 33. While-Loops"
   ]
  },
  {
   "cell_type": "markdown",
   "metadata": {},
   "source": [
    "# Autores\n",
    "\n",
    "- Autor original Brian Jiménez Garcia, 2016.\n",
    "- Actualizado por Cristina Pérez Solà, 2017 y 2019.\n",
    "- Actualizado por Joan Maynou Fernández, 2022."
   ]
  },
  {
   "cell_type": "markdown",
   "metadata": {},
   "source": [
    "<div style=\"width: 30%; clear: both;\">\n",
    "    <div style=\"width:0%;\">&nbsp;</div>\n",
    "           <img src=\"https://mirrors.creativecommons.org/presskit/buttons/88x31/png/by-sa.png\">\n",
    "</div>\n"
   ]
  }
 ],
 "metadata": {
  "kernelspec": {
   "display_name": "Python 3",
   "language": "python",
   "name": "python3"
  },
  "language_info": {
   "codemirror_mode": {
    "name": "ipython",
    "version": 3
   },
   "file_extension": ".py",
   "mimetype": "text/x-python",
   "name": "python",
   "nbconvert_exporter": "python",
   "pygments_lexer": "ipython3",
   "version": "3.8.12"
  }
 },
 "nbformat": 4,
 "nbformat_minor": 1
}
