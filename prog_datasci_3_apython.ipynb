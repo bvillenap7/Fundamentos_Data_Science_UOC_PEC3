{
 "metadata": {
  "kernelspec": {
   "display_name": "Python 2",
   "language": "python",
   "name": "python2"
  },
  "language_info": {
   "codemirror_mode": {
    "name": "ipython",
    "version": 2
   },
   "file_extension": ".py",
   "mimetype": "text/x-python",
   "name": "python",
   "nbconvert_exporter": "python",
   "pygments_lexer": "ipython2",
   "version": "2.7.11"
  },
  "name": "",
  "signature": "sha256:e07f8143bed46e96a2fb386b6907b64ad4766a9ef0c68eed9616aa5d691457fe"
 },
 "nbformat": 3,
 "nbformat_minor": 0,
 "worksheets": [
  {
   "cells": [
    {
     "cell_type": "heading",
     "level": 1,
     "metadata": {},
     "source": [
      "Programaci\u00f3n para *Data Science*"
     ]
    },
    {
     "cell_type": "markdown",
     "metadata": {},
     "source": [
      "Unidad 3: Conceptos avanzados de Python\n",
      "------------------------------------------------------\n",
      "\n",
      "### Instrucciones de uso\n",
      "\n",
      "En el m\u00f3dulo anterior introducimos conceptos b\u00e1sicos sobre variables y su uso en Python. En este m\u00f3dulo estudiaremos conceptos m\u00e1s avanzados como las instrucciones de flujo de ejecuci\u00f3n (for, while, if), c\u00f3mo definir y utilizar funciones, c\u00f3mo leer y escribir ficheros y c\u00f3mo organizar el c\u00f3digo."
     ]
    },
    {
     "cell_type": "markdown",
     "metadata": {},
     "source": [
      "Iteraci\u00f3n y operaciones l\u00f3gicas\n",
      "-------------------------------\n",
      "\n",
      "En la gran mayor\u00eda de ocasiones, tendremos que manipular nuestros datos y para ello utilizaremos los conceptos de iteraci\u00f3n y las operaciones l\u00f3gicas. Las operaciones l\u00f3gicas nos permiten comparar valores entre variables (mayor, menor, igualdad) y la iteraci\u00f3n ir visitando uno a uno los elementos de una lista, tupla, diccionario o cualquier estructura de datos que sea susceptible de secuenciarse."
     ]
    },
    {
     "cell_type": "code",
     "collapsed": false,
     "input": [
      "# Las operaciones l\u00f3gicas tendr\u00e1n como resultado un valor cierto (True) o falso (False):\n",
      "\n",
      "a = 5\n",
      "b = 1\n",
      "\n",
      "# \u00bfEs el valor de a mayor que b?\n",
      "print a > b"
     ],
     "language": "python",
     "metadata": {},
     "outputs": [
      {
       "output_type": "stream",
       "stream": "stdout",
       "text": [
        "True\n"
       ]
      }
     ],
     "prompt_number": 4
    },
    {
     "cell_type": "code",
     "collapsed": false,
     "input": [
      "# \u00bfEs el valor de a menor que b?\n",
      "print a < b"
     ],
     "language": "python",
     "metadata": {},
     "outputs": [
      {
       "output_type": "stream",
       "stream": "stdout",
       "text": [
        "False\n"
       ]
      }
     ],
     "prompt_number": 5
    },
    {
     "cell_type": "code",
     "collapsed": false,
     "input": [
      "b = 5\n",
      "# \u00bfEs el valor de b igual al de a?\n",
      "print b == a"
     ],
     "language": "python",
     "metadata": {},
     "outputs": [
      {
       "output_type": "stream",
       "stream": "stdout",
       "text": [
        "True\n"
       ]
      }
     ],
     "prompt_number": 6
    },
    {
     "cell_type": "code",
     "collapsed": false,
     "input": [
      "# Otros operadores l\u00f3gicos disponibles son menor o igual '<=', mayor o igual '>=' o la negaci\u00f3n 'not'.\n",
      "print a <= b\n",
      "print a >= b\n",
      "\n",
      "a = False\n",
      "print not a"
     ],
     "language": "python",
     "metadata": {},
     "outputs": [
      {
       "output_type": "stream",
       "stream": "stdout",
       "text": [
        "True\n",
        "True\n",
        "True\n"
       ]
      }
     ],
     "prompt_number": 7
    },
    {
     "cell_type": "markdown",
     "metadata": {},
     "source": [
      "Tambi\u00e9n podemos alterar el flujo de ejecuci\u00f3n de nuestro programa utilizando las estructuras *if...else* o *if...elif...else*. Veamos unos cuantos ejemplos:"
     ]
    },
    {
     "cell_type": "code",
     "collapsed": false,
     "input": [
      "a = 5\n",
      "b = 6\n",
      "if a > b:\n",
      "    print 'a es mayor que b'\n",
      "else:\n",
      "    print 'a es menor o igual que b'"
     ],
     "language": "python",
     "metadata": {},
     "outputs": [
      {
       "output_type": "stream",
       "stream": "stdout",
       "text": [
        "a es menor o igual que b\n"
       ]
      }
     ],
     "prompt_number": 8
    },
    {
     "cell_type": "code",
     "collapsed": false,
     "input": [
      "a = 5\n",
      "b = 5\n",
      "if a > b:\n",
      "    print 'a es mayor que b'\n",
      "elif a < b:\n",
      "    print 'a es menor que b'\n",
      "else:\n",
      "    print 'a es igual a b'"
     ],
     "language": "python",
     "metadata": {},
     "outputs": [
      {
       "output_type": "stream",
       "stream": "stdout",
       "text": [
        "a es igual a b\n"
       ]
      }
     ],
     "prompt_number": 9
    },
    {
     "cell_type": "markdown",
     "metadata": {},
     "source": [
      "En Python existen solo dos formas de iterar una secuencia: mediante **for** o mediante **while**. La primera de las opciones, *for*, iterar\u00e1 uno por uno los elementos contenidos en una lista. En el caso de *while*, iteraremos mientras la condici\u00f3n de permanencia en el bucle se cumpla. Veamos unos ejemplos:"
     ]
    },
    {
     "cell_type": "code",
     "collapsed": false,
     "input": [
      "monsters = ['Kraken', 'Leviathan', 'Uroborus', 'Hydra']\n",
      "\n",
      "# Primer m\u00e9todo iterando mediante for:\n",
      "for monster in monsters:\n",
      "    print monster\n",
      "\n",
      "print\n",
      "\n",
      "# Segundo m\u00e9todo. La funci\u00f3n especial 'enumerate' nos devuelve una tupla en la que el primer elemento es un \n",
      "# \u00edndice que empieza en 0 y aumenta de 1 en 1 y el segundo elemento es el valor de la posici\u00f3n en la lista:\n",
      "for i, monster in enumerate(monsters):\n",
      "    print i, monster"
     ],
     "language": "python",
     "metadata": {},
     "outputs": [
      {
       "output_type": "stream",
       "stream": "stdout",
       "text": [
        "Kraken\n",
        "Leviathan\n",
        "Uroborus\n",
        "Hydra\n",
        "\n",
        "0 Kraken\n",
        "1 Leviathan\n",
        "2 Uroborus\n",
        "3 Hydra\n"
       ]
      }
     ],
     "prompt_number": 10
    },
    {
     "cell_type": "code",
     "collapsed": false,
     "input": [
      "# Tambi\u00e9n podr\u00edamos iterar la lista mediante while, pero es una forma mucho menos idiom\u00e1tica en Python \n",
      "# y preferiremos siempre la opci\u00f3n de for:\n",
      "i = 0\n",
      "# Mientras que el \u00edndice 'i' sea menor que la longitud de la lista 'monsters':\n",
      "while i < len(monsters):\n",
      "    # Imprime el valor de la lista en la posici\u00f3n 'i'.\n",
      "    print i, monsters[i]\n",
      "    # No nos olvidemos de actualizar el valor de 'i' sum\u00e1ndole 1 o tendremos un bucle infinito.\n",
      "    i += 1\n",
      "\n"
     ],
     "language": "python",
     "metadata": {},
     "outputs": [
      {
       "output_type": "stream",
       "stream": "stdout",
       "text": [
        "0 Kraken\n",
        "1 Leviathan\n",
        "2 Uroborus\n",
        "3 Hydra\n"
       ]
      }
     ],
     "prompt_number": 11
    },
    {
     "cell_type": "markdown",
     "metadata": {},
     "source": [
      "En este momento ser\u00edamos capaces de calcular la serie de Fibonacci hasta un determinado valor:"
     ]
    },
    {
     "cell_type": "code",
     "collapsed": false,
     "input": [
      "# Calculamos el valor de la serie hasta un valor n=100.\n",
      "n = 100\n",
      "\n",
      "a, b = 0, 1\n",
      "while a < n:\n",
      "    print a,\n",
      "    a, b = b, a+b"
     ],
     "language": "python",
     "metadata": {},
     "outputs": [
      {
       "output_type": "stream",
       "stream": "stdout",
       "text": [
        "0 1 1 2 3 5 8 13 21 34 55 89\n"
       ]
      }
     ],
     "prompt_number": 12
    },
    {
     "cell_type": "markdown",
     "metadata": {},
     "source": [
      "En Python disponemos de una funci\u00f3n muy \u00fatil para generar una secuencia de n\u00fameros, que podemos utilizar de diferentes formas:"
     ]
    },
    {
     "cell_type": "code",
     "collapsed": false,
     "input": [
      "# La funci\u00f3n range nos devuelve una lista de n\u00fameros:\n",
      "range(10)"
     ],
     "language": "python",
     "metadata": {},
     "outputs": [
      {
       "metadata": {},
       "output_type": "pyout",
       "prompt_number": 13,
       "text": [
        "[0, 1, 2, 3, 4, 5, 6, 7, 8, 9]"
       ]
      }
     ],
     "prompt_number": 13
    },
    {
     "cell_type": "code",
     "collapsed": false,
     "input": [
      "# Podemos utilizarla para iterar:\n",
      "for i in range(10):\n",
      "    print i,\n",
      "print"
     ],
     "language": "python",
     "metadata": {},
     "outputs": [
      {
       "output_type": "stream",
       "stream": "stdout",
       "text": [
        "0 1 2 3 4 5 6 7 8 9\n"
       ]
      }
     ],
     "prompt_number": 14
    },
    {
     "cell_type": "code",
     "collapsed": false,
     "input": [
      "# Podemos definir el rango de acci\u00f3n. Por ejemplo, calcula los n\u00fameros entre 5 y 20 de 3 en 3:\n",
      "range(5,20,3)"
     ],
     "language": "python",
     "metadata": {},
     "outputs": [
      {
       "metadata": {},
       "output_type": "pyout",
       "prompt_number": 15,
       "text": [
        "[5, 8, 11, 14, 17]"
       ]
      }
     ],
     "prompt_number": 15
    },
    {
     "cell_type": "code",
     "collapsed": false,
     "input": [
      "# Tambi\u00e9n es posible iterar en un diccionario:\n",
      "country_codes = {34: 'Spain', 376: 'Andorra', 41: 'Switzerland', 424: None}\n",
      "\n",
      "# Por clave:\n",
      "for country_code in country_codes.keys():\n",
      "    print country_code\n",
      "print\n",
      "\n",
      "# Por valor:\n",
      "for country in country_codes.values():\n",
      "    print country\n",
      "print\n",
      "\n",
      "# Por los dos a la vez:\n",
      "for country_code, country in country_codes.iteritems():\n",
      "    print country_code, country"
     ],
     "language": "python",
     "metadata": {},
     "outputs": [
      {
       "output_type": "stream",
       "stream": "stdout",
       "text": [
        "376\n",
        "41\n",
        "34\n",
        "424\n",
        "\n",
        "Andorra\n",
        "Switzerland\n",
        "Spain\n",
        "None\n",
        "\n",
        "376 Andorra\n",
        "41 Switzerland\n",
        "34 Spain\n",
        "424 None\n"
       ]
      }
     ],
     "prompt_number": 16
    },
    {
     "cell_type": "markdown",
     "metadata": {},
     "source": [
      "Funciones\n",
      "---------\n",
      "\n",
      "Otra forma muy importante de organizar el flujo de ejecuci\u00f3n es encapsulando cierta porci\u00f3n de c\u00f3digo en una funci\u00f3n reutilizable. Una funci\u00f3n en Python utiliza el mismo concepto que una funci\u00f3n matem\u00e1tica. Por ejemplo, imaginemos la funci\u00f3n matem\u00e1tica:\n",
      "\n",
      "*suma(x, y) = x + y*\n",
      "\n",
      "En Python podemos definir la misma funci\u00f3n de la siguiente forma:"
     ]
    },
    {
     "cell_type": "code",
     "collapsed": false,
     "input": [
      "# La funci\u00f3n suma se define mediante la palabra especial 'def' y tiene dos argumentos: 'x' e 'y':\n",
      "def suma(x, y):\n",
      "    # Devolvemos el valor de la suma.\n",
      "    return x + y\n",
      "\n",
      "# En este momento, podemos llamarla con cualquier valor:\n",
      "print suma(2, 4)\n",
      "print suma(5, -5)\n",
      "print suma(3.5, 2.5)"
     ],
     "language": "python",
     "metadata": {},
     "outputs": [
      {
       "output_type": "stream",
       "stream": "stdout",
       "text": [
        "6\n",
        "0\n",
        "6.0\n"
       ]
      }
     ],
     "prompt_number": 17
    },
    {
     "cell_type": "code",
     "collapsed": false,
     "input": [
      "# Podemos definir una funci\u00f3n que no haga nada utilizando la palabra especial 'pass':\n",
      "\n",
      "def dummy():\n",
      "    pass\n",
      "\n",
      "dummy()"
     ],
     "language": "python",
     "metadata": {},
     "outputs": [],
     "prompt_number": 18
    },
    {
     "cell_type": "code",
     "collapsed": false,
     "input": [
      "# Podr\u00edamos volver a definir el trozo de c\u00f3digo de la secuencia de Fibonacci como una funci\u00f3n:\n",
      "\n",
      "def fibonacci(n=100):\n",
      "    a, b = 0, 1\n",
      "    while a < n:\n",
      "        print a,\n",
      "        a, b = b, a+b\n",
      "\n",
      "fibonacci(10)"
     ],
     "language": "python",
     "metadata": {},
     "outputs": [
      {
       "output_type": "stream",
       "stream": "stdout",
       "text": [
        "0 1 1 2 3 5 8\n"
       ]
      }
     ],
     "prompt_number": 19
    },
    {
     "cell_type": "code",
     "collapsed": false,
     "input": [
      "# En el anterior ejemplo, hemos definido que el argumento n tenga un valor por defecto. Esto es muy \u00fatil\n",
      "# en los casos en los que utilicemos la funci\u00f3n siempre con un mismo valor, queramos dejar constancia de un\n",
      "# caso de ejemplo o por defecto. En este caso, podemos ejecutar la funci\u00f3n sin pasarle ning\u00fan valor:\n",
      "fibonacci()"
     ],
     "language": "python",
     "metadata": {},
     "outputs": [
      {
       "output_type": "stream",
       "stream": "stdout",
       "text": [
        "0 1 1 2 3 5 8 13 21 34 55 89\n"
       ]
      }
     ],
     "prompt_number": 20
    },
    {
     "cell_type": "code",
     "collapsed": false,
     "input": [
      "# Podemos definir parte de los argumentos con valores por defecto y otro sin. \n",
      "# Los argumentos sin valor por defecto siempre tienen que estar m\u00e1s a la izquierda en la definici\u00f3n de la funci\u00f3n:\n",
      "\n",
      "def potencia(a, b=2):\n",
      "    # Por defecto, elevaremos al cuadrado.\n",
      "    return a**b\n",
      "\n",
      "print potencia(3)\n",
      "print potencia(2, 3)"
     ],
     "language": "python",
     "metadata": {},
     "outputs": [
      {
       "output_type": "stream",
       "stream": "stdout",
       "text": [
        "9\n",
        "8\n"
       ]
      }
     ],
     "prompt_number": 21
    },
    {
     "cell_type": "markdown",
     "metadata": {},
     "source": [
      "**Recomendamos la lectura de la [documentaci\u00f3n oficial](https://docs.python.org/2/tutorial/controlflow.html)** para acabar de fijar conocimientos."
     ]
    },
    {
     "cell_type": "markdown",
     "metadata": {},
     "source": [
      "Leer y escribir desde ficheros\n",
      "------------------------------\n",
      "\n",
      "Una tarea habitual es leer l\u00edneas de un fichero o escribir l\u00edneas en un fichero. En Python, leer y escribir ficheros se hace a trav\u00e9s de la librer\u00eda *os*. Una librer\u00eda es un conjunto de c\u00f3digo que tiene cierto sentido agrupar para ser usado por otra gente. En nuestro caso, *os* es una librer\u00eda que agrupa funciones relacionadas con el sistema operativo (**o**perating **s**ystem). Para cargar una librer\u00eda, utilizaremos la palabra reservada **import**. M\u00e1s adelante explicaremos algunas particularidades de utilizar e importar librer\u00edas. A continuaci\u00f3n os explicamos c\u00f3mo escribir y leer un fichero:"
     ]
    },
    {
     "cell_type": "code",
     "collapsed": false,
     "input": [
      "# Primero de todo, vamos a escribir en un fichero.\n",
      "import os\n",
      "\n",
      "# Abrimos un fichero de nombre 'a_file.txt' para escritura (de ah\u00ed la 'w', 'writing').\n",
      "# Lo asignamos a un objeto para manejar el fichero de nombre 'out':\n",
      "out = open('a_file.txt', 'w')\n",
      "# Vamos a escribir 10 l\u00edneas, cada una con un n\u00famero de 0 a 9.\n",
      "for i in range(10):\n",
      "    # La siguiente l\u00ednea escribe en el fichero todo lo que pongamos dentro de out.write()\n",
      "    # En nuestro caso, es un string del tipo '0\\n', '1\\n', etc. Esto lo conseguimos utilizando las wildcards %d y %s.\n",
      "    # %s representa un string o cadena de caracteres y %d un n\u00famero entero.\n",
      "    # Concatenamos en este caso un n\u00famero con un string que se trata del salto de l\u00ednea, os.linesep, que equivale en Linux\n",
      "    # a '\\n':\n",
      "    out.write(\"L\u00ednea %d%s\" % (i, os.linesep))\n",
      "\n",
      "out.close()"
     ],
     "language": "python",
     "metadata": {},
     "outputs": [],
     "prompt_number": 6
    },
    {
     "cell_type": "code",
     "collapsed": false,
     "input": [
      "# Ahora vamos a leer el fichero que acabamos de escribir de tres formas distintas:\n",
      "\n",
      "# Primer m\u00e9todo\n",
      "f = open('a_file.txt')\n",
      "for line in f:\n",
      "    print line,\n",
      "f.close()\n",
      "\n",
      "print\n",
      "\n",
      "# Segundo m\u00e9todo\n",
      "f = open('a_file.txt')\n",
      "lines = f.readlines()\n",
      "for line in lines:\n",
      "    print line,\n",
      "f.close()\n",
      "\n",
      "print\n",
      "\n",
      "# Tercer m\u00e9todo\n",
      "with open('a_file.txt') as f:\n",
      "    for line in f:\n",
      "        print line,"
     ],
     "language": "python",
     "metadata": {},
     "outputs": [
      {
       "output_type": "stream",
       "stream": "stdout",
       "text": [
        "L\u00ednea 0\n",
        "L\u00ednea 1\n",
        "L\u00ednea 2\n",
        "L\u00ednea 3\n",
        "L\u00ednea 4\n",
        "L\u00ednea 5\n",
        "L\u00ednea 6\n",
        "L\u00ednea 7\n",
        "L\u00ednea 8\n",
        "L\u00ednea 9\n",
        "\n",
        "L\u00ednea 0\n",
        "L\u00ednea 1\n",
        "L\u00ednea 2\n",
        "L\u00ednea 3\n",
        "L\u00ednea 4\n",
        "L\u00ednea 5\n",
        "L\u00ednea 6\n",
        "L\u00ednea 7\n",
        "L\u00ednea 8\n",
        "L\u00ednea 9\n",
        "\n",
        "L\u00ednea 0\n",
        "L\u00ednea 1\n",
        "L\u00ednea 2\n",
        "L\u00ednea 3\n",
        "L\u00ednea 4\n",
        "L\u00ednea 5\n",
        "L\u00ednea 6\n",
        "L\u00ednea 7\n",
        "L\u00ednea 8\n",
        "L\u00ednea 9\n"
       ]
      }
     ],
     "prompt_number": 4
    },
    {
     "cell_type": "markdown",
     "metadata": {},
     "source": [
      "Organizaci\u00f3n del c\u00f3digo\n",
      "------------------------\n",
      "\n",
      "Un m\u00f3dulo de Python es cualquier fichero con extensi\u00f3n *.py* que est\u00e9 bajo la ruta del path de Python. El path de Python puede consultarse importando la librer\u00eda sys:"
     ]
    },
    {
     "cell_type": "code",
     "collapsed": false,
     "input": [
      "import sys\n",
      "print sys.path"
     ],
     "language": "python",
     "metadata": {},
     "outputs": [
      {
       "output_type": "stream",
       "stream": "stdout",
       "text": [
        "['', '/usr/local/lib/python2.7/dist-packages/python_louvain-0.4-py2.7.egg', '/usr/local/lib/python2.7/dist-packages/Hashmal-0.1.0a0-py2.7.egg', '/usr/lib/python2.7', '/usr/lib/python2.7/plat-x86_64-linux-gnu', '/usr/lib/python2.7/lib-tk', '/usr/lib/python2.7/lib-old', '/usr/lib/python2.7/lib-dynload', '/home/cris/.local/lib/python2.7/site-packages', '/usr/local/lib/python2.7/dist-packages', '/usr/lib/python2.7/dist-packages', '/usr/lib/python2.7/dist-packages/PILcompat', '/usr/lib/python2.7/dist-packages/gtk-2.0', '/usr/lib/python2.7/dist-packages/IPython/extensions']\n"
       ]
      }
     ],
     "prompt_number": 24
    },
    {
     "cell_type": "markdown",
     "metadata": {},
     "source": [
      "Por defecto, Python tambi\u00e9n mira las librer\u00edas que se hayan definido en la variable de entorno $PYTHONPATH (esto puede cambiar ligeramente en un [entorno Windows](https://docs.python.org/2/using/cmdline.html)).\n",
      "\n",
      "Un paquete en Python es cualquier directorio que contenga un fichero especial de nombre *\\_\\_init\\_\\_.py* (este fichero estar\u00e1 vac\u00edo la mayor\u00eda de veces).\n",
      "\n",
      "Un m\u00f3dulo puede contener diferentes funciones, variables u objetos. Por ejemplo, definamos un m\u00f3dulo de nombre *prog_datasci.py* que contenga:"
     ]
    },
    {
     "cell_type": "code",
     "collapsed": false,
     "input": [
      "# prog_datasci.py\n",
      "\n",
      "PI = 3.14159265\n",
      "\n",
      "def suma(x, y):\n",
      "    return x + y\n",
      "\n",
      "\n",
      "def resta(x, y):\n",
      "    return x - y\n"
     ],
     "language": "python",
     "metadata": {},
     "outputs": [],
     "prompt_number": 25
    },
    {
     "cell_type": "markdown",
     "metadata": {},
     "source": [
      "Para utilizar desde otro m\u00f3dulo o script estas funciones, deber\u00edamos escribir lo siguiente:"
     ]
    },
    {
     "cell_type": "code",
     "collapsed": false,
     "input": [
      "from prog_datasci import PI, suma, resta\n",
      "\n",
      "# Y entonces podr\u00edamos utilizarlas normalmente.\n",
      "siete = suma(2,5)"
     ],
     "language": "python",
     "metadata": {},
     "outputs": [],
     "prompt_number": 26
    },
    {
     "cell_type": "markdown",
     "metadata": {},
     "source": [
      "En Python tambi\u00e9n podemos utilizar la directiva _from prog\\_datasci import \\*_, pero su uso est\u00e1 **totalmente desaconsejado**. La raz\u00f3n es que estar\u00edamos importando gran cantidad de c\u00f3digo que no utilizaremos (con el consiguiente aumento del uso de la memoria), pero adem\u00e1s, podr\u00edamos tener colisiones de nombres (funciones que se llamen de la misma forma en diferentes m\u00f3dulos) sin nuestro conocimiento. A no ser que sea imprescindible, no utilizaremos esa directiva e importaremos una a una las librer\u00edas y las funciones que vayamos a necesitar.\n",
      "\n",
      "Pod\u00e9is aprender m\u00e1s sobre importar librer\u00edas y definir vuestros propios m\u00f3dulos aqu\u00ed: http://life.bsc.es/pid/brian/python/#/5"
     ]
    }
   ],
   "metadata": {}
  }
 ]
}