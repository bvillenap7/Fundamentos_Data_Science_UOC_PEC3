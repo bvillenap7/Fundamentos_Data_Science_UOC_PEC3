{
 "cells": [
  {
   "cell_type": "markdown",
   "metadata": {},
   "source": [
    "Programación para *Data Science*\n",
    "============================\n",
    "\n",
    "Unidad 3: Estructuras de control y funciones en Python\n",
    "--------------------------------------\n",
    "\n"
   ]
  },
  {
   "cell_type": "markdown",
   "metadata": {},
   "source": [
    "---"
   ]
  },
  {
   "cell_type": "markdown",
   "metadata": {},
   "source": [
    "## Ejercicios para practicar\n",
    "\n",
    "**Los siguientes 3 ejercicios no puntúan para la PEC**, pero os recomendamos que los intentéis resolver antes de pasar a los ejercicios propios de la PEC. También encontraréis las soluciones a estos ejercicios al final del Notebook."
   ]
  },
  {
   "cell_type": "markdown",
   "metadata": {},
   "source": [
    "### Ejercicio 1\n",
    "\n",
    "El ejercicio siguiente consiste en pasar un número en base 16 (hexadecimal, 0-9 / A-F) a base 10 (decimal). Para ello, debéis crear una **función** que dado un _string_ que representa un número en hexadecimal, por ejemplo, `AE3F`, devuelva el número natural correspondiente. En este caso el resultado sería `44607`. <span style=\"font-family: Courier New; background-color: #82b74b; color: #000000; padding: 3px; \">NM</span>"
   ]
  },
  {
   "cell_type": "code",
   "execution_count": 1,
   "metadata": {},
   "outputs": [],
   "source": [
    "# Respuesta"
   ]
  },
  {
   "cell_type": "markdown",
   "metadata": {},
   "source": [
    "### Ejercicio 2\n",
    "\n",
    "\n",
    "Escribir una función que dado un número entero positivo, `N`, genere un archivo con el nombre` output.txt` que contendrá `N` líneas, donde cada línea deberá mostrar un número consecutivo de letras` A`. <span style=\"font-family: Courier New; background-color: #82b74b; color: #000000; padding: 3px; \">NM</span>\n",
    "\n",
    "Por ejemplo, si `N = 4`, el archivo generado deberá tener el siguiente contenido:\n",
    "\n",
    "```\n",
    "A\n",
    "AA\n",
    "AAA\n",
    "AAAA\n",
    "```\n",
    "\n",
    "\n"
   ]
  },
  {
   "cell_type": "code",
   "execution_count": 2,
   "metadata": {},
   "outputs": [],
   "source": [
    "# Respuesta"
   ]
  },
  {
   "cell_type": "markdown",
   "metadata": {},
   "source": [
    "### Ejercicio 3\n",
    "\n",
    "Completad el código necesario para calcular el número de vocales y de consonantes respectivamente de un texto. <span style=\"font-family: Courier New; background-color: #82b74b; color: #000000; padding: 3px; \">NM</span>"
   ]
  },
  {
   "cell_type": "code",
   "execution_count": 3,
   "metadata": {
    "attributes": {
     "classes": [
      "sourceCode"
     ],
     "id": ""
    }
   },
   "outputs": [],
   "source": [
    "def contar_vocales_y_consonantes(texto):\n",
    "    # Cuenta las vocales contenidas en el string texto y también las consonantes.\n",
    "    num_vocales = 0\n",
    "    num_consonantes = 0\n",
    "\n",
    "    # Código que hay que completar.\n",
    "\n",
    "    return (num_vocales, num_consonantes)\n"
   ]
  },
  {
   "cell_type": "code",
   "execution_count": 4,
   "metadata": {},
   "outputs": [],
   "source": [
    "# Respuesta"
   ]
  },
  {
   "cell_type": "markdown",
   "metadata": {},
   "source": [
    "### Ejercicio 4 \n",
    "\n",
    "Escribe una función con argumento en forma de lista $x = [a, b, c,\\ldots]$ que **devuelva una función** que calcule el polinomio $f(x) = a + b\\cdot x+c\\cdot x^2+\\cdots$. Puedes ayudarte de la función `eval()` y la función `zip()`<span style=\"font-family: Courier New; background-color: #f2ae72; color: #000000; padding: 3px; \">EI</span>\n"
   ]
  },
  {
   "cell_type": "code",
   "execution_count": null,
   "metadata": {},
   "outputs": [],
   "source": [
    "# Respuesta\n",
    "def creador(x):\n",
    "    # Definición de la función\n",
    "    \n",
    "f = creador([1,2,3,4])\n",
    "f(3)"
   ]
  },
  {
   "cell_type": "markdown",
   "metadata": {},
   "source": [
    "---\n",
    "\n",
    "## Soluciones ejercicios para practicar"
   ]
  },
  {
   "cell_type": "markdown",
   "metadata": {},
   "source": [
    "### Ejercicio 1\n",
    "\n",
    "El ejercicio siguiente consiste en pasar un número en base 16 (hexadecimal, 0-9 / A-F) a base 10 (decimal). Para ello, debe crear una **función** que dado un _string_ que representa un número en hexadecimal, por ejemplo, `AE3F`, devuelva el número natural correspondiente. En este caso el resultado sería `44607`.\n",
    "\n",
    "**Respuesta**"
   ]
  },
  {
   "cell_type": "markdown",
   "metadata": {},
   "source": [
    "La formula para convertir un número hexadecimal a un número decimal, tomando como ejemplo el número AE3F, es:\n",
    "```A * 16**3 + E * 16**2 + 3 * 16**1 + F * 16**0 = 10 * 16**3 + 14 * 16**2 + 3 * 16**1 + 15 * 16**0```"
   ]
  },
  {
   "cell_type": "code",
   "execution_count": 6,
   "metadata": {},
   "outputs": [
    {
     "name": "stdout",
     "output_type": "stream",
     "text": [
      "44607\n",
      "4095\n",
      "291\n"
     ]
    }
   ],
   "source": [
    "def hex_to_dec(numero_hexadecimal):\n",
    "\n",
    "    hex_mapping = {'0': 0, '1': 1, '2': 2, '3': 3, '4': 4, '5': 5,\n",
    "                  '6': 6, '7': 7, '8': 8, '9': 9, 'A': 10, 'B': 11,\n",
    "                  'C': 12, 'D': 13, 'E': 14, 'F': 15}\n",
    "    \n",
    "    # Primero, comprobamos que el número que se pasa por parámetro es hexadecimal\n",
    "    all_hex = True\n",
    "    for c in numero_hexadecimal:\n",
    "        if not c in hex_mapping.keys():\n",
    "            all_hex = False            \n",
    "            \n",
    "    if all_hex:\n",
    "        \n",
    "        # Definimos la base para realizar las operaciones\n",
    "        base = 16\n",
    "        numero_decimal = 0\n",
    "        \n",
    "        # Invertimos el número hexadecimal para que nos sea más fácil trabajar con los índices\n",
    "        numero_hexadecimal = numero_hexadecimal[::-1]\n",
    "        \n",
    "        for i in range(len(numero_hexadecimal)):\n",
    "            # Por cada carácter hexadecimal, aplicamos la formula c * base ** y,\n",
    "            # donde c es la representación decimal del carácter y\n",
    "            # sumamos el resultado al resultado obtenido en la iteracó anterior\n",
    "            numero_decimal = numero_decimal + hex_mapping[numero_hexadecimal[i]] * base**i\n",
    "            \n",
    "        return numero_decimal\n",
    "    else:\n",
    "        print(\"El número introducido no es correcto\")\n",
    "\n",
    "print(hex_to_dec('AE3F'))\n",
    "print(hex_to_dec('FFF'))\n",
    "print(hex_to_dec('123'))"
   ]
  },
  {
   "cell_type": "markdown",
   "metadata": {},
   "source": [
    "### Ejercicio 2\n",
    "\n",
    "\n",
    "Escribid una función que dado un número entero positivo, `N`, genere un archivo con el nombre` output.txt` que contendrá `N` líneas, donde cada línea deberá mostrar un número consecutivo de letras` A`.\n",
    "\n",
    "Por ejemplo, si `N = 4`, el archivo generado deberá tener el siguiente contenido:\n",
    "\n",
    "```\n",
    "A\n",
    "AA\n",
    "AAA\n",
    "AAAA\n",
    "```\n",
    "\n",
    "\n",
    "**Respuesta**"
   ]
  },
  {
   "cell_type": "code",
   "execution_count": 18,
   "metadata": {},
   "outputs": [],
   "source": [
    "# Definimos una función que recibirá un número entero por parámetro\n",
    "def generar_archivo(N):\n",
    "    # Abrimos el archivo output.txt en modo escritura.\n",
    "    # El parámetro 'w' hará que si el archivo existe, éste se sobrescribirá\n",
    "    with open('output.txt', 'w') as fd: \n",
    " \n",
    "        # Recorremos el rango [0 ... N-1] \n",
    "        for i in range(N): \n",
    "            # Generamos una cadena con un número ascendente de caracteres A\n",
    "            linea = 'A' * (i + 1) \n",
    "            # Escribimos cada cadena generada en el fichero, añadiendo un salto de línea\n",
    "            fd.write(linea + '\\n') \n",
    "\n",
    "generar_archivo(4)"
   ]
  },
  {
   "cell_type": "markdown",
   "metadata": {},
   "source": [
    "### Ejercicio 3\n",
    "\n",
    "Completad el código necesario para calcular el número de vocales y de consonantes respectivamente de un texto.\n",
    "\n",
    "**Respuesta**"
   ]
  },
  {
   "cell_type": "code",
   "execution_count": 19,
   "metadata": {},
   "outputs": [
    {
     "name": "stdout",
     "output_type": "stream",
     "text": [
      "El numero de vocales és 44.\n",
      "El numero de consonantes és 62.\n"
     ]
    }
   ],
   "source": [
    "def contar_vocales_y_consonantes(text):\n",
    "    # Cuenta las vocales contenidas en el string texto y también las consonantes.\n",
    "    num_vocales = 0\n",
    "    num_consonantes = 0\n",
    "\n",
    "    # Definimos una lista con las vocales\n",
    "    vocales = ['a', 'e', 'i', 'o', 'u']\n",
    "    \n",
    "    for c in text.lower(): # Podemos convertir el texto en minúsculas para simplificar los cálculos\n",
    "        if c in vocales:\n",
    "            num_vocales = num_vocales + 1\n",
    "        elif c > 'a' and c <= 'z':\n",
    "            num_consonantes = num_consonantes + 1\n",
    "\n",
    "    return (num_vocales, num_consonantes)\n",
    "\n",
    "texto = \"Orbiting Earth in the spaceship, I saw how beautiful our planet is. \\\n",
    "            People, let us preserve and increase this beauty, not destroy it!\"\n",
    "\n",
    "num_vocales, num_consonantes = contar_vocales_y_consonantes(texto)\n",
    "print( \"El numero de vocales es %d.\" % num_vocales)\n",
    "print( \"El numero de consonantes es %d.\" % num_consonantes)"
   ]
  },
  {
   "cell_type": "markdown",
   "metadata": {},
   "source": [
    "### Ejercicio 4 \n",
    "\n",
    "Escribe una función con argumento en forma de lista $lista = [a, b, c,\\ldots]$ que **devuelva una función** que calcule el polinomio $f(x) = a + b\\cdot x+c\\cdot x^2+\\cdots$. Hay muchas formas de resolver este ejercicio. Puedes ayudarte de la función `eval()`, un `for` funciones lambda, map/reduce o la función `zip()`<span style=\"font-family: Courier New; background-color: #f2ae72; color: #000000; padding: 3px; \">EI</span>\n",
    "\n"
   ]
  },
  {
   "cell_type": "code",
   "execution_count": 59,
   "metadata": {},
   "outputs": [
    {
     "name": "stdout",
     "output_type": "stream",
     "text": [
      "+1*x**0 +2*x**1 +3*x**2 +4*x**3 \n"
     ]
    },
    {
     "data": {
      "text/plain": [
       "142"
      ]
     },
     "execution_count": 59,
     "metadata": {},
     "output_type": "execute_result"
    }
   ],
   "source": [
    "# Respuesta\n",
    "\n",
    "# Solución en base a un for\n",
    "def creador(lista):\n",
    "    # Definición de la función\n",
    "    def pol(x):\n",
    "        toeval = \"\"\n",
    "        for coef,expo in enumerate(lista):\n",
    "            toeval += '+'+ str(expo)+ \"*x**\"+str(coef) + ' '           \n",
    "        print(toeval)\n",
    "        return(eval(toeval))\n",
    "    return(pol)\n",
    "        \n",
    "f = creador([1,2,3,4])\n",
    "f(3)"
   ]
  },
  {
   "cell_type": "code",
   "execution_count": 58,
   "metadata": {},
   "outputs": [
    {
     "name": "stdout",
     "output_type": "stream",
     "text": [
      "1*x**0 + 2*x**1 + 3*x**2 + 4*x**3\n"
     ]
    },
    {
     "data": {
      "text/plain": [
       "142"
      ]
     },
     "execution_count": 58,
     "metadata": {},
     "output_type": "execute_result"
    }
   ],
   "source": [
    "# Respuesta\n",
    "from functools import reduce #  debemos importar reduce\n",
    "\n",
    "def creador(lista):\n",
    "    # Esta solución usa map/reduce/zip en vez un for\n",
    "    def concat(a,b): #función para concatenar  term1+term2 \n",
    "        return(a+' + '+b)\n",
    "    def element(t): # función para construir un término del polinomio c*x^d\n",
    "        return( str(t[0])+\"*x**\"+str(t[1]) )\n",
    "    def pol(x):\n",
    "        toeval= reduce(concat,map(element, \n",
    "                          zip(lista,range(len(lista))))) # zip devuelve tuplas con los elemetos de pares de cada lista\n",
    "        print(toeval)\n",
    "        return(eval(toeval))\n",
    "    return(pol)\n",
    "        \n",
    "f = creador([1,2,3,4])\n",
    "f(3)"
   ]
  },
  {
   "cell_type": "code",
   "execution_count": 62,
   "metadata": {},
   "outputs": [
    {
     "data": {
      "text/plain": [
       "142"
      ]
     },
     "execution_count": 62,
     "metadata": {},
     "output_type": "execute_result"
    }
   ],
   "source": [
    "# Respuesta\n",
    "# Una versión más compacta con definiciones lambda\n",
    "from functools import reduce #  debemos importar reduce\n",
    "\n",
    "def creador(lista):\n",
    "    # Definición de la función     \n",
    "    def pol(x):\n",
    "        out = eval(reduce(lambda a,b: a+'+'+b,\n",
    "                    map(lambda t: str(t[0])+\"*x**\"+str(t[1]), \n",
    "                        zip(lista,range(len(lista))))))\n",
    "        return(out)\n",
    "    return(pol)\n",
    "        \n",
    "f = creador([1,2,3,4])\n",
    "f(3)"
   ]
  }
 ],
 "metadata": {
  "kernelspec": {
   "display_name": "Python 3",
   "language": "python",
   "name": "python3"
  },
  "language_info": {
   "codemirror_mode": {
    "name": "ipython",
    "version": 3
   },
   "file_extension": ".py",
   "mimetype": "text/x-python",
   "name": "python",
   "nbconvert_exporter": "python",
   "pygments_lexer": "ipython3",
   "version": "3.7.6"
  }
 },
 "nbformat": 4,
 "nbformat_minor": 1
}
